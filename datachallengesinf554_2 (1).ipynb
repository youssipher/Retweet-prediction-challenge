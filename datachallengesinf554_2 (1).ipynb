{
  "cells": [
    {
      "cell_type": "code",
      "source": [],
      "metadata": {
        "id": "r_XmJr3vvFJt"
      },
      "id": "r_XmJr3vvFJt",
      "execution_count": null,
      "outputs": []
    },
    {
      "cell_type": "markdown",
      "metadata": {
        "id": "m8J1eozVt0XR"
      },
      "source": [
        "## INF554 - Machine and Deep Learning Data Challenge: Retweet Prediction\n",
        "### INF554-Retweet Prediction Challenge \n",
        "#### Team members:\n",
        "##### Talba Youssoufa Mamoudou\n",
        "##### Alhussein jamil\n",
        "##### Gnabeyeu Mbiada Emmanuel\n",
        "Given a collection of tweets related to the French elections predict the number of retweets"
      ],
      "id": "m8J1eozVt0XR"
    },
    {
      "cell_type": "markdown",
      "id": "82e12436",
      "metadata": {
        "id": "82e12436"
      },
      "source": [
        "### Introduction\n",
        ">The goal of this data challenge is to study and apply machine learning/artificial intelligence techniques to a real-world regression problem. In this regression problem, your mission is to build a model that can accurately predict the number of retweets a tweet will get. We provide a novel Twitter dataset with the 2022 French presidential election as the central topic. The tweets used for building this dataset date from February 14, 2022 to April 5, 2022. This dataset1 corresponds to a large and coherent corpus consisting of small pieces of text related to the election candidates and major events during their campaigns.\n",
        "\n",
        ">For each tweet in the test set, our model should predict the number of retweets it will get after its publication. The evaluation metric for this competition is the Mean Absolute Error (MAE). The MAE metric is calculated by dividing the sum of absolute differences between the predicted number of retweets (pi) and the observed number of retweets (ai) by the number of observations (N), i.e., $𝑀𝐴𝐸 =  \\frac{1}{N} \\sum_{i=1}^N  |p_𝑖 − a_𝑖|$\n",
        "\n",
        "> We aim for the minimum Mean Absolute Error (MAE) to evaluate our models, i.e., the MAE will be the loss function we use to evaluate our models."
      ]
    },
    {
      "cell_type": "code",
      "execution_count": null,
      "metadata": {
        "execution": {
          "iopub.execute_input": "2022-12-02T08:14:45.566530Z",
          "iopub.status.busy": "2022-12-02T08:14:45.566181Z",
          "iopub.status.idle": "2022-12-02T08:14:45.571286Z",
          "shell.execute_reply": "2022-12-02T08:14:45.570426Z",
          "shell.execute_reply.started": "2022-12-02T08:14:45.566487Z"
        },
        "trusted": true,
        "id": "wdyXASuqt0XT"
      },
      "outputs": [],
      "source": [
        "# Supressing the warning messages\n",
        "import warnings\n",
        "import logging\n",
        "warnings.filterwarnings('ignore')"
      ],
      "id": "wdyXASuqt0XT"
    },
    {
      "cell_type": "code",
      "execution_count": null,
      "id": "f02059ad",
      "metadata": {
        "id": "f02059ad",
        "outputId": "6626cf56-3478-401b-fb46-83478cc44805"
      },
      "outputs": [
        {
          "name": "stdout",
          "output_type": "stream",
          "text": [
            "Requirement already satisfied: scikit-learn in /Users/gnabeyeuemmanuel/opt/anaconda3/lib/python3.8/site-packages (1.0.2)\n",
            "Collecting scikit-learn\n",
            "  Downloading scikit_learn-1.1.3-cp38-cp38-macosx_10_9_x86_64.whl (8.6 MB)\n",
            "\u001b[K     |████████████████████████████████| 8.6 MB 2.3 MB/s eta 0:00:01\n",
            "\u001b[?25hRequirement already satisfied: numpy>=1.17.3 in /Users/gnabeyeuemmanuel/opt/anaconda3/lib/python3.8/site-packages (from scikit-learn) (1.20.3)\n",
            "Requirement already satisfied: joblib>=1.0.0 in /Users/gnabeyeuemmanuel/opt/anaconda3/lib/python3.8/site-packages (from scikit-learn) (1.1.0)\n",
            "Requirement already satisfied: threadpoolctl>=2.0.0 in /Users/gnabeyeuemmanuel/opt/anaconda3/lib/python3.8/site-packages (from scikit-learn) (2.2.0)\n",
            "Requirement already satisfied: scipy>=1.3.2 in /Users/gnabeyeuemmanuel/opt/anaconda3/lib/python3.8/site-packages (from scikit-learn) (1.7.3)\n",
            "Installing collected packages: scikit-learn\n",
            "  Attempting uninstall: scikit-learn\n",
            "    Found existing installation: scikit-learn 1.0.2\n",
            "    Uninstalling scikit-learn-1.0.2:\n",
            "      Successfully uninstalled scikit-learn-1.0.2\n",
            "Successfully installed scikit-learn-1.1.3\n",
            "Collecting tensorflow_probability==0.12.2\n",
            "  Downloading tensorflow_probability-0.12.2-py2.py3-none-any.whl (4.8 MB)\n",
            "\u001b[K     |████████████████████████████████| 4.8 MB 8.6 MB/s eta 0:00:01\n",
            "\u001b[?25hRequirement already satisfied: numpy>=1.13.3 in /Users/gnabeyeuemmanuel/opt/anaconda3/lib/python3.8/site-packages (from tensorflow_probability==0.12.2) (1.20.3)\n",
            "Requirement already satisfied: decorator in /Users/gnabeyeuemmanuel/opt/anaconda3/lib/python3.8/site-packages (from tensorflow_probability==0.12.2) (5.1.1)\n",
            "Collecting dm-tree\n",
            "  Downloading dm_tree-0.1.7-cp38-cp38-macosx_10_9_x86_64.whl (109 kB)\n",
            "\u001b[K     |████████████████████████████████| 109 kB 9.1 MB/s eta 0:00:01\n",
            "\u001b[?25hRequirement already satisfied: cloudpickle>=1.3 in /Users/gnabeyeuemmanuel/opt/anaconda3/lib/python3.8/site-packages (from tensorflow_probability==0.12.2) (2.0.0)\n",
            "Requirement already satisfied: six>=1.10.0 in /Users/gnabeyeuemmanuel/opt/anaconda3/lib/python3.8/site-packages (from tensorflow_probability==0.12.2) (1.16.0)\n",
            "Requirement already satisfied: gast>=0.3.2 in /Users/gnabeyeuemmanuel/opt/anaconda3/lib/python3.8/site-packages (from tensorflow_probability==0.12.2) (0.4.0)\n",
            "Installing collected packages: dm-tree, tensorflow-probability\n",
            "Successfully installed dm-tree-0.1.7 tensorflow-probability-0.12.2\n",
            "zsh:1: 4.0 not found\n",
            "Requirement already satisfied: tensorflow in /Users/gnabeyeuemmanuel/opt/anaconda3/lib/python3.8/site-packages (2.6.0)\n",
            "Collecting typing-extensions~=3.7.4\n",
            "  Downloading typing_extensions-3.7.4.3-py3-none-any.whl (22 kB)\n",
            "Requirement already satisfied: h5py~=3.1.0 in /Users/gnabeyeuemmanuel/opt/anaconda3/lib/python3.8/site-packages (from tensorflow) (3.1.0)\n",
            "Collecting numpy~=1.19.2\n",
            "  Using cached numpy-1.19.5-cp38-cp38-macosx_10_9_x86_64.whl (15.6 MB)\n",
            "Collecting six~=1.15.0\n",
            "  Downloading six-1.15.0-py2.py3-none-any.whl (10 kB)\n",
            "Requirement already satisfied: keras~=2.6 in /Users/gnabeyeuemmanuel/opt/anaconda3/lib/python3.8/site-packages (from tensorflow) (2.6.0)\n",
            "Requirement already satisfied: protobuf>=3.9.2 in /Users/gnabeyeuemmanuel/opt/anaconda3/lib/python3.8/site-packages (from tensorflow) (3.17.3)\n",
            "Requirement already satisfied: grpcio<2.0,>=1.37.0 in /Users/gnabeyeuemmanuel/opt/anaconda3/lib/python3.8/site-packages (from tensorflow) (1.39.0)\n",
            "Requirement already satisfied: termcolor~=1.1.0 in /Users/gnabeyeuemmanuel/opt/anaconda3/lib/python3.8/site-packages (from tensorflow) (1.1.0)\n",
            "Requirement already satisfied: absl-py~=0.10 in /Users/gnabeyeuemmanuel/opt/anaconda3/lib/python3.8/site-packages (from tensorflow) (0.13.0)\n",
            "Requirement already satisfied: astunparse~=1.6.3 in /Users/gnabeyeuemmanuel/opt/anaconda3/lib/python3.8/site-packages (from tensorflow) (1.6.3)\n",
            "Requirement already satisfied: keras-preprocessing~=1.1.2 in /Users/gnabeyeuemmanuel/opt/anaconda3/lib/python3.8/site-packages (from tensorflow) (1.1.2)\n",
            "Requirement already satisfied: clang~=5.0 in /Users/gnabeyeuemmanuel/opt/anaconda3/lib/python3.8/site-packages (from tensorflow) (5.0)\n",
            "Requirement already satisfied: opt-einsum~=3.3.0 in /Users/gnabeyeuemmanuel/opt/anaconda3/lib/python3.8/site-packages (from tensorflow) (3.3.0)\n",
            "Requirement already satisfied: flatbuffers~=1.12.0 in /Users/gnabeyeuemmanuel/opt/anaconda3/lib/python3.8/site-packages (from tensorflow) (1.12)\n",
            "Requirement already satisfied: google-pasta~=0.2 in /Users/gnabeyeuemmanuel/opt/anaconda3/lib/python3.8/site-packages (from tensorflow) (0.2.0)\n",
            "Requirement already satisfied: tensorboard~=2.6 in /Users/gnabeyeuemmanuel/opt/anaconda3/lib/python3.8/site-packages (from tensorflow) (2.6.0)\n",
            "Requirement already satisfied: gast==0.4.0 in /Users/gnabeyeuemmanuel/opt/anaconda3/lib/python3.8/site-packages (from tensorflow) (0.4.0)\n",
            "Requirement already satisfied: wheel~=0.35 in /Users/gnabeyeuemmanuel/opt/anaconda3/lib/python3.8/site-packages (from tensorflow) (0.37.1)\n",
            "Requirement already satisfied: wrapt~=1.12.1 in /Users/gnabeyeuemmanuel/opt/anaconda3/lib/python3.8/site-packages (from tensorflow) (1.12.1)\n",
            "Requirement already satisfied: tensorflow-estimator~=2.6 in /Users/gnabeyeuemmanuel/opt/anaconda3/lib/python3.8/site-packages (from tensorflow) (2.6.0)\n",
            "Requirement already satisfied: google-auth<2,>=1.6.3 in /Users/gnabeyeuemmanuel/opt/anaconda3/lib/python3.8/site-packages (from tensorboard~=2.6->tensorflow) (1.35.0)\n",
            "Requirement already satisfied: tensorboard-plugin-wit>=1.6.0 in /Users/gnabeyeuemmanuel/opt/anaconda3/lib/python3.8/site-packages (from tensorboard~=2.6->tensorflow) (1.8.0)\n",
            "Requirement already satisfied: setuptools>=41.0.0 in /Users/gnabeyeuemmanuel/opt/anaconda3/lib/python3.8/site-packages (from tensorboard~=2.6->tensorflow) (58.0.4)\n",
            "Requirement already satisfied: werkzeug>=0.11.15 in /Users/gnabeyeuemmanuel/opt/anaconda3/lib/python3.8/site-packages (from tensorboard~=2.6->tensorflow) (2.0.3)\n",
            "Requirement already satisfied: markdown>=2.6.8 in /Users/gnabeyeuemmanuel/opt/anaconda3/lib/python3.8/site-packages (from tensorboard~=2.6->tensorflow) (3.3.4)\n",
            "Requirement already satisfied: requests<3,>=2.21.0 in /Users/gnabeyeuemmanuel/opt/anaconda3/lib/python3.8/site-packages (from tensorboard~=2.6->tensorflow) (2.27.1)\n",
            "Requirement already satisfied: google-auth-oauthlib<0.5,>=0.4.1 in /Users/gnabeyeuemmanuel/opt/anaconda3/lib/python3.8/site-packages (from tensorboard~=2.6->tensorflow) (0.4.5)\n",
            "Requirement already satisfied: tensorboard-data-server<0.7.0,>=0.6.0 in /Users/gnabeyeuemmanuel/opt/anaconda3/lib/python3.8/site-packages (from tensorboard~=2.6->tensorflow) (0.6.1)\n",
            "Requirement already satisfied: pyasn1-modules>=0.2.1 in /Users/gnabeyeuemmanuel/opt/anaconda3/lib/python3.8/site-packages (from google-auth<2,>=1.6.3->tensorboard~=2.6->tensorflow) (0.2.8)\n",
            "Requirement already satisfied: rsa<5,>=3.1.4 in /Users/gnabeyeuemmanuel/opt/anaconda3/lib/python3.8/site-packages (from google-auth<2,>=1.6.3->tensorboard~=2.6->tensorflow) (4.7.2)\n",
            "Requirement already satisfied: cachetools<5.0,>=2.0.0 in /Users/gnabeyeuemmanuel/opt/anaconda3/lib/python3.8/site-packages (from google-auth<2,>=1.6.3->tensorboard~=2.6->tensorflow) (4.2.2)\n",
            "Requirement already satisfied: requests-oauthlib>=0.7.0 in /Users/gnabeyeuemmanuel/opt/anaconda3/lib/python3.8/site-packages (from google-auth-oauthlib<0.5,>=0.4.1->tensorboard~=2.6->tensorflow) (1.3.0)\n",
            "Requirement already satisfied: pyasn1<0.5.0,>=0.4.6 in /Users/gnabeyeuemmanuel/opt/anaconda3/lib/python3.8/site-packages (from pyasn1-modules>=0.2.1->google-auth<2,>=1.6.3->tensorboard~=2.6->tensorflow) (0.4.8)\n",
            "Requirement already satisfied: urllib3<1.27,>=1.21.1 in /Users/gnabeyeuemmanuel/opt/anaconda3/lib/python3.8/site-packages (from requests<3,>=2.21.0->tensorboard~=2.6->tensorflow) (1.26.8)\n",
            "Requirement already satisfied: idna<4,>=2.5 in /Users/gnabeyeuemmanuel/opt/anaconda3/lib/python3.8/site-packages (from requests<3,>=2.21.0->tensorboard~=2.6->tensorflow) (3.3)\n",
            "Requirement already satisfied: charset-normalizer~=2.0.0 in /Users/gnabeyeuemmanuel/opt/anaconda3/lib/python3.8/site-packages (from requests<3,>=2.21.0->tensorboard~=2.6->tensorflow) (2.0.4)\n",
            "Requirement already satisfied: certifi>=2017.4.17 in /Users/gnabeyeuemmanuel/opt/anaconda3/lib/python3.8/site-packages (from requests<3,>=2.21.0->tensorboard~=2.6->tensorflow) (2021.10.8)\n",
            "Requirement already satisfied: oauthlib>=3.0.0 in /Users/gnabeyeuemmanuel/opt/anaconda3/lib/python3.8/site-packages (from requests-oauthlib>=0.7.0->google-auth-oauthlib<0.5,>=0.4.1->tensorboard~=2.6->tensorflow) (3.1.1)\n",
            "Installing collected packages: six, numpy, typing-extensions\n",
            "  Attempting uninstall: six\n",
            "    Found existing installation: six 1.16.0\n",
            "    Uninstalling six-1.16.0:\n",
            "      Successfully uninstalled six-1.16.0\n",
            "  Attempting uninstall: numpy\n",
            "    Found existing installation: numpy 1.20.3\n",
            "    Uninstalling numpy-1.20.3:\n",
            "      Successfully uninstalled numpy-1.20.3\n",
            "  Attempting uninstall: typing-extensions\n",
            "    Found existing installation: typing-extensions 3.10.0.2\n",
            "    Uninstalling typing-extensions-3.10.0.2:\n",
            "      Successfully uninstalled typing-extensions-3.10.0.2\n",
            "\u001b[31mERROR: pip's dependency resolver does not currently take into account all the packages that are installed. This behaviour is the source of the following dependency conflicts.\n",
            "daal4py 2021.5.0 requires daal==2021.4.0, which is not installed.\n",
            "conda-repo-cli 1.0.4 requires pathlib, which is not installed.\n",
            "bokeh 2.4.2 requires typing-extensions>=3.10.0, but you have typing-extensions 3.7.4.3 which is incompatible.\u001b[0m\n",
            "Successfully installed numpy-1.19.5 six-1.15.0 typing-extensions-3.7.4.3\n",
            "Collecting sentencepiece\n",
            "  Downloading sentencepiece-0.1.97-cp38-cp38-macosx_10_9_x86_64.whl (1.2 MB)\n",
            "\u001b[K     |████████████████████████████████| 1.2 MB 5.0 MB/s eta 0:00:01\n",
            "\u001b[?25hInstalling collected packages: sentencepiece\n",
            "Successfully installed sentencepiece-0.1.97\n",
            "Collecting verstack\n",
            "  Downloading verstack-3.3.3.tar.gz (9.6 MB)\n",
            "\u001b[K     |████████████████████████████████| 9.6 MB 5.2 MB/s eta 0:00:01\n",
            "\u001b[?25hRequirement already satisfied: pandas in /Users/gnabeyeuemmanuel/opt/anaconda3/lib/python3.8/site-packages (from verstack) (1.4.1)\n",
            "Requirement already satisfied: numpy in /Users/gnabeyeuemmanuel/opt/anaconda3/lib/python3.8/site-packages (from verstack) (1.19.5)\n",
            "Requirement already satisfied: xgboost in /Users/gnabeyeuemmanuel/opt/anaconda3/lib/python3.8/site-packages (from verstack) (1.7.1)\n",
            "Requirement already satisfied: scikit-learn<=1.1.3,>=0.23.2 in /Users/gnabeyeuemmanuel/opt/anaconda3/lib/python3.8/site-packages (from verstack) (1.1.3)\n",
            "Collecting lightgbm<=3.3.2,>=3.3.0\n",
            "  Downloading lightgbm-3.3.2-py3-none-macosx_10_14_x86_64.macosx_10_15_x86_64.macosx_11_0_x86_64.whl (1.2 MB)\n",
            "\u001b[K     |████████████████████████████████| 1.2 MB 5.2 MB/s eta 0:00:01\n",
            "\u001b[?25hCollecting optuna<=3.0.4,>=2.10.0\n",
            "  Downloading optuna-3.0.4-py3-none-any.whl (348 kB)\n",
            "\u001b[K     |████████████████████████████████| 348 kB 8.2 MB/s eta 0:00:01     |█████████████████████████▍      | 276 kB 8.2 MB/s eta 0:00:01\n",
            "\u001b[?25hRequirement already satisfied: plotly<=5.11.0,>=5.3.1 in /Users/gnabeyeuemmanuel/opt/anaconda3/lib/python3.8/site-packages (from verstack) (5.11.0)\n",
            "Requirement already satisfied: matplotlib in /Users/gnabeyeuemmanuel/opt/anaconda3/lib/python3.8/site-packages (from verstack) (3.5.1)\n",
            "Requirement already satisfied: python-dateutil<=2.8.2,>=2.8.1 in /Users/gnabeyeuemmanuel/opt/anaconda3/lib/python3.8/site-packages (from verstack) (2.8.2)\n",
            "Collecting holidays==0.11.3.1\n",
            "  Downloading holidays-0.11.3.1-py3-none-any.whl (155 kB)\n",
            "\u001b[K     |████████████████████████████████| 155 kB 7.9 MB/s eta 0:00:01\n",
            "\u001b[?25hCollecting mlxtend\n",
            "  Downloading mlxtend-0.21.0-py2.py3-none-any.whl (1.3 MB)\n",
            "\u001b[K     |████████████████████████████████| 1.3 MB 5.0 MB/s eta 0:00:01\n",
            "\u001b[?25hCollecting tensorflow<=2.11.0,>=2.7.0\n",
            "  Downloading tensorflow-2.11.0-cp38-cp38-macosx_10_14_x86_64.whl (244.3 MB)\n",
            "\u001b[K     |████████████████████████████████| 244.3 MB 47 kB/s  eta 0:00:012eta 0:00:43     |███████████████████████████     | 206.4 MB 11.6 MB/s eta 0:00:04\n",
            "\u001b[?25hCollecting keras<=2.11.0,>=2.7.0\n",
            "  Downloading keras-2.11.0-py2.py3-none-any.whl (1.7 MB)\n",
            "\u001b[K     |████████████████████████████████| 1.7 MB 8.5 MB/s eta 0:00:01\n",
            "\u001b[?25hCollecting category_encoders<=2.5.1,>=2.4.0\n",
            "  Downloading category_encoders-2.5.1-py2.py3-none-any.whl (71 kB)\n",
            "\u001b[K     |████████████████████████████████| 71 kB 7.4 MB/s eta 0:00:01\n",
            "\u001b[?25hCollecting korean-lunar-calendar\n",
            "  Downloading korean_lunar_calendar-0.3.1-py3-none-any.whl (9.0 kB)\n",
            "Collecting convertdate>=2.3.0\n",
            "  Downloading convertdate-2.4.0-py3-none-any.whl (47 kB)\n",
            "\u001b[K     |████████████████████████████████| 47 kB 7.2 MB/s eta 0:00:01\n",
            "\u001b[?25hCollecting hijri-converter\n",
            "  Downloading hijri_converter-2.2.4-py3-none-any.whl (14 kB)\n",
            "Requirement already satisfied: scipy>=1.0.0 in /Users/gnabeyeuemmanuel/opt/anaconda3/lib/python3.8/site-packages (from category_encoders<=2.5.1,>=2.4.0->verstack) (1.7.3)\n",
            "Requirement already satisfied: patsy>=0.5.1 in /Users/gnabeyeuemmanuel/opt/anaconda3/lib/python3.8/site-packages (from category_encoders<=2.5.1,>=2.4.0->verstack) (0.5.2)\n",
            "Requirement already satisfied: statsmodels>=0.9.0 in /Users/gnabeyeuemmanuel/opt/anaconda3/lib/python3.8/site-packages (from category_encoders<=2.5.1,>=2.4.0->verstack) (0.12.2)\n",
            "Collecting pymeeus<=1,>=0.3.13\n",
            "  Downloading PyMeeus-0.5.11.tar.gz (5.4 MB)\n",
            "\u001b[K     |████████████████████████████████| 5.4 MB 2.0 MB/s eta 0:00:01\n",
            "\u001b[?25hRequirement already satisfied: wheel in /Users/gnabeyeuemmanuel/opt/anaconda3/lib/python3.8/site-packages (from lightgbm<=3.3.2,>=3.3.0->verstack) (0.37.1)\n",
            "Collecting alembic>=1.5.0\n",
            "  Downloading alembic-1.8.1-py3-none-any.whl (209 kB)\n",
            "\u001b[K     |████████████████████████████████| 209 kB 8.7 MB/s eta 0:00:01\n",
            "\u001b[?25hCollecting cliff\n",
            "  Downloading cliff-4.1.0-py3-none-any.whl (81 kB)\n",
            "\u001b[K     |████████████████████████████████| 81 kB 7.4 MB/s eta 0:00:01\n",
            "\u001b[?25hRequirement already satisfied: importlib-metadata<5.0.0 in /Users/gnabeyeuemmanuel/opt/anaconda3/lib/python3.8/site-packages (from optuna<=3.0.4,>=2.10.0->verstack) (4.8.2)\n",
            "Requirement already satisfied: PyYAML in /Users/gnabeyeuemmanuel/opt/anaconda3/lib/python3.8/site-packages (from optuna<=3.0.4,>=2.10.0->verstack) (6.0)\n",
            "Collecting cmaes>=0.8.2\n",
            "  Downloading cmaes-0.9.0-py3-none-any.whl (23 kB)\n",
            "Requirement already satisfied: packaging>=20.0 in /Users/gnabeyeuemmanuel/opt/anaconda3/lib/python3.8/site-packages (from optuna<=3.0.4,>=2.10.0->verstack) (21.3)\n",
            "Requirement already satisfied: sqlalchemy>=1.3.0 in /Users/gnabeyeuemmanuel/opt/anaconda3/lib/python3.8/site-packages (from optuna<=3.0.4,>=2.10.0->verstack) (1.4.27)\n",
            "Collecting colorlog\n",
            "  Downloading colorlog-6.7.0-py2.py3-none-any.whl (11 kB)\n",
            "Requirement already satisfied: tqdm in /Users/gnabeyeuemmanuel/opt/anaconda3/lib/python3.8/site-packages (from optuna<=3.0.4,>=2.10.0->verstack) (4.62.3)\n",
            "Collecting Mako\n",
            "  Downloading Mako-1.2.4-py3-none-any.whl (78 kB)\n",
            "\u001b[K     |████████████████████████████████| 78 kB 4.6 MB/s eta 0:00:01\n",
            "\u001b[?25hCollecting importlib-resources\n",
            "  Downloading importlib_resources-5.10.1-py3-none-any.whl (34 kB)\n",
            "Requirement already satisfied: zipp>=0.5 in /Users/gnabeyeuemmanuel/opt/anaconda3/lib/python3.8/site-packages (from importlib-metadata<5.0.0->optuna<=3.0.4,>=2.10.0->verstack) (3.7.0)\n",
            "Requirement already satisfied: pyparsing!=3.0.5,>=2.0.2 in /Users/gnabeyeuemmanuel/opt/anaconda3/lib/python3.8/site-packages (from packaging>=20.0->optuna<=3.0.4,>=2.10.0->verstack) (3.0.4)\n",
            "Requirement already satisfied: pytz>=2020.1 in /Users/gnabeyeuemmanuel/opt/anaconda3/lib/python3.8/site-packages (from pandas->verstack) (2021.3)\n",
            "Requirement already satisfied: six in /Users/gnabeyeuemmanuel/opt/anaconda3/lib/python3.8/site-packages (from patsy>=0.5.1->category_encoders<=2.5.1,>=2.4.0->verstack) (1.15.0)\n",
            "Requirement already satisfied: tenacity>=6.2.0 in /Users/gnabeyeuemmanuel/opt/anaconda3/lib/python3.8/site-packages (from plotly<=5.11.0,>=5.3.1->verstack) (8.1.0)\n",
            "Requirement already satisfied: threadpoolctl>=2.0.0 in /Users/gnabeyeuemmanuel/opt/anaconda3/lib/python3.8/site-packages (from scikit-learn<=1.1.3,>=0.23.2->verstack) (2.2.0)\n",
            "Requirement already satisfied: joblib>=1.0.0 in /Users/gnabeyeuemmanuel/opt/anaconda3/lib/python3.8/site-packages (from scikit-learn<=1.1.3,>=0.23.2->verstack) (1.1.0)\n",
            "Requirement already satisfied: greenlet!=0.4.17 in /Users/gnabeyeuemmanuel/opt/anaconda3/lib/python3.8/site-packages (from sqlalchemy>=1.3.0->optuna<=3.0.4,>=2.10.0->verstack) (1.1.1)\n",
            "Requirement already satisfied: typing-extensions>=3.6.6 in /Users/gnabeyeuemmanuel/opt/anaconda3/lib/python3.8/site-packages (from tensorflow<=2.11.0,>=2.7.0->verstack) (3.7.4.3)\n",
            "Requirement already satisfied: grpcio<2.0,>=1.24.3 in /Users/gnabeyeuemmanuel/opt/anaconda3/lib/python3.8/site-packages (from tensorflow<=2.11.0,>=2.7.0->verstack) (1.39.0)\n",
            "Requirement already satisfied: termcolor>=1.1.0 in /Users/gnabeyeuemmanuel/opt/anaconda3/lib/python3.8/site-packages (from tensorflow<=2.11.0,>=2.7.0->verstack) (1.1.0)\n",
            "Collecting libclang>=13.0.0\n",
            "  Downloading libclang-14.0.6-py2.py3-none-macosx_10_9_x86_64.whl (13.2 MB)\n",
            "\u001b[K     |████████████████████████████████| 13.2 MB 9.3 MB/s eta 0:00:01\n",
            "\u001b[?25hRequirement already satisfied: protobuf<3.20,>=3.9.2 in /Users/gnabeyeuemmanuel/opt/anaconda3/lib/python3.8/site-packages (from tensorflow<=2.11.0,>=2.7.0->verstack) (3.17.3)\n",
            "Requirement already satisfied: google-pasta>=0.1.1 in /Users/gnabeyeuemmanuel/opt/anaconda3/lib/python3.8/site-packages (from tensorflow<=2.11.0,>=2.7.0->verstack) (0.2.0)\n",
            "Collecting tensorflow-estimator<2.12,>=2.11.0\n",
            "  Downloading tensorflow_estimator-2.11.0-py2.py3-none-any.whl (439 kB)\n",
            "\u001b[K     |████████████████████████████████| 439 kB 8.7 MB/s eta 0:00:01\n",
            "\u001b[?25hRequirement already satisfied: astunparse>=1.6.0 in /Users/gnabeyeuemmanuel/opt/anaconda3/lib/python3.8/site-packages (from tensorflow<=2.11.0,>=2.7.0->verstack) (1.6.3)\n",
            "Requirement already satisfied: setuptools in /Users/gnabeyeuemmanuel/opt/anaconda3/lib/python3.8/site-packages (from tensorflow<=2.11.0,>=2.7.0->verstack) (58.0.4)\n",
            "Requirement already satisfied: opt-einsum>=2.3.2 in /Users/gnabeyeuemmanuel/opt/anaconda3/lib/python3.8/site-packages (from tensorflow<=2.11.0,>=2.7.0->verstack) (3.3.0)\n",
            "Requirement already satisfied: h5py>=2.9.0 in /Users/gnabeyeuemmanuel/opt/anaconda3/lib/python3.8/site-packages (from tensorflow<=2.11.0,>=2.7.0->verstack) (3.1.0)\n",
            "Requirement already satisfied: gast<=0.4.0,>=0.2.1 in /Users/gnabeyeuemmanuel/opt/anaconda3/lib/python3.8/site-packages (from tensorflow<=2.11.0,>=2.7.0->verstack) (0.4.0)\n",
            "Requirement already satisfied: wrapt>=1.11.0 in /Users/gnabeyeuemmanuel/opt/anaconda3/lib/python3.8/site-packages (from tensorflow<=2.11.0,>=2.7.0->verstack) (1.12.1)\n",
            "Collecting flatbuffers>=2.0\n",
            "  Downloading flatbuffers-22.12.6-py2.py3-none-any.whl (26 kB)\n",
            "Collecting numpy\n",
            "  Downloading numpy-1.22.4-cp38-cp38-macosx_10_15_x86_64.whl (17.6 MB)\n",
            "\u001b[K     |████████████████████████████████| 17.6 MB 5.4 MB/s eta 0:00:011\n",
            "\u001b[?25hCollecting tensorboard<2.12,>=2.11\n",
            "  Downloading tensorboard-2.11.0-py3-none-any.whl (6.0 MB)\n",
            "\u001b[K     |████████████████████████████████| 6.0 MB 9.5 MB/s eta 0:00:01\n",
            "\u001b[?25hCollecting absl-py>=1.0.0\n",
            "  Downloading absl_py-1.3.0-py3-none-any.whl (124 kB)\n",
            "\u001b[K     |████████████████████████████████| 124 kB 4.2 MB/s eta 0:00:01\n",
            "\u001b[?25hCollecting tensorflow-io-gcs-filesystem>=0.23.1\n",
            "  Downloading tensorflow_io_gcs_filesystem-0.28.0-cp38-cp38-macosx_10_14_x86_64.whl (1.6 MB)\n",
            "\u001b[K     |████████████████████████████████| 1.6 MB 4.4 MB/s eta 0:00:01\n",
            "\u001b[?25hRequirement already satisfied: google-auth-oauthlib<0.5,>=0.4.1 in /Users/gnabeyeuemmanuel/opt/anaconda3/lib/python3.8/site-packages (from tensorboard<2.12,>=2.11->tensorflow<=2.11.0,>=2.7.0->verstack) (0.4.5)\n",
            "Requirement already satisfied: markdown>=2.6.8 in /Users/gnabeyeuemmanuel/opt/anaconda3/lib/python3.8/site-packages (from tensorboard<2.12,>=2.11->tensorflow<=2.11.0,>=2.7.0->verstack) (3.3.4)\n",
            "Requirement already satisfied: google-auth<3,>=1.6.3 in /Users/gnabeyeuemmanuel/opt/anaconda3/lib/python3.8/site-packages (from tensorboard<2.12,>=2.11->tensorflow<=2.11.0,>=2.7.0->verstack) (1.35.0)\n",
            "Requirement already satisfied: requests<3,>=2.21.0 in /Users/gnabeyeuemmanuel/opt/anaconda3/lib/python3.8/site-packages (from tensorboard<2.12,>=2.11->tensorflow<=2.11.0,>=2.7.0->verstack) (2.27.1)\n",
            "Requirement already satisfied: tensorboard-plugin-wit>=1.6.0 in /Users/gnabeyeuemmanuel/opt/anaconda3/lib/python3.8/site-packages (from tensorboard<2.12,>=2.11->tensorflow<=2.11.0,>=2.7.0->verstack) (1.8.0)\n",
            "Requirement already satisfied: werkzeug>=1.0.1 in /Users/gnabeyeuemmanuel/opt/anaconda3/lib/python3.8/site-packages (from tensorboard<2.12,>=2.11->tensorflow<=2.11.0,>=2.7.0->verstack) (2.0.3)\n",
            "Requirement already satisfied: tensorboard-data-server<0.7.0,>=0.6.0 in /Users/gnabeyeuemmanuel/opt/anaconda3/lib/python3.8/site-packages (from tensorboard<2.12,>=2.11->tensorflow<=2.11.0,>=2.7.0->verstack) (0.6.1)\n",
            "Requirement already satisfied: rsa<5,>=3.1.4 in /Users/gnabeyeuemmanuel/opt/anaconda3/lib/python3.8/site-packages (from google-auth<3,>=1.6.3->tensorboard<2.12,>=2.11->tensorflow<=2.11.0,>=2.7.0->verstack) (4.7.2)\n",
            "Requirement already satisfied: pyasn1-modules>=0.2.1 in /Users/gnabeyeuemmanuel/opt/anaconda3/lib/python3.8/site-packages (from google-auth<3,>=1.6.3->tensorboard<2.12,>=2.11->tensorflow<=2.11.0,>=2.7.0->verstack) (0.2.8)\n",
            "Requirement already satisfied: cachetools<5.0,>=2.0.0 in /Users/gnabeyeuemmanuel/opt/anaconda3/lib/python3.8/site-packages (from google-auth<3,>=1.6.3->tensorboard<2.12,>=2.11->tensorflow<=2.11.0,>=2.7.0->verstack) (4.2.2)\n",
            "Requirement already satisfied: requests-oauthlib>=0.7.0 in /Users/gnabeyeuemmanuel/opt/anaconda3/lib/python3.8/site-packages (from google-auth-oauthlib<0.5,>=0.4.1->tensorboard<2.12,>=2.11->tensorflow<=2.11.0,>=2.7.0->verstack) (1.3.0)\n",
            "Requirement already satisfied: pyasn1<0.5.0,>=0.4.6 in /Users/gnabeyeuemmanuel/opt/anaconda3/lib/python3.8/site-packages (from pyasn1-modules>=0.2.1->google-auth<3,>=1.6.3->tensorboard<2.12,>=2.11->tensorflow<=2.11.0,>=2.7.0->verstack) (0.4.8)\n",
            "Requirement already satisfied: urllib3<1.27,>=1.21.1 in /Users/gnabeyeuemmanuel/opt/anaconda3/lib/python3.8/site-packages (from requests<3,>=2.21.0->tensorboard<2.12,>=2.11->tensorflow<=2.11.0,>=2.7.0->verstack) (1.26.8)\n",
            "Requirement already satisfied: idna<4,>=2.5 in /Users/gnabeyeuemmanuel/opt/anaconda3/lib/python3.8/site-packages (from requests<3,>=2.21.0->tensorboard<2.12,>=2.11->tensorflow<=2.11.0,>=2.7.0->verstack) (3.3)\n",
            "Requirement already satisfied: charset-normalizer~=2.0.0 in /Users/gnabeyeuemmanuel/opt/anaconda3/lib/python3.8/site-packages (from requests<3,>=2.21.0->tensorboard<2.12,>=2.11->tensorflow<=2.11.0,>=2.7.0->verstack) (2.0.4)\n",
            "Requirement already satisfied: certifi>=2017.4.17 in /Users/gnabeyeuemmanuel/opt/anaconda3/lib/python3.8/site-packages (from requests<3,>=2.21.0->tensorboard<2.12,>=2.11->tensorflow<=2.11.0,>=2.7.0->verstack) (2021.10.8)\n",
            "Requirement already satisfied: oauthlib>=3.0.0 in /Users/gnabeyeuemmanuel/opt/anaconda3/lib/python3.8/site-packages (from requests-oauthlib>=0.7.0->google-auth-oauthlib<0.5,>=0.4.1->tensorboard<2.12,>=2.11->tensorflow<=2.11.0,>=2.7.0->verstack) (3.1.1)\n",
            "Collecting cmd2>=1.0.0\n",
            "  Downloading cmd2-2.4.2-py3-none-any.whl (147 kB)\n",
            "\u001b[K     |████████████████████████████████| 147 kB 7.1 MB/s eta 0:00:01\n",
            "\u001b[?25hCollecting autopage>=0.4.0\n",
            "  Downloading autopage-0.5.1-py3-none-any.whl (29 kB)\n",
            "Collecting stevedore>=2.0.1\n",
            "  Downloading stevedore-4.1.1-py3-none-any.whl (50 kB)\n",
            "\u001b[K     |████████████████████████████████| 50 kB 9.1 MB/s eta 0:00:01\n",
            "\u001b[?25hCollecting PrettyTable>=0.7.2\n",
            "  Downloading prettytable-3.5.0-py3-none-any.whl (26 kB)\n",
            "Requirement already satisfied: attrs>=16.3.0 in /Users/gnabeyeuemmanuel/opt/anaconda3/lib/python3.8/site-packages (from cmd2>=1.0.0->cliff->optuna<=3.0.4,>=2.10.0->verstack) (21.4.0)\n",
            "Collecting pyperclip>=1.6\n",
            "  Downloading pyperclip-1.8.2.tar.gz (20 kB)\n",
            "Requirement already satisfied: wcwidth>=0.1.7 in /Users/gnabeyeuemmanuel/opt/anaconda3/lib/python3.8/site-packages (from cmd2>=1.0.0->cliff->optuna<=3.0.4,>=2.10.0->verstack) (0.2.5)\n",
            "Collecting pbr!=2.1.0,>=2.0.0\n",
            "  Downloading pbr-5.11.0-py2.py3-none-any.whl (112 kB)\n",
            "\u001b[K     |████████████████████████████████| 112 kB 8.2 MB/s eta 0:00:01\n",
            "\u001b[?25hRequirement already satisfied: MarkupSafe>=0.9.2 in /Users/gnabeyeuemmanuel/opt/anaconda3/lib/python3.8/site-packages (from Mako->alembic>=1.5.0->optuna<=3.0.4,>=2.10.0->verstack) (1.1.1)\n",
            "Requirement already satisfied: cycler>=0.10 in /Users/gnabeyeuemmanuel/opt/anaconda3/lib/python3.8/site-packages (from matplotlib->verstack) (0.11.0)\n",
            "Requirement already satisfied: kiwisolver>=1.0.1 in /Users/gnabeyeuemmanuel/opt/anaconda3/lib/python3.8/site-packages (from matplotlib->verstack) (1.3.2)\n",
            "Requirement already satisfied: fonttools>=4.22.0 in /Users/gnabeyeuemmanuel/opt/anaconda3/lib/python3.8/site-packages (from matplotlib->verstack) (4.25.0)\n",
            "Requirement already satisfied: pillow>=6.2.0 in /Users/gnabeyeuemmanuel/opt/anaconda3/lib/python3.8/site-packages (from matplotlib->verstack) (9.0.1)\n",
            "Building wheels for collected packages: verstack, pymeeus, pyperclip\n",
            "  Building wheel for verstack (setup.py) ... \u001b[?25ldone\n",
            "\u001b[?25h  Created wheel for verstack: filename=verstack-3.3.3-py3-none-any.whl size=83688 sha256=0d8e4c4ae820b8b3990de4572fc743c12d80f948212452cea79812f04fda73ca\n",
            "  Stored in directory: /Users/gnabeyeuemmanuel/Library/Caches/pip/wheels/ef/f2/e5/dd2bef8ac8438ff7c1c9536f6016ac73141b17550767c1ef6f\n",
            "  Building wheel for pymeeus (setup.py) ... \u001b[?25ldone\n",
            "\u001b[?25h  Created wheel for pymeeus: filename=PyMeeus-0.5.11-py3-none-any.whl size=730985 sha256=39ae49f43e5f4225d740ad321ec05b2746ec4a94c675be95cc425d83323daaca\n",
            "  Stored in directory: /Users/gnabeyeuemmanuel/Library/Caches/pip/wheels/a0/8b/b2/810ae5a6f970c8be4725353400d643c90de1c0f023a9884ee7\n",
            "  Building wheel for pyperclip (setup.py) ... \u001b[?25ldone\n",
            "\u001b[?25h  Created wheel for pyperclip: filename=pyperclip-1.8.2-py3-none-any.whl size=11137 sha256=d0d8947eb0d44add352926bb4dbf6f6745ebb6c2372f655f414e8c602d19513f\n",
            "  Stored in directory: /Users/gnabeyeuemmanuel/Library/Caches/pip/wheels/7f/1a/65/84ff8c386bec21fca6d220ea1f5498a0367883a78dd5ba6122\n",
            "Successfully built verstack pymeeus pyperclip\n",
            "Installing collected packages: pyperclip, pbr, numpy, stevedore, pymeeus, PrettyTable, Mako, importlib-resources, cmd2, autopage, absl-py, tensorflow-io-gcs-filesystem, tensorflow-estimator, tensorboard, libclang, korean-lunar-calendar, keras, hijri-converter, flatbuffers, convertdate, colorlog, cmaes, cliff, alembic, tensorflow, optuna, mlxtend, lightgbm, holidays, category-encoders, verstack\n",
            "  Attempting uninstall: numpy\n",
            "    Found existing installation: numpy 1.19.5\n",
            "    Uninstalling numpy-1.19.5:\n",
            "      Successfully uninstalled numpy-1.19.5\n",
            "  Attempting uninstall: absl-py\n",
            "    Found existing installation: absl-py 0.13.0\n",
            "    Uninstalling absl-py-0.13.0:\n",
            "      Successfully uninstalled absl-py-0.13.0\n",
            "  Attempting uninstall: tensorflow-estimator\n",
            "    Found existing installation: tensorflow-estimator 2.6.0\n",
            "    Uninstalling tensorflow-estimator-2.6.0:\n",
            "      Successfully uninstalled tensorflow-estimator-2.6.0\n",
            "  Attempting uninstall: tensorboard\n",
            "    Found existing installation: tensorboard 2.6.0\n",
            "    Uninstalling tensorboard-2.6.0:\n",
            "      Successfully uninstalled tensorboard-2.6.0\n",
            "  Attempting uninstall: keras\n",
            "    Found existing installation: keras 2.6.0\n",
            "    Uninstalling keras-2.6.0:\n",
            "      Successfully uninstalled keras-2.6.0\n",
            "  Attempting uninstall: flatbuffers\n",
            "    Found existing installation: flatbuffers 1.12\n",
            "    Uninstalling flatbuffers-1.12:\n",
            "      Successfully uninstalled flatbuffers-1.12\n",
            "  Attempting uninstall: tensorflow\n",
            "    Found existing installation: tensorflow 2.6.0\n",
            "    Uninstalling tensorflow-2.6.0:\n",
            "      Successfully uninstalled tensorflow-2.6.0\n",
            "\u001b[31mERROR: pip's dependency resolver does not currently take into account all the packages that are installed. This behaviour is the source of the following dependency conflicts.\n",
            "daal4py 2021.5.0 requires daal==2021.4.0, which is not installed.\n",
            "numba 0.54.1 requires numpy<1.21,>=1.17, but you have numpy 1.22.4 which is incompatible.\n",
            "bokeh 2.4.2 requires typing-extensions>=3.10.0, but you have typing-extensions 3.7.4.3 which is incompatible.\u001b[0m\n",
            "Successfully installed Mako-1.2.4 PrettyTable-3.5.0 absl-py-1.3.0 alembic-1.8.1 autopage-0.5.1 category-encoders-2.5.1 cliff-4.1.0 cmaes-0.9.0 cmd2-2.4.2 colorlog-6.7.0 convertdate-2.4.0 flatbuffers-22.12.6 hijri-converter-2.2.4 holidays-0.11.3.1 importlib-resources-5.10.1 keras-2.11.0 korean-lunar-calendar-0.3.1 libclang-14.0.6 lightgbm-3.3.2 mlxtend-0.21.0 numpy-1.22.4 optuna-3.0.4 pbr-5.11.0 pymeeus-0.5.11 pyperclip-1.8.2 stevedore-4.1.1 tensorboard-2.11.0 tensorflow-2.11.0 tensorflow-estimator-2.11.0 tensorflow-io-gcs-filesystem-0.28.0 verstack-3.3.3\n",
            "Name: keras\n",
            "Version: 2.11.0\n",
            "Summary: Deep learning for humans.\n",
            "Home-page: https://keras.io/\n",
            "Author: Keras team\n",
            "Author-email: keras-users@googlegroups.com\n",
            "License: Apache 2.0\n",
            "Location: /Users/gnabeyeuemmanuel/opt/anaconda3/lib/python3.8/site-packages\n",
            "Requires: \n",
            "Required-by: verstack, tensorflow\n",
            "Collecting spacy\n",
            "  Downloading spacy-3.4.3-cp38-cp38-macosx_10_9_x86_64.whl (6.6 MB)\n",
            "\u001b[K     |████████████████████████████████| 6.6 MB 9.1 MB/s eta 0:00:01\n",
            "\u001b[?25hCollecting wasabi<1.1.0,>=0.9.1\n",
            "  Downloading wasabi-0.10.1-py3-none-any.whl (26 kB)\n",
            "Collecting cymem<2.1.0,>=2.0.2\n",
            "  Downloading cymem-2.0.7-cp38-cp38-macosx_10_9_x86_64.whl (32 kB)\n",
            "Collecting catalogue<2.1.0,>=2.0.6\n",
            "  Downloading catalogue-2.0.8-py3-none-any.whl (17 kB)\n",
            "Requirement already satisfied: setuptools in /Users/gnabeyeuemmanuel/opt/anaconda3/lib/python3.8/site-packages (from spacy) (58.0.4)\n",
            "Collecting typer<0.8.0,>=0.3.0\n",
            "  Downloading typer-0.7.0-py3-none-any.whl (38 kB)\n",
            "Collecting pydantic!=1.8,!=1.8.1,<1.11.0,>=1.7.4\n",
            "  Downloading pydantic-1.10.2-cp38-cp38-macosx_10_9_x86_64.whl (3.1 MB)\n",
            "\u001b[K     |████████████████████████████████| 3.1 MB 3.8 MB/s eta 0:00:01\n",
            "\u001b[?25hCollecting langcodes<4.0.0,>=3.2.0\n",
            "  Downloading langcodes-3.3.0-py3-none-any.whl (181 kB)\n",
            "\u001b[K     |████████████████████████████████| 181 kB 8.7 MB/s eta 0:00:01\n",
            "\u001b[?25hCollecting thinc<8.2.0,>=8.1.0\n",
            "  Downloading thinc-8.1.5-cp38-cp38-macosx_10_9_x86_64.whl (754 kB)\n",
            "\u001b[K     |████████████████████████████████| 754 kB 2.5 MB/s eta 0:00:01\n",
            "\u001b[?25hRequirement already satisfied: numpy>=1.15.0 in /Users/gnabeyeuemmanuel/opt/anaconda3/lib/python3.8/site-packages (from spacy) (1.22.4)\n",
            "Requirement already satisfied: tqdm<5.0.0,>=4.38.0 in /Users/gnabeyeuemmanuel/opt/anaconda3/lib/python3.8/site-packages (from spacy) (4.62.3)\n",
            "Collecting murmurhash<1.1.0,>=0.28.0\n",
            "  Downloading murmurhash-1.0.9-cp38-cp38-macosx_10_9_x86_64.whl (18 kB)\n",
            "Requirement already satisfied: requests<3.0.0,>=2.13.0 in /Users/gnabeyeuemmanuel/opt/anaconda3/lib/python3.8/site-packages (from spacy) (2.27.1)\n",
            "Requirement already satisfied: jinja2 in /Users/gnabeyeuemmanuel/opt/anaconda3/lib/python3.8/site-packages (from spacy) (2.11.3)\n",
            "Collecting srsly<3.0.0,>=2.4.3\n",
            "  Downloading srsly-2.4.5-cp38-cp38-macosx_10_9_x86_64.whl (489 kB)\n",
            "\u001b[K     |████████████████████████████████| 489 kB 7.5 MB/s eta 0:00:01\n",
            "\u001b[?25hCollecting spacy-loggers<2.0.0,>=1.0.0\n",
            "  Downloading spacy_loggers-1.0.3-py3-none-any.whl (9.3 kB)\n",
            "Collecting preshed<3.1.0,>=3.0.2\n",
            "  Downloading preshed-3.0.8-cp38-cp38-macosx_10_9_x86_64.whl (107 kB)\n",
            "\u001b[K     |████████████████████████████████| 107 kB 5.4 MB/s eta 0:00:01\n",
            "\u001b[?25hRequirement already satisfied: packaging>=20.0 in /Users/gnabeyeuemmanuel/opt/anaconda3/lib/python3.8/site-packages (from spacy) (21.3)\n",
            "Collecting spacy-legacy<3.1.0,>=3.0.10\n",
            "  Downloading spacy_legacy-3.0.10-py2.py3-none-any.whl (21 kB)\n",
            "Collecting pathy>=0.3.5\n",
            "  Downloading pathy-0.10.0-py3-none-any.whl (48 kB)\n",
            "\u001b[K     |████████████████████████████████| 48 kB 2.6 MB/s eta 0:00:01\n",
            "\u001b[?25hRequirement already satisfied: pyparsing!=3.0.5,>=2.0.2 in /Users/gnabeyeuemmanuel/opt/anaconda3/lib/python3.8/site-packages (from packaging>=20.0->spacy) (3.0.4)\n",
            "Collecting smart-open<6.0.0,>=5.2.1\n",
            "  Downloading smart_open-5.2.1-py3-none-any.whl (58 kB)\n",
            "\u001b[K     |████████████████████████████████| 58 kB 5.9 MB/s eta 0:00:01\n",
            "\u001b[?25hCollecting typing-extensions>=4.1.0\n",
            "  Downloading typing_extensions-4.4.0-py3-none-any.whl (26 kB)\n",
            "Requirement already satisfied: certifi>=2017.4.17 in /Users/gnabeyeuemmanuel/opt/anaconda3/lib/python3.8/site-packages (from requests<3.0.0,>=2.13.0->spacy) (2021.10.8)\n",
            "Requirement already satisfied: idna<4,>=2.5 in /Users/gnabeyeuemmanuel/opt/anaconda3/lib/python3.8/site-packages (from requests<3.0.0,>=2.13.0->spacy) (3.3)\n",
            "Requirement already satisfied: charset-normalizer~=2.0.0 in /Users/gnabeyeuemmanuel/opt/anaconda3/lib/python3.8/site-packages (from requests<3.0.0,>=2.13.0->spacy) (2.0.4)\n",
            "Requirement already satisfied: urllib3<1.27,>=1.21.1 in /Users/gnabeyeuemmanuel/opt/anaconda3/lib/python3.8/site-packages (from requests<3.0.0,>=2.13.0->spacy) (1.26.8)\n",
            "Collecting blis<0.8.0,>=0.7.8\n",
            "  Downloading blis-0.7.9-cp38-cp38-macosx_10_9_x86_64.whl (6.1 MB)\n",
            "\u001b[K     |████████████████████████████████| 6.1 MB 4.0 MB/s eta 0:00:01\n",
            "\u001b[?25hCollecting confection<1.0.0,>=0.0.1\n",
            "  Downloading confection-0.0.3-py3-none-any.whl (32 kB)\n",
            "Requirement already satisfied: click<9.0.0,>=7.1.1 in /Users/gnabeyeuemmanuel/opt/anaconda3/lib/python3.8/site-packages (from typer<0.8.0,>=0.3.0->spacy) (8.0.4)\n",
            "Requirement already satisfied: MarkupSafe>=0.23 in /Users/gnabeyeuemmanuel/opt/anaconda3/lib/python3.8/site-packages (from jinja2->spacy) (1.1.1)\n",
            "Installing collected packages: typing-extensions, catalogue, srsly, pydantic, murmurhash, cymem, wasabi, typer, smart-open, preshed, confection, blis, thinc, spacy-loggers, spacy-legacy, pathy, langcodes, spacy\n",
            "  Attempting uninstall: typing-extensions\n",
            "    Found existing installation: typing-extensions 3.7.4.3\n",
            "    Uninstalling typing-extensions-3.7.4.3:\n",
            "      Successfully uninstalled typing-extensions-3.7.4.3\n",
            "  Attempting uninstall: smart-open\n",
            "    Found existing installation: smart-open 6.2.0\n",
            "    Uninstalling smart-open-6.2.0:\n",
            "      Successfully uninstalled smart-open-6.2.0\n",
            "Successfully installed blis-0.7.9 catalogue-2.0.8 confection-0.0.3 cymem-2.0.7 langcodes-3.3.0 murmurhash-1.0.9 pathy-0.10.0 preshed-3.0.8 pydantic-1.10.2 smart-open-5.2.1 spacy-3.4.3 spacy-legacy-3.0.10 spacy-loggers-1.0.3 srsly-2.4.5 thinc-8.1.5 typer-0.7.0 typing-extensions-4.4.0 wasabi-0.10.1\n",
            "Collecting textblob_fr\n",
            "  Downloading textblob_fr-0.2.0-py2.py3-none-any.whl (561 kB)\n",
            "\u001b[K     |████████████████████████████████| 561 kB 6.7 MB/s eta 0:00:01\n",
            "\u001b[?25hCollecting textblob>=0.8.0\n",
            "  Downloading textblob-0.17.1-py2.py3-none-any.whl (636 kB)\n",
            "\u001b[K     |████████████████████████████████| 636 kB 4.9 MB/s eta 0:00:01\n",
            "\u001b[?25hRequirement already satisfied: nltk>=3.1 in /Users/gnabeyeuemmanuel/opt/anaconda3/lib/python3.8/site-packages (from textblob>=0.8.0->textblob_fr) (3.7)\n",
            "Requirement already satisfied: tqdm in /Users/gnabeyeuemmanuel/opt/anaconda3/lib/python3.8/site-packages (from nltk>=3.1->textblob>=0.8.0->textblob_fr) (4.62.3)\n",
            "Requirement already satisfied: regex>=2021.8.3 in /Users/gnabeyeuemmanuel/opt/anaconda3/lib/python3.8/site-packages (from nltk>=3.1->textblob>=0.8.0->textblob_fr) (2021.11.2)\n",
            "Requirement already satisfied: click in /Users/gnabeyeuemmanuel/opt/anaconda3/lib/python3.8/site-packages (from nltk>=3.1->textblob>=0.8.0->textblob_fr) (8.0.4)\n",
            "Requirement already satisfied: joblib in /Users/gnabeyeuemmanuel/opt/anaconda3/lib/python3.8/site-packages (from nltk>=3.1->textblob>=0.8.0->textblob_fr) (1.1.0)\n",
            "Installing collected packages: textblob, textblob-fr\n",
            "Successfully installed textblob-0.17.1 textblob-fr-0.2.0\n",
            "Requirement already satisfied: textblob in /Users/gnabeyeuemmanuel/opt/anaconda3/lib/python3.8/site-packages (0.17.1)\n",
            "Requirement already satisfied: nltk>=3.1 in /Users/gnabeyeuemmanuel/opt/anaconda3/lib/python3.8/site-packages (from textblob) (3.7)\n",
            "Requirement already satisfied: tqdm in /Users/gnabeyeuemmanuel/opt/anaconda3/lib/python3.8/site-packages (from nltk>=3.1->textblob) (4.62.3)\n",
            "Requirement already satisfied: joblib in /Users/gnabeyeuemmanuel/opt/anaconda3/lib/python3.8/site-packages (from nltk>=3.1->textblob) (1.1.0)\n",
            "Requirement already satisfied: regex>=2021.8.3 in /Users/gnabeyeuemmanuel/opt/anaconda3/lib/python3.8/site-packages (from nltk>=3.1->textblob) (2021.11.2)\n",
            "Requirement already satisfied: click in /Users/gnabeyeuemmanuel/opt/anaconda3/lib/python3.8/site-packages (from nltk>=3.1->textblob) (8.0.4)\n",
            "Collecting flair\n",
            "  Downloading flair-0.11.3-py3-none-any.whl (401 kB)\n",
            "\u001b[K     |████████████████████████████████| 401 kB 4.0 MB/s eta 0:00:01\n",
            "\u001b[?25hCollecting hyperopt>=0.2.7\n",
            "  Downloading hyperopt-0.2.7-py2.py3-none-any.whl (1.6 MB)\n",
            "\u001b[K     |████████████████████████████████| 1.6 MB 8.8 MB/s eta 0:00:01\n",
            "\u001b[?25hRequirement already satisfied: matplotlib>=2.2.3 in /Users/gnabeyeuemmanuel/opt/anaconda3/lib/python3.8/site-packages (from flair) (3.5.1)\n",
            "Collecting sentencepiece==0.1.95\n",
            "  Downloading sentencepiece-0.1.95-cp38-cp38-macosx_10_6_x86_64.whl (1.1 MB)\n",
            "\u001b[K     |████████████████████████████████| 1.1 MB 26.4 MB/s eta 0:00:01\n",
            "\u001b[?25hCollecting mpld3==0.3\n",
            "  Downloading mpld3-0.3.tar.gz (788 kB)\n",
            "\u001b[K     |████████████████████████████████| 788 kB 7.4 MB/s eta 0:00:01\n",
            "\u001b[?25hCollecting janome\n",
            "  Downloading Janome-0.4.2-py2.py3-none-any.whl (19.7 MB)\n",
            "\u001b[K     |████████████████████████████████| 19.7 MB 6.8 MB/s eta 0:00:01\n",
            "\u001b[?25hCollecting konoha<5.0.0,>=4.0.0\n",
            "  Downloading konoha-4.6.5-py3-none-any.whl (20 kB)\n",
            "Requirement already satisfied: scikit-learn>=0.21.3 in /Users/gnabeyeuemmanuel/opt/anaconda3/lib/python3.8/site-packages (from flair) (1.1.3)\n",
            "Requirement already satisfied: python-dateutil>=2.6.1 in /Users/gnabeyeuemmanuel/opt/anaconda3/lib/python3.8/site-packages (from flair) (2.8.2)\n",
            "Collecting deprecated>=1.2.4\n",
            "  Downloading Deprecated-1.2.13-py2.py3-none-any.whl (9.6 kB)\n",
            "Requirement already satisfied: tqdm>=4.26.0 in /Users/gnabeyeuemmanuel/opt/anaconda3/lib/python3.8/site-packages (from flair) (4.62.3)\n",
            "Requirement already satisfied: lxml in /Users/gnabeyeuemmanuel/opt/anaconda3/lib/python3.8/site-packages (from flair) (4.8.0)\n",
            "Collecting sqlitedict>=1.6.0\n",
            "  Downloading sqlitedict-2.1.0.tar.gz (21 kB)\n",
            "Collecting conllu>=4.0\n",
            "  Downloading conllu-4.5.2-py2.py3-none-any.whl (16 kB)\n",
            "Requirement already satisfied: torch!=1.8,>=1.5.0 in /Users/gnabeyeuemmanuel/opt/anaconda3/lib/python3.8/site-packages (from flair) (1.11.0)\n",
            "Collecting wikipedia-api\n",
            "  Downloading Wikipedia-API-0.5.4.tar.gz (18 kB)\n",
            "Collecting ftfy\n",
            "  Downloading ftfy-6.1.1-py3-none-any.whl (53 kB)\n",
            "\u001b[K     |████████████████████████████████| 53 kB 2.8 MB/s eta 0:00:011\n",
            "\u001b[?25hCollecting gdown==4.4.0\n",
            "  Downloading gdown-4.4.0.tar.gz (14 kB)\n",
            "  Installing build dependencies ... \u001b[?25ldone\n",
            "\u001b[?25h  Getting requirements to build wheel ... \u001b[?25ldone\n",
            "\u001b[?25h    Preparing wheel metadata ... \u001b[?25ldone\n",
            "\u001b[?25hRequirement already satisfied: regex in /Users/gnabeyeuemmanuel/opt/anaconda3/lib/python3.8/site-packages (from flair) (2021.11.2)\n",
            "Collecting langdetect\n",
            "  Downloading langdetect-1.0.9.tar.gz (981 kB)\n",
            "\u001b[K     |████████████████████████████████| 981 kB 6.5 MB/s eta 0:00:01\n",
            "\u001b[?25hRequirement already satisfied: gensim>=3.4.0 in /Users/gnabeyeuemmanuel/opt/anaconda3/lib/python3.8/site-packages (from flair) (4.2.0)\n",
            "Collecting segtok>=1.5.7\n",
            "  Downloading segtok-1.5.11-py3-none-any.whl (24 kB)\n",
            "Collecting bpemb>=0.3.2\n",
            "  Downloading bpemb-0.3.4-py3-none-any.whl (19 kB)\n",
            "Collecting transformers>=4.0.0\n",
            "  Downloading transformers-4.25.1-py3-none-any.whl (5.8 MB)\n",
            "\u001b[K     |████████████████████████████████| 5.8 MB 6.8 MB/s eta 0:00:01\n",
            "\u001b[?25hCollecting huggingface-hub\n",
            "  Downloading huggingface_hub-0.11.1-py3-none-any.whl (182 kB)\n",
            "\u001b[K     |████████████████████████████████| 182 kB 6.6 MB/s eta 0:00:01\n",
            "\u001b[?25hRequirement already satisfied: more-itertools in /Users/gnabeyeuemmanuel/opt/anaconda3/lib/python3.8/site-packages (from flair) (8.12.0)\n",
            "Collecting pptree\n",
            "  Downloading pptree-3.1.tar.gz (3.0 kB)\n",
            "Collecting tabulate\n",
            "  Downloading tabulate-0.9.0-py3-none-any.whl (35 kB)\n",
            "Requirement already satisfied: six in /Users/gnabeyeuemmanuel/opt/anaconda3/lib/python3.8/site-packages (from gdown==4.4.0->flair) (1.15.0)\n",
            "Requirement already satisfied: beautifulsoup4 in /Users/gnabeyeuemmanuel/opt/anaconda3/lib/python3.8/site-packages (from gdown==4.4.0->flair) (4.10.0)\n",
            "Requirement already satisfied: filelock in /Users/gnabeyeuemmanuel/opt/anaconda3/lib/python3.8/site-packages (from gdown==4.4.0->flair) (3.6.0)\n",
            "Requirement already satisfied: requests[socks] in /Users/gnabeyeuemmanuel/opt/anaconda3/lib/python3.8/site-packages (from gdown==4.4.0->flair) (2.27.1)\n",
            "Requirement already satisfied: numpy in /Users/gnabeyeuemmanuel/opt/anaconda3/lib/python3.8/site-packages (from bpemb>=0.3.2->flair) (1.22.4)\n",
            "Requirement already satisfied: wrapt<2,>=1.10 in /Users/gnabeyeuemmanuel/opt/anaconda3/lib/python3.8/site-packages (from deprecated>=1.2.4->flair) (1.12.1)\n",
            "Requirement already satisfied: scipy>=0.18.1 in /Users/gnabeyeuemmanuel/opt/anaconda3/lib/python3.8/site-packages (from gensim>=3.4.0->flair) (1.7.3)\n",
            "Requirement already satisfied: smart-open>=1.8.1 in /Users/gnabeyeuemmanuel/opt/anaconda3/lib/python3.8/site-packages (from gensim>=3.4.0->flair) (5.2.1)\n",
            "Requirement already satisfied: cloudpickle in /Users/gnabeyeuemmanuel/opt/anaconda3/lib/python3.8/site-packages (from hyperopt>=0.2.7->flair) (2.0.0)\n",
            "Requirement already satisfied: future in /Users/gnabeyeuemmanuel/opt/anaconda3/lib/python3.8/site-packages (from hyperopt>=0.2.7->flair) (0.18.2)\n",
            "Collecting py4j\n",
            "  Downloading py4j-0.10.9.7-py2.py3-none-any.whl (200 kB)\n",
            "\u001b[K     |████████████████████████████████| 200 kB 3.5 MB/s eta 0:00:01\n",
            "\u001b[?25hRequirement already satisfied: networkx>=2.2 in /Users/gnabeyeuemmanuel/opt/anaconda3/lib/python3.8/site-packages (from hyperopt>=0.2.7->flair) (2.6.3)\n",
            "Collecting overrides<4.0.0,>=3.0.0\n",
            "  Downloading overrides-3.1.0.tar.gz (11 kB)\n",
            "Collecting importlib-metadata<4.0.0,>=3.7.0\n",
            "  Downloading importlib_metadata-3.10.1-py3-none-any.whl (14 kB)\n",
            "Requirement already satisfied: zipp>=0.5 in /Users/gnabeyeuemmanuel/opt/anaconda3/lib/python3.8/site-packages (from importlib-metadata<4.0.0,>=3.7.0->konoha<5.0.0,>=4.0.0->flair) (3.7.0)\n",
            "Requirement already satisfied: cycler>=0.10 in /Users/gnabeyeuemmanuel/opt/anaconda3/lib/python3.8/site-packages (from matplotlib>=2.2.3->flair) (0.11.0)\n",
            "Requirement already satisfied: pillow>=6.2.0 in /Users/gnabeyeuemmanuel/opt/anaconda3/lib/python3.8/site-packages (from matplotlib>=2.2.3->flair) (9.0.1)\n",
            "Requirement already satisfied: kiwisolver>=1.0.1 in /Users/gnabeyeuemmanuel/opt/anaconda3/lib/python3.8/site-packages (from matplotlib>=2.2.3->flair) (1.3.2)\n",
            "Requirement already satisfied: packaging>=20.0 in /Users/gnabeyeuemmanuel/opt/anaconda3/lib/python3.8/site-packages (from matplotlib>=2.2.3->flair) (21.3)\n",
            "Requirement already satisfied: pyparsing>=2.2.1 in /Users/gnabeyeuemmanuel/opt/anaconda3/lib/python3.8/site-packages (from matplotlib>=2.2.3->flair) (3.0.4)\n",
            "Requirement already satisfied: fonttools>=4.22.0 in /Users/gnabeyeuemmanuel/opt/anaconda3/lib/python3.8/site-packages (from matplotlib>=2.2.3->flair) (4.25.0)\n",
            "Requirement already satisfied: charset-normalizer~=2.0.0 in /Users/gnabeyeuemmanuel/opt/anaconda3/lib/python3.8/site-packages (from requests[socks]->gdown==4.4.0->flair) (2.0.4)\n",
            "Requirement already satisfied: certifi>=2017.4.17 in /Users/gnabeyeuemmanuel/opt/anaconda3/lib/python3.8/site-packages (from requests[socks]->gdown==4.4.0->flair) (2021.10.8)\n",
            "Requirement already satisfied: urllib3<1.27,>=1.21.1 in /Users/gnabeyeuemmanuel/opt/anaconda3/lib/python3.8/site-packages (from requests[socks]->gdown==4.4.0->flair) (1.26.8)\n",
            "Requirement already satisfied: idna<4,>=2.5 in /Users/gnabeyeuemmanuel/opt/anaconda3/lib/python3.8/site-packages (from requests[socks]->gdown==4.4.0->flair) (3.3)\n",
            "Requirement already satisfied: threadpoolctl>=2.0.0 in /Users/gnabeyeuemmanuel/opt/anaconda3/lib/python3.8/site-packages (from scikit-learn>=0.21.3->flair) (2.2.0)\n",
            "Requirement already satisfied: joblib>=1.0.0 in /Users/gnabeyeuemmanuel/opt/anaconda3/lib/python3.8/site-packages (from scikit-learn>=0.21.3->flair) (1.1.0)\n",
            "Requirement already satisfied: typing_extensions in /Users/gnabeyeuemmanuel/opt/anaconda3/lib/python3.8/site-packages (from torch!=1.8,>=1.5.0->flair) (4.4.0)\n",
            "Requirement already satisfied: pyyaml>=5.1 in /Users/gnabeyeuemmanuel/opt/anaconda3/lib/python3.8/site-packages (from transformers>=4.0.0->flair) (6.0)\n",
            "Collecting tokenizers!=0.11.3,<0.14,>=0.11.1\n",
            "  Downloading tokenizers-0.13.2-cp38-cp38-macosx_10_11_x86_64.whl (3.8 MB)\n",
            "\u001b[K     |████████████████████████████████| 3.8 MB 6.5 MB/s eta 0:00:01\n",
            "\u001b[?25hRequirement already satisfied: soupsieve>1.2 in /Users/gnabeyeuemmanuel/opt/anaconda3/lib/python3.8/site-packages (from beautifulsoup4->gdown==4.4.0->flair) (2.3.1)\n",
            "Requirement already satisfied: wcwidth>=0.2.5 in /Users/gnabeyeuemmanuel/opt/anaconda3/lib/python3.8/site-packages (from ftfy->flair) (0.2.5)\n",
            "Requirement already satisfied: PySocks!=1.5.7,>=1.5.6 in /Users/gnabeyeuemmanuel/opt/anaconda3/lib/python3.8/site-packages (from requests[socks]->gdown==4.4.0->flair) (1.7.1)\n",
            "Building wheels for collected packages: gdown, mpld3, overrides, sqlitedict, langdetect, pptree, wikipedia-api\n",
            "  Building wheel for gdown (PEP 517) ... \u001b[?25ldone\n",
            "\u001b[?25h  Created wheel for gdown: filename=gdown-4.4.0-py3-none-any.whl size=14759 sha256=1d0564b7a2ff41b0302ce196091badaaf47902ea0a77f6e2d6df7b1f15d48b8b\n",
            "  Stored in directory: /Users/gnabeyeuemmanuel/Library/Caches/pip/wheels/7b/7b/5d/656f46cd6889e4c93977be9586901d0adc1271b2d876c84c96\n",
            "  Building wheel for mpld3 (setup.py) ... \u001b[?25ldone\n",
            "\u001b[?25h  Created wheel for mpld3: filename=mpld3-0.3-py3-none-any.whl size=116702 sha256=39536da2ccc2644f9e02744553e665d35322fdcb9cc600c8d6b4419c27e91bc8\n",
            "  Stored in directory: /Users/gnabeyeuemmanuel/Library/Caches/pip/wheels/3d/9f/9d/d806a20bd97bc7076d724fa3e69fa5be61836ba16b2ffa6126\n",
            "  Building wheel for overrides (setup.py) ... \u001b[?25ldone\n",
            "\u001b[?25h  Created wheel for overrides: filename=overrides-3.1.0-py3-none-any.whl size=10187 sha256=a746e554e2d42072714a63c3b3fc5f9723612d0279aa80e232f88b6ca7fee0ea\n",
            "  Stored in directory: /Users/gnabeyeuemmanuel/Library/Caches/pip/wheels/6a/4f/72/28857f75625b263e2e3f5ab2fc4416c0a85960ac6485007eaa\n",
            "  Building wheel for sqlitedict (setup.py) ... \u001b[?25ldone\n",
            "\u001b[?25h  Created wheel for sqlitedict: filename=sqlitedict-2.1.0-py3-none-any.whl size=16869 sha256=1d9c5164170ef8e7959334ccafda74ea2ad7c12636fcb26ab62dd051c5be8b74\n",
            "  Stored in directory: /Users/gnabeyeuemmanuel/Library/Caches/pip/wheels/04/c6/16/46e174009277f9bccdaa7215a243939d2f70180804b249bf3a\n",
            "  Building wheel for langdetect (setup.py) ... \u001b[?25ldone\n",
            "\u001b[?25h  Created wheel for langdetect: filename=langdetect-1.0.9-py3-none-any.whl size=993242 sha256=63fb3a4cb99f57fcb42097d039520e2064aae537265be2fdca5a9281d9c9c7e9\n",
            "  Stored in directory: /Users/gnabeyeuemmanuel/Library/Caches/pip/wheels/13/c7/b0/79f66658626032e78fc1a83103690ef6797d551cb22e56e734\n",
            "  Building wheel for pptree (setup.py) ... \u001b[?25ldone\n",
            "\u001b[?25h  Created wheel for pptree: filename=pptree-3.1-py3-none-any.whl size=4629 sha256=4f037b4b315a1111fc9e37e0c497e8e45cff6f58a97c6a536c2da9537ecd02c4\n",
            "  Stored in directory: /Users/gnabeyeuemmanuel/Library/Caches/pip/wheels/e1/8b/30/5b20240d3d13a9dfafb6a6dd49d1b541c86d39812cb3690edf\n",
            "  Building wheel for wikipedia-api (setup.py) ... \u001b[?25ldone\n",
            "\u001b[?25h  Created wheel for wikipedia-api: filename=Wikipedia_API-0.5.4-py3-none-any.whl size=13477 sha256=ae2446a6cf9ef4a4fafe702c8a705988d8d495b3fb01b15d6bbfb3f94c364a43\n",
            "  Stored in directory: /Users/gnabeyeuemmanuel/Library/Caches/pip/wheels/ed/88/e3/da3d4d73cb91d659488cfa25913b84bbc26febec99d257bce9\n",
            "Successfully built gdown mpld3 overrides sqlitedict langdetect pptree wikipedia-api\n",
            "Installing collected packages: tokenizers, sentencepiece, py4j, overrides, importlib-metadata, huggingface-hub, wikipedia-api, transformers, tabulate, sqlitedict, segtok, pptree, mpld3, langdetect, konoha, janome, hyperopt, gdown, ftfy, deprecated, conllu, bpemb, flair\n",
            "  Attempting uninstall: sentencepiece\n",
            "    Found existing installation: sentencepiece 0.1.97\n",
            "    Uninstalling sentencepiece-0.1.97:\n",
            "      Successfully uninstalled sentencepiece-0.1.97\n",
            "  Attempting uninstall: importlib-metadata\n",
            "    Found existing installation: importlib-metadata 4.8.2\n",
            "    Uninstalling importlib-metadata-4.8.2:\n",
            "      Successfully uninstalled importlib-metadata-4.8.2\n",
            "\u001b[31mERROR: pip's dependency resolver does not currently take into account all the packages that are installed. This behaviour is the source of the following dependency conflicts.\n",
            "sphinx 4.4.0 requires importlib-metadata>=4.4; python_version < \"3.10\", but you have importlib-metadata 3.10.1 which is incompatible.\n",
            "cliff 4.1.0 requires importlib-metadata>=4.4, but you have importlib-metadata 3.10.1 which is incompatible.\u001b[0m\n",
            "Successfully installed bpemb-0.3.4 conllu-4.5.2 deprecated-1.2.13 flair-0.11.3 ftfy-6.1.1 gdown-4.4.0 huggingface-hub-0.11.1 hyperopt-0.2.7 importlib-metadata-3.10.1 janome-0.4.2 konoha-4.6.5 langdetect-1.0.9 mpld3-0.3 overrides-3.1.0 pptree-3.1 py4j-0.10.9.7 segtok-1.5.11 sentencepiece-0.1.95 sqlitedict-2.1.0 tabulate-0.9.0 tokenizers-0.13.2 transformers-4.25.1 wikipedia-api-0.5.4\n",
            "Requirement already satisfied: unidecode in /Users/gnabeyeuemmanuel/opt/anaconda3/lib/python3.8/site-packages (1.2.0)\n"
          ]
        }
      ],
      "source": [
        "#package installation\n",
        "!pip install -U scikit-learn\n",
        "!pip install tensorflow_probability==0.12.2\n",
        "!pip install transformers>=4.0\n",
        "!pip install tensorflow\n",
        "!pip install sentencepiece\n",
        "!pip install verstack\n",
        "!pip show keras\n",
        "!pip install spacy\n",
        "!pip install textblob_fr\n",
        "!pip install textblob\n",
        "!pip install flair\n",
        "!pip install unidecode"
      ]
    },
    {
      "cell_type": "markdown",
      "id": "be188653",
      "metadata": {
        "id": "be188653"
      },
      "source": [
        "### Useful Python Libraries"
      ]
    },
    {
      "cell_type": "code",
      "execution_count": null,
      "metadata": {
        "execution": {
          "iopub.execute_input": "2022-12-02T08:01:24.256738Z",
          "iopub.status.busy": "2022-12-02T08:01:24.256485Z",
          "iopub.status.idle": "2022-12-02T08:01:24.264793Z",
          "shell.execute_reply": "2022-12-02T08:01:24.263610Z",
          "shell.execute_reply.started": "2022-12-02T08:01:24.256716Z"
        },
        "trusted": true,
        "id": "9k6rFs9-t0XV"
      },
      "outputs": [],
      "source": [
        "import csv\n",
        "import numpy as np\n",
        "import pandas as pd\n",
        "from sklearn.ensemble import GradientBoostingRegressor\n",
        "from sklearn.dummy import DummyRegressor\n",
        "from sklearn.feature_extraction.text import TfidfVectorizer\n",
        "from sklearn.metrics import mean_absolute_error\n",
        "#from verstack.stratified_continuous_split import scsplit # pip install verstack\n",
        "from nltk.corpus import stopwords \n",
        "from nltk.tokenize import sent_tokenize, word_tokenize\n",
        "from gensim.models import word2vec, FastText\n",
        "import re\n",
        "# TF-IDF vectorization of text\n",
        "from sklearn.feature_extraction.text import TfidfVectorizer\n",
        "#from sklearn.feature_extraction.stop_words import ENGLISH_STOP_WORDS\n",
        "from sklearn.feature_extraction import _stop_words\n",
        "\n",
        "#for text pre-processing\n",
        "import re, string\n",
        "import nltk\n",
        "from nltk.tokenize import word_tokenize\n",
        "from nltk.corpus import stopwords\n",
        "from nltk.tokenize import word_tokenize\n",
        "from nltk.stem import SnowballStemmer\n",
        "from nltk.corpus import wordnet\n",
        "from nltk.stem import WordNetLemmatizer"
      ],
      "id": "9k6rFs9-t0XV"
    },
    {
      "cell_type": "code",
      "execution_count": null,
      "metadata": {
        "execution": {
          "iopub.execute_input": "2022-12-02T07:15:25.434476Z",
          "iopub.status.busy": "2022-12-02T07:15:25.433608Z",
          "iopub.status.idle": "2022-12-02T07:15:25.648915Z",
          "shell.execute_reply": "2022-12-02T07:15:25.647830Z",
          "shell.execute_reply.started": "2022-12-02T07:15:25.434438Z"
        },
        "trusted": true,
        "id": "GRKUcAdIt0XV"
      },
      "outputs": [],
      "source": [
        "import os\n",
        "import sys\n",
        "import sys; \n",
        "sys.path.insert(0, '..')\n",
        "\n",
        "# Visualization\n",
        "import matplotlib.pyplot as plt\n",
        "import seaborn as sns\n",
        "# Data processing\n",
        "import pandas as pd\n",
        "import numpy as np\n",
        "# Model performance evaluation\n",
        "from sklearn.metrics import mean_squared_error, mean_absolute_error,mean_squared_log_error\n",
        "from sklearn import metrics\n",
        "\n",
        "from sklearn.decomposition import PCA, NMF,FastICA,TruncatedSVD,IncrementalPCA\n",
        "from sklearn.cluster import KMeans\n",
        "#import pandasgui\n",
        "\n",
        "#from utils.utility_fct import get_table_sql,cross_product\n",
        "\n",
        "from sklearn.metrics import r2_score\n",
        "from sklearn.model_selection import GridSearchCV\n",
        "\n",
        "\n",
        "from sklearn.preprocessing import MinMaxScaler, StandardScaler\n",
        "from sklearn.pipeline import make_pipeline\n",
        "\n",
        "import time\n",
        "import datetime\n",
        "sns.set_style('whitegrid')\n",
        "plt.rcParams['figure.figsize']=(20,10) # for graphs styling\n",
        "plt.style.use('tableau-colorblind10') # for graph stying\n",
        "\n",
        "from sklearn.preprocessing import OneHotEncoder\n",
        "from sklearn.decomposition import PCA, NMF,FastICA,TruncatedSVD,IncrementalPCA\n",
        "#from french_holidays import get_french_holiday_calendar\n",
        "\n",
        "\n",
        "from sklearn.linear_model import LinearRegression\n",
        "from sklearn.svm import LinearSVR\n",
        "from sklearn.multioutput import MultiOutputRegressor\n",
        "from sklearn.ensemble import GradientBoostingRegressor\n",
        "from sklearn.ensemble import RandomForestRegressor\n",
        "from sklearn.model_selection import train_test_split\n",
        "\n",
        "from datetime import datetime, timedelta"
      ],
      "id": "GRKUcAdIt0XV"
    },
    {
      "cell_type": "code",
      "execution_count": null,
      "id": "55b2dbc8",
      "metadata": {
        "id": "55b2dbc8"
      },
      "outputs": [],
      "source": [
        "#from utils.utility_fct import get_table_sql,cross_product\n",
        "\n",
        "from sklearn.metrics import r2_score\n",
        "from sklearn.model_selection import GridSearchCV\n",
        "\n",
        "\n",
        "from sklearn.preprocessing import MinMaxScaler, StandardScaler\n",
        "from sklearn.pipeline import make_pipeline\n",
        "\n",
        "import time\n",
        "import datetime\n",
        "sns.set_style('whitegrid')\n",
        "plt.rcParams['figure.figsize']=(20,10) # for graphs styling\n",
        "plt.style.use('tableau-colorblind10') # for graph stying\n",
        "\n",
        "from sklearn.preprocessing import OneHotEncoder\n",
        "from sklearn.decomposition import PCA, NMF,FastICA,TruncatedSVD,IncrementalPCA\n",
        "#from french_holidays import get_french_holiday_calendar\n",
        "\n",
        "\n",
        "from sklearn.linear_model import LinearRegression\n",
        "from sklearn.svm import LinearSVR\n",
        "from sklearn.multioutput import MultiOutputRegressor\n",
        "from sklearn.ensemble import GradientBoostingRegressor\n",
        "from sklearn.ensemble import RandomForestRegressor\n",
        "from sklearn.model_selection import train_test_split\n",
        "\n",
        "from datetime import datetime, timedelta\n",
        "import re\n",
        "\n",
        "import tensorflow as tf\n",
        "from sklearn.ensemble import GradientBoostingRegressor\n",
        "from sklearn.dummy import DummyRegressor\n",
        "from sklearn.feature_extraction.text import TfidfVectorizer\n",
        "from sklearn.metrics import mean_absolute_error\n",
        "from unidecode import unidecode\n",
        "from transformers import AutoTokenizer, TFAutoModelForSequenceClassification\n",
        "from transformers import pipeline\n",
        "assert tf.__version__ >= \"2.0\""
      ]
    },
    {
      "cell_type": "markdown",
      "id": "6d85fefd",
      "metadata": {
        "id": "6d85fefd"
      },
      "source": [
        "### Reading the data into python"
      ]
    },
    {
      "cell_type": "code",
      "execution_count": null,
      "metadata": {
        "execution": {
          "iopub.execute_input": "2022-12-02T07:15:25.650133Z",
          "iopub.status.busy": "2022-12-02T07:15:25.649976Z",
          "iopub.status.idle": "2022-12-02T07:15:27.363199Z",
          "shell.execute_reply": "2022-12-02T07:15:27.362601Z",
          "shell.execute_reply.started": "2022-12-02T07:15:25.650114Z"
        },
        "scrolled": true,
        "trusted": true,
        "id": "uFMqLM0gt0XW",
        "outputId": "bdfb30ec-1a51-4cd1-d6d3-dcfea06997ee"
      },
      "outputs": [
        {
          "data": {
            "text/html": [
              "<div>\n",
              "<style scoped>\n",
              "    .dataframe tbody tr th:only-of-type {\n",
              "        vertical-align: middle;\n",
              "    }\n",
              "\n",
              "    .dataframe tbody tr th {\n",
              "        vertical-align: top;\n",
              "    }\n",
              "\n",
              "    .dataframe thead th {\n",
              "        text-align: right;\n",
              "    }\n",
              "</style>\n",
              "<table border=\"1\" class=\"dataframe\">\n",
              "  <thead>\n",
              "    <tr style=\"text-align: right;\">\n",
              "      <th></th>\n",
              "      <th>text</th>\n",
              "      <th>retweets_count</th>\n",
              "      <th>favorites_count</th>\n",
              "      <th>followers_count</th>\n",
              "      <th>statuses_count</th>\n",
              "      <th>friends_count</th>\n",
              "      <th>mentions</th>\n",
              "      <th>urls</th>\n",
              "      <th>verified</th>\n",
              "      <th>hashtags</th>\n",
              "      <th>timestamp</th>\n",
              "      <th>TweetID</th>\n",
              "    </tr>\n",
              "  </thead>\n",
              "  <tbody>\n",
              "    <tr>\n",
              "      <th>0</th>\n",
              "      <td>rt refarcir macron ans nom prépare</td>\n",
              "      <td>3</td>\n",
              "      <td>0</td>\n",
              "      <td>3682</td>\n",
              "      <td>453535</td>\n",
              "      <td>3628</td>\n",
              "      <td>[]</td>\n",
              "      <td>[]</td>\n",
              "      <td>0</td>\n",
              "      <td>[]</td>\n",
              "      <td>1646978048000</td>\n",
              "      <td>832509</td>\n",
              "    </tr>\n",
              "    <tr>\n",
              "      <th>1</th>\n",
              "      <td>populaire</td>\n",
              "      <td>0</td>\n",
              "      <td>0</td>\n",
              "      <td>86</td>\n",
              "      <td>1016</td>\n",
              "      <td>284</td>\n",
              "      <td>[]</td>\n",
              "      <td>[]</td>\n",
              "      <td>0</td>\n",
              "      <td>[]</td>\n",
              "      <td>1647694288000</td>\n",
              "      <td>1388011</td>\n",
              "    </tr>\n",
              "    <tr>\n",
              "      <th>2</th>\n",
              "      <td>faut dégager cinglé</td>\n",
              "      <td>3</td>\n",
              "      <td>1</td>\n",
              "      <td>1944</td>\n",
              "      <td>28234</td>\n",
              "      <td>1995</td>\n",
              "      <td>[]</td>\n",
              "      <td>[]</td>\n",
              "      <td>0</td>\n",
              "      <td>[]</td>\n",
              "      <td>1647370048000</td>\n",
              "      <td>63896</td>\n",
              "    </tr>\n",
              "    <tr>\n",
              "      <th>3</th>\n",
              "      <td>enseignants mettre prescriptions président rép...</td>\n",
              "      <td>0</td>\n",
              "      <td>0</td>\n",
              "      <td>1</td>\n",
              "      <td>1072</td>\n",
              "      <td>0</td>\n",
              "      <td>[]</td>\n",
              "      <td>['https://t.co/rytlted08g']</td>\n",
              "      <td>0</td>\n",
              "      <td>[]</td>\n",
              "      <td>1647256282000</td>\n",
              "      <td>979251</td>\n",
              "    </tr>\n",
              "    <tr>\n",
              "      <th>4</th>\n",
              "      <td>mafieuse oppressive macron</td>\n",
              "      <td>0</td>\n",
              "      <td>0</td>\n",
              "      <td>13957</td>\n",
              "      <td>25311</td>\n",
              "      <td>10841</td>\n",
              "      <td>[]</td>\n",
              "      <td>[]</td>\n",
              "      <td>0</td>\n",
              "      <td>[]</td>\n",
              "      <td>1647258374000</td>\n",
              "      <td>1040049</td>\n",
              "    </tr>\n",
              "  </tbody>\n",
              "</table>\n",
              "</div>"
            ],
            "text/plain": [
              "                                                text  retweets_count  \\\n",
              "0                 rt refarcir macron ans nom prépare               3   \n",
              "1                                          populaire               0   \n",
              "2                                faut dégager cinglé               3   \n",
              "3  enseignants mettre prescriptions président rép...               0   \n",
              "4                         mafieuse oppressive macron               0   \n",
              "\n",
              "   favorites_count  followers_count  statuses_count  friends_count mentions  \\\n",
              "0                0             3682          453535           3628       []   \n",
              "1                0               86            1016            284       []   \n",
              "2                1             1944           28234           1995       []   \n",
              "3                0                1            1072              0       []   \n",
              "4                0            13957           25311          10841       []   \n",
              "\n",
              "                          urls  verified hashtags      timestamp  TweetID  \n",
              "0                           []         0       []  1646978048000   832509  \n",
              "1                           []         0       []  1647694288000  1388011  \n",
              "2                           []         0       []  1647370048000    63896  \n",
              "3  ['https://t.co/rytlted08g']         0       []  1647256282000   979251  \n",
              "4                           []         0       []  1647258374000  1040049  "
            ]
          },
          "execution_count": 25,
          "metadata": {},
          "output_type": "execute_result"
        }
      ],
      "source": [
        "data = pd.read_csv('train.csv', header=0) #index_col=0 \n",
        "data.head()"
      ],
      "id": "uFMqLM0gt0XW"
    },
    {
      "cell_type": "markdown",
      "id": "dc2941f3",
      "metadata": {
        "scrolled": true,
        "trusted": true,
        "id": "dc2941f3"
      },
      "source": [
        "### Data description"
      ]
    },
    {
      "cell_type": "code",
      "execution_count": null,
      "metadata": {
        "execution": {
          "iopub.execute_input": "2022-12-02T07:15:27.365056Z",
          "iopub.status.busy": "2022-12-02T07:15:27.364837Z",
          "iopub.status.idle": "2022-12-02T07:15:27.475042Z",
          "shell.execute_reply": "2022-12-02T07:15:27.474060Z",
          "shell.execute_reply.started": "2022-12-02T07:15:27.365030Z"
        },
        "trusted": true,
        "id": "m_gQ0crGt0XW",
        "outputId": "66c013b6-6f26-4a91-f761-1fa312e2310b"
      },
      "outputs": [
        {
          "data": {
            "text/html": [
              "<div>\n",
              "<style scoped>\n",
              "    .dataframe tbody tr th:only-of-type {\n",
              "        vertical-align: middle;\n",
              "    }\n",
              "\n",
              "    .dataframe tbody tr th {\n",
              "        vertical-align: top;\n",
              "    }\n",
              "\n",
              "    .dataframe thead th {\n",
              "        text-align: right;\n",
              "    }\n",
              "</style>\n",
              "<table border=\"1\" class=\"dataframe\">\n",
              "  <thead>\n",
              "    <tr style=\"text-align: right;\">\n",
              "      <th></th>\n",
              "      <th>retweets_count</th>\n",
              "      <th>favorites_count</th>\n",
              "      <th>followers_count</th>\n",
              "      <th>statuses_count</th>\n",
              "      <th>friends_count</th>\n",
              "      <th>verified</th>\n",
              "      <th>timestamp</th>\n",
              "      <th>TweetID</th>\n",
              "    </tr>\n",
              "  </thead>\n",
              "  <tbody>\n",
              "    <tr>\n",
              "      <th>count</th>\n",
              "      <td>353969.000000</td>\n",
              "      <td>353969.000000</td>\n",
              "      <td>3.539690e+05</td>\n",
              "      <td>3.539690e+05</td>\n",
              "      <td>353969.000000</td>\n",
              "      <td>353969.000000</td>\n",
              "      <td>3.539690e+05</td>\n",
              "      <td>3.539690e+05</td>\n",
              "    </tr>\n",
              "    <tr>\n",
              "      <th>mean</th>\n",
              "      <td>15.831810</td>\n",
              "      <td>46.655442</td>\n",
              "      <td>2.021548e+04</td>\n",
              "      <td>4.808507e+04</td>\n",
              "      <td>1459.289003</td>\n",
              "      <td>0.030005</td>\n",
              "      <td>1.647004e+12</td>\n",
              "      <td>6.872503e+05</td>\n",
              "    </tr>\n",
              "    <tr>\n",
              "      <th>std</th>\n",
              "      <td>241.986723</td>\n",
              "      <td>852.044385</td>\n",
              "      <td>2.598715e+05</td>\n",
              "      <td>1.133854e+05</td>\n",
              "      <td>2502.933271</td>\n",
              "      <td>0.170602</td>\n",
              "      <td>4.846468e+09</td>\n",
              "      <td>4.175793e+05</td>\n",
              "    </tr>\n",
              "    <tr>\n",
              "      <th>min</th>\n",
              "      <td>0.000000</td>\n",
              "      <td>0.000000</td>\n",
              "      <td>0.000000e+00</td>\n",
              "      <td>1.000000e+00</td>\n",
              "      <td>0.000000</td>\n",
              "      <td>0.000000</td>\n",
              "      <td>1.301178e+12</td>\n",
              "      <td>3.000000e+00</td>\n",
              "    </tr>\n",
              "    <tr>\n",
              "      <th>25%</th>\n",
              "      <td>0.000000</td>\n",
              "      <td>0.000000</td>\n",
              "      <td>1.600000e+02</td>\n",
              "      <td>2.972000e+03</td>\n",
              "      <td>214.000000</td>\n",
              "      <td>0.000000</td>\n",
              "      <td>1.647068e+12</td>\n",
              "      <td>3.194490e+05</td>\n",
              "    </tr>\n",
              "    <tr>\n",
              "      <th>50%</th>\n",
              "      <td>1.000000</td>\n",
              "      <td>0.000000</td>\n",
              "      <td>7.260000e+02</td>\n",
              "      <td>1.250100e+04</td>\n",
              "      <td>693.000000</td>\n",
              "      <td>0.000000</td>\n",
              "      <td>1.647292e+12</td>\n",
              "      <td>6.719730e+05</td>\n",
              "    </tr>\n",
              "    <tr>\n",
              "      <th>75%</th>\n",
              "      <td>3.000000</td>\n",
              "      <td>1.000000</td>\n",
              "      <td>2.283000e+03</td>\n",
              "      <td>4.352200e+04</td>\n",
              "      <td>1804.000000</td>\n",
              "      <td>0.000000</td>\n",
              "      <td>1.647532e+12</td>\n",
              "      <td>1.049644e+06</td>\n",
              "    </tr>\n",
              "    <tr>\n",
              "      <th>max</th>\n",
              "      <td>63674.000000</td>\n",
              "      <td>122591.000000</td>\n",
              "      <td>1.441710e+07</td>\n",
              "      <td>8.183508e+06</td>\n",
              "      <td>237269.000000</td>\n",
              "      <td>1.000000</td>\n",
              "      <td>1.647727e+12</td>\n",
              "      <td>1.434456e+06</td>\n",
              "    </tr>\n",
              "  </tbody>\n",
              "</table>\n",
              "</div>"
            ],
            "text/plain": [
              "       retweets_count  favorites_count  followers_count  statuses_count  \\\n",
              "count   353969.000000    353969.000000     3.539690e+05    3.539690e+05   \n",
              "mean        15.831810        46.655442     2.021548e+04    4.808507e+04   \n",
              "std        241.986723       852.044385     2.598715e+05    1.133854e+05   \n",
              "min          0.000000         0.000000     0.000000e+00    1.000000e+00   \n",
              "25%          0.000000         0.000000     1.600000e+02    2.972000e+03   \n",
              "50%          1.000000         0.000000     7.260000e+02    1.250100e+04   \n",
              "75%          3.000000         1.000000     2.283000e+03    4.352200e+04   \n",
              "max      63674.000000    122591.000000     1.441710e+07    8.183508e+06   \n",
              "\n",
              "       friends_count       verified     timestamp       TweetID  \n",
              "count  353969.000000  353969.000000  3.539690e+05  3.539690e+05  \n",
              "mean     1459.289003       0.030005  1.647004e+12  6.872503e+05  \n",
              "std      2502.933271       0.170602  4.846468e+09  4.175793e+05  \n",
              "min         0.000000       0.000000  1.301178e+12  3.000000e+00  \n",
              "25%       214.000000       0.000000  1.647068e+12  3.194490e+05  \n",
              "50%       693.000000       0.000000  1.647292e+12  6.719730e+05  \n",
              "75%      1804.000000       0.000000  1.647532e+12  1.049644e+06  \n",
              "max    237269.000000       1.000000  1.647727e+12  1.434456e+06  "
            ]
          },
          "execution_count": 26,
          "metadata": {},
          "output_type": "execute_result"
        }
      ],
      "source": [
        "data.describe()"
      ],
      "id": "m_gQ0crGt0XW"
    },
    {
      "cell_type": "code",
      "execution_count": null,
      "metadata": {
        "execution": {
          "iopub.execute_input": "2022-12-02T07:15:27.476334Z",
          "iopub.status.busy": "2022-12-02T07:15:27.476121Z",
          "iopub.status.idle": "2022-12-02T07:15:27.482565Z",
          "shell.execute_reply": "2022-12-02T07:15:27.481667Z",
          "shell.execute_reply.started": "2022-12-02T07:15:27.476295Z"
        },
        "trusted": true,
        "id": "NE1oHzDHt0XX",
        "outputId": "0db19f9c-b3e3-4029-bec0-6cbabddd9d92"
      },
      "outputs": [
        {
          "data": {
            "text/plain": [
              "Index(['text', 'retweets_count', 'favorites_count', 'followers_count',\n",
              "       'statuses_count', 'friends_count', 'mentions', 'urls', 'verified',\n",
              "       'hashtags', 'timestamp', 'TweetID'],\n",
              "      dtype='object')"
            ]
          },
          "execution_count": 27,
          "metadata": {},
          "output_type": "execute_result"
        }
      ],
      "source": [
        "data.columns"
      ],
      "id": "NE1oHzDHt0XX"
    },
    {
      "cell_type": "markdown",
      "id": "ed7cbc50",
      "metadata": {
        "id": "ed7cbc50"
      },
      "source": [
        "### Defining the problem statement:\n",
        "> Create a ML model which should predict the number of retweets it will get after its publication.\n",
        "\n",
        ">Target Variable: retweets_count\n",
        "\n",
        "> Brute Predictors: text, retweets_count, favorites_count, followers_count, verified etc.\n",
        "#### Determining the type of Machine Learning\n",
        ">Based on the problem statement we need to create a supervised ML Regression model, as the target variable is Continuous."
      ]
    },
    {
      "cell_type": "markdown",
      "id": "dc7f1bdd",
      "metadata": {
        "id": "dc7f1bdd"
      },
      "source": [
        "#### Looking at the distribution of Target variable"
      ]
    },
    {
      "cell_type": "code",
      "execution_count": null,
      "id": "cdadf52e",
      "metadata": {
        "id": "cdadf52e",
        "outputId": "eadb2443-6bb2-4c5c-9e51-fc3f1193a1ac"
      },
      "outputs": [
        {
          "data": {
            "text/plain": [
              "<AxesSubplot:>"
            ]
          },
          "execution_count": 46,
          "metadata": {},
          "output_type": "execute_result"
        },
        {
          "data": {
            "image/png": "[encoded data removed]",
            "text/plain": [
              "<Figure size 432x288 with 1 Axes>"
            ]
          },
          "metadata": {
            "needs_background": "light"
          },
          "output_type": "display_data"
        }
      ],
      "source": [
        "%matplotlib inline\n",
        "# Creating histogram as the Target variable is Continuous\n",
        "# This will help us to understand the distribution of the MEDV values\n",
        "data['retweets_count'].hist(bins=4)"
      ]
    },
    {
      "cell_type": "markdown",
      "metadata": {
        "id": "G-YhpYGnt0XX"
      },
      "source": [
        "### Feature ingeneering\n",
        "##### Statistical correlation analysis (Feature Selection)\n",
        "###### Visual exploration of relationship between variables\n",
        "1. Continuous Vs Continuous ---- Scatter Plot\n",
        "2. Categorical Vs Continuous---- Box Plot\n",
        "3. Categorical Vs Categorical---- Grouped Bar Plots\n",
        "###### Statistical measurement of relationship strength between variables\n",
        "1. Continuous Vs Continuous ---- Correlation matrix\n",
        "2. Categorical Vs Continuous---- ANOVA test\n",
        "3. Categorical Vs Categorical--- Chi-Square test"
      ],
      "id": "G-YhpYGnt0XX"
    },
    {
      "cell_type": "markdown",
      "id": "4f502dea",
      "metadata": {
        "id": "4f502dea"
      },
      "source": [
        "#### Correlation \n",
        "It is crucial to consider the most discriminative features when attempting a task of regression by correlation matrix."
      ]
    },
    {
      "cell_type": "code",
      "execution_count": null,
      "metadata": {
        "execution": {
          "iopub.execute_input": "2022-12-02T07:15:27.484195Z",
          "iopub.status.busy": "2022-12-02T07:15:27.483927Z",
          "iopub.status.idle": "2022-12-02T07:15:28.091142Z",
          "shell.execute_reply": "2022-12-02T07:15:28.090574Z",
          "shell.execute_reply.started": "2022-12-02T07:15:27.484166Z"
        },
        "scrolled": true,
        "trusted": true,
        "id": "Cy7IYK3ut0XY",
        "outputId": "b6196cf9-cf41-41af-8bfa-66ad86802ba0"
      },
      "outputs": [
        {
          "data": {
            "image/png": "[encoded data removed]",
            "text/plain": [
              "<Figure size 1440x720 with 2 Axes>"
            ]
          },
          "metadata": {},
          "output_type": "display_data"
        }
      ],
      "source": [
        "#Use heatmap to see corelation between variables\n",
        "sns.heatmap(data.corr(),annot=True,cmap='viridis')\n",
        "plt.title('Heatmap of co-relation between variables',fontsize=16)\n",
        "plt.show()"
      ],
      "id": "Cy7IYK3ut0XY"
    },
    {
      "cell_type": "code",
      "execution_count": null,
      "id": "44675191",
      "metadata": {
        "id": "44675191"
      },
      "outputs": [],
      "source": [
        "def normalize(y_train):  \n",
        "    # Choose between standardization and MinMAx normalization\n",
        "    scaler=StandardScaler()\n",
        "    # Storing the fit object for later reference\n",
        "    scaler=scaler.fit(y_train)\n",
        "    # Generating the standardized values of X\n",
        "    yhat=scaler.transform(y_train)\n",
        "    return pd.DataFrame(data=yhat,columns=y_train.columns), scaler"
      ]
    },
    {
      "cell_type": "code",
      "execution_count": null,
      "id": "fb9cce24",
      "metadata": {
        "id": "fb9cce24",
        "outputId": "340fd247-1e39-4a54-e139-8ba72213ff01"
      },
      "outputs": [
        {
          "data": {
            "image/png": "[encoded data removed]",
            "text/plain": [
              "<Figure size 1440x720 with 2 Axes>"
            ]
          },
          "metadata": {},
          "output_type": "display_data"
        }
      ],
      "source": [
        "#Use heatmap to see corelation between variables\n",
        "Data_num=data[['favorites_count', 'followers_count',\n",
        "       'statuses_count', 'friends_count', 'verified']]\n",
        "\n",
        "Data_norm, scaler=normalize(Data_num)\n",
        "Data_norm['retweets_count']=data['retweets_count'].values\n",
        "mask = np.triu(np.ones_like(Data_norm.corr(), dtype=bool))\n",
        "\n",
        "sns.heatmap(Data_norm.corr(),mask=mask, center=0, annot=True,cmap='viridis') #  cmap='RdBu', linewidths=1, \n",
        "plt.title('Heatmap of co-relation between variables',fontsize=16)\n",
        "plt.show()"
      ]
    },
    {
      "cell_type": "markdown",
      "id": "5e2ebc32",
      "metadata": {
        "id": "5e2ebc32"
      },
      "source": [
        "\n",
        "> Feature importance By studying the importance of each feature, we find that the favorites_count has a high correlation than the others, it is the most critical features for the regressor.\n",
        "The feature importance of Random Forest will also states this later"
      ]
    },
    {
      "cell_type": "markdown",
      "id": "98c6535d",
      "metadata": {
        "id": "98c6535d"
      },
      "source": [
        "#### Relationship exploration: Continuous Vs Continuous -- Scatter Charts"
      ]
    },
    {
      "cell_type": "code",
      "execution_count": null,
      "id": "d91c98fc",
      "metadata": {
        "id": "d91c98fc",
        "outputId": "498e2bb2-adab-4f1d-b7e3-6b58d6ae1a87"
      },
      "outputs": [
        {
          "data": {
            "image/png": "[encoded data removed]",
            "text/plain": [
              "<Figure size 720x360 with 1 Axes>"
            ]
          },
          "metadata": {
            "needs_background": "light"
          },
          "output_type": "display_data"
        },
        {
          "data": {
            "image/png": "[encoded data removed]",
            "text/plain": [
              "<Figure size 720x360 with 1 Axes>"
            ]
          },
          "metadata": {
            "needs_background": "light"
          },
          "output_type": "display_data"
        },
        {
          "data": {
            "image/png": "[encoded data removed]",
            "text/plain": [
              "<Figure size 720x360 with 1 Axes>"
            ]
          },
          "metadata": {
            "needs_background": "light"
          },
          "output_type": "display_data"
        },
        {
          "data": {
            "image/png": "[encoded data removed]",
            "text/plain": [
              "<Figure size 720x360 with 1 Axes>"
            ]
          },
          "metadata": {
            "needs_background": "light"
          },
          "output_type": "display_data"
        },
        {
          "data": {
            "image/png": "[encoded data removed]",
            "text/plain": [
              "<Figure size 720x360 with 1 Axes>"
            ]
          },
          "metadata": {
            "needs_background": "light"
          },
          "output_type": "display_data"
        }
      ],
      "source": [
        "ContinuousCols=['favorites_count', 'followers_count',\n",
        "       'statuses_count', 'friends_count', 'verified']\n",
        "\n",
        "# Plotting scatter chart for each predictor vs the target variable\n",
        "for predictor in ContinuousCols:\n",
        "    data.plot.scatter(x=predictor, y='retweets_count', figsize=(10,5), title=predictor+\" VS \"+ 'MEDV')"
      ]
    },
    {
      "cell_type": "markdown",
      "id": "be72f090",
      "metadata": {
        "id": "be72f090"
      },
      "source": [
        "#### Preprocessing"
      ]
    },
    {
      "cell_type": "code",
      "execution_count": null,
      "metadata": {
        "execution": {
          "iopub.execute_input": "2022-12-02T07:15:28.092382Z",
          "iopub.status.busy": "2022-12-02T07:15:28.092096Z",
          "iopub.status.idle": "2022-12-02T07:15:28.097657Z",
          "shell.execute_reply": "2022-12-02T07:15:28.096873Z",
          "shell.execute_reply.started": "2022-12-02T07:15:28.092359Z"
        },
        "trusted": true,
        "id": "FGseveRgt0XZ"
      },
      "outputs": [],
      "source": [
        "def normalize(y_train):  \n",
        "    # Choose between standardization and MinMAx normalization\n",
        "    scaler=StandardScaler()\n",
        "    # Storing the fit object for later reference\n",
        "    scaler=scaler.fit(y_train)\n",
        "    # Generating the standardized values of X\n",
        "    yhat=scaler.transform(y_train)\n",
        "    return pd.DataFrame(data=yhat,columns=y_train.columns), scaler"
      ],
      "id": "FGseveRgt0XZ"
    },
    {
      "cell_type": "markdown",
      "id": "30c21963",
      "metadata": {
        "id": "30c21963"
      },
      "source": [
        "#### Metrics to use: MAE is the most important\n",
        "But we use also the MSE and the MSLE for model discrimination"
      ]
    },
    {
      "cell_type": "code",
      "execution_count": null,
      "metadata": {
        "execution": {
          "iopub.execute_input": "2022-12-02T07:15:28.100124Z",
          "iopub.status.busy": "2022-12-02T07:15:28.099817Z",
          "iopub.status.idle": "2022-12-02T07:15:28.113887Z",
          "shell.execute_reply": "2022-12-02T07:15:28.113299Z",
          "shell.execute_reply.started": "2022-12-02T07:15:28.100095Z"
        },
        "jupyter": {
          "source_hidden": true
        },
        "trusted": true,
        "id": "CKB3bWXEt0XZ"
      },
      "outputs": [],
      "source": [
        "def metrics_(orig, prediction):\n",
        "    mse = mean_squared_error(y_true=orig,\n",
        "                                 y_pred=prediction)\n",
        "    mae = mean_absolute_error(y_true=orig,\n",
        "                                  y_pred=prediction)\n",
        "    ms_le = mean_squared_log_error(y_true=np.abs(orig),\n",
        "                                       y_pred=np.abs(prediction))\n",
        "    metric = dict()\n",
        "    metric['MSE'] = mse\n",
        "    metric['MAE'] = mae\n",
        "    metric['MSLE'] = ms_le\n",
        "    return metric"
      ],
      "id": "CKB3bWXEt0XZ"
    },
    {
      "cell_type": "code",
      "execution_count": null,
      "metadata": {
        "execution": {
          "iopub.execute_input": "2022-12-02T07:15:28.115301Z",
          "iopub.status.busy": "2022-12-02T07:15:28.114998Z",
          "iopub.status.idle": "2022-12-02T07:15:28.125115Z",
          "shell.execute_reply": "2022-12-02T07:15:28.124644Z",
          "shell.execute_reply.started": "2022-12-02T07:15:28.115272Z"
        },
        "trusted": true,
        "id": "2Iq8Rg-dt0XZ"
      },
      "outputs": [],
      "source": [
        "#Data_num.isna().sum()"
      ],
      "id": "2Iq8Rg-dt0XZ"
    },
    {
      "cell_type": "code",
      "execution_count": null,
      "metadata": {
        "execution": {
          "iopub.execute_input": "2022-12-02T07:15:28.378481Z",
          "iopub.status.busy": "2022-12-02T07:15:28.378221Z",
          "iopub.status.idle": "2022-12-02T07:15:28.798056Z",
          "shell.execute_reply": "2022-12-02T07:15:28.797345Z",
          "shell.execute_reply.started": "2022-12-02T07:15:28.378458Z"
        },
        "scrolled": true,
        "trusted": true,
        "id": "guBft9vpt0XZ"
      },
      "outputs": [],
      "source": [],
      "id": "guBft9vpt0XZ"
    },
    {
      "cell_type": "markdown",
      "metadata": {
        "id": "b7DZLPU-t0XZ"
      },
      "source": [
        "### Design and train some models on numerical features"
      ],
      "id": "b7DZLPU-t0XZ"
    },
    {
      "cell_type": "code",
      "execution_count": null,
      "metadata": {
        "execution": {
          "iopub.execute_input": "2022-12-02T07:15:29.722141Z",
          "iopub.status.busy": "2022-12-02T07:15:29.721921Z",
          "iopub.status.idle": "2022-12-02T07:15:29.770547Z",
          "shell.execute_reply": "2022-12-02T07:15:29.769484Z",
          "shell.execute_reply.started": "2022-12-02T07:15:29.722120Z"
        },
        "trusted": true,
        "id": "AvRoWv8Lt0Xa"
      },
      "outputs": [],
      "source": [
        "\n",
        "Xtrain,Xtest=train_test_split(Data_norm,test_size=0.1)\n",
        "\n",
        "X_train = Xtrain[['favorites_count', 'followers_count',\n",
        "       'statuses_count', 'friends_count', 'verified']]\n",
        "y_train=Xtrain[['retweets_count']]\n",
        "\n",
        "\n",
        "X_test = Xtest[['favorites_count', 'followers_count',\n",
        "       'statuses_count', 'friends_count', 'verified']]\n",
        "y_test=Xtest[['retweets_count']]"
      ],
      "id": "AvRoWv8Lt0Xa"
    },
    {
      "cell_type": "markdown",
      "metadata": {
        "id": "DX19SfSxt0Xa"
      },
      "source": [
        "### Random Forest"
      ],
      "id": "DX19SfSxt0Xa"
    },
    {
      "cell_type": "code",
      "execution_count": null,
      "metadata": {
        "execution": {
          "iopub.execute_input": "2022-12-01T21:26:33.911896Z",
          "iopub.status.busy": "2022-12-01T21:26:33.911581Z",
          "iopub.status.idle": "2022-12-01T21:26:33.917888Z",
          "shell.execute_reply": "2022-12-01T21:26:33.916893Z",
          "shell.execute_reply.started": "2022-12-01T21:26:33.911861Z"
        },
        "trusted": true,
        "id": "WQ4km0tit0Xa"
      },
      "outputs": [],
      "source": [
        "# Define Parameters\n",
        "max_depth=[2, 8, 16]\n",
        "n_estimators = [64, 100, 128]\n",
        "param_grid = dict(max_depth=max_depth, n_estimators=n_estimators)\n",
        "\n",
        "# Build the grid search\n",
        "dfrst = RandomForestRegressor(n_estimators=n_estimators, max_depth=max_depth)\n",
        "grid = GridSearchCV(estimator=dfrst, param_grid=param_grid, cv = 5)\n",
        "\n",
        "# Creating the model on Training Data\n",
        "# grid_results = grid.fit(X_train, y_train)\n",
        "    \n",
        "# Extract the best decision forest \n",
        "#best_clf = grid_results.best_estimator_\n",
        "   \n",
        "# Printing all the parameters of Random Forest\n",
        "#print(best_clf)\n",
        "\n",
        "# prediction=best_clf.predict(X_test)"
      ],
      "id": "WQ4km0tit0Xa"
    },
    {
      "cell_type": "code",
      "execution_count": null,
      "metadata": {
        "execution": {
          "iopub.execute_input": "2022-12-01T21:26:34.687605Z",
          "iopub.status.busy": "2022-12-01T21:26:34.687306Z",
          "iopub.status.idle": "2022-12-01T21:30:40.071127Z",
          "shell.execute_reply": "2022-12-01T21:30:40.070174Z",
          "shell.execute_reply.started": "2022-12-01T21:26:34.687567Z"
        },
        "trusted": true,
        "id": "1L5NI7xwt0Xa",
        "outputId": "17532775-be4c-4e8e-c36d-bd021a6ec4fc"
      },
      "outputs": [
        {
          "name": "stdout",
          "output_type": "stream",
          "text": [
            "RFRegressor R2 Value over the train set 0.9438121154720681\n"
          ]
        },
        {
          "data": {
            "text/plain": [
              "{'MSE': 8271.589145583905,\n",
              " 'MAE': 6.464325515774433,\n",
              " 'MSLE': 0.26485161670057933,\n",
              " 'R2': 0.9438121154720681}"
            ]
          },
          "execution_count": 68,
          "metadata": {},
          "output_type": "execute_result"
        }
      ],
      "source": [
        "param = {\n",
        "        'max_depth': 8,\n",
        "        'min_impurity_decrease': 0.072,\n",
        "        'min_samples_split': 31,\n",
        "        'n_estimators': 100,\n",
        "    }\n",
        "\n",
        "rf = RandomForestRegressor() #(**param)\n",
        "# Creating the model on Training Data\n",
        "rf_b=rf.fit(X_train,y_train)\n",
        "    \n",
        "prediction=rf_b.predict(X_test)\n",
        "    \n",
        "    \n",
        "# Measuring Goodness of fit in Training data\n",
        "coef_determ=r2_score(y_train, rf_b.predict(X_train))\n",
        "print('RFRegressor R2 Value over the train set', coef_determ)\n",
        "    \n",
        "metrics_hist1=metrics_(y_test,prediction)\n",
        "metrics_hist1['R2']=coef_determ\n",
        "metrics_hist1 "
      ],
      "id": "1L5NI7xwt0Xa"
    },
    {
      "cell_type": "markdown",
      "id": "b6a04407",
      "metadata": {
        "id": "b6a04407"
      },
      "source": [
        "#### Plotting the feature_importances of the Random Forest"
      ]
    },
    {
      "cell_type": "code",
      "execution_count": null,
      "metadata": {
        "execution": {
          "iopub.execute_input": "2022-12-01T21:30:40.073067Z",
          "iopub.status.busy": "2022-12-01T21:30:40.072794Z",
          "iopub.status.idle": "2022-12-01T21:30:40.684076Z",
          "shell.execute_reply": "2022-12-01T21:30:40.683042Z",
          "shell.execute_reply.started": "2022-12-01T21:30:40.073038Z"
        },
        "trusted": true,
        "id": "nrjok9TOt0Xa",
        "outputId": "167eef3a-0ff5-42ee-d5d3-cbf356a5bf3f"
      },
      "outputs": [
        {
          "data": {
            "text/plain": [
              "<AxesSubplot:>"
            ]
          },
          "execution_count": 50,
          "metadata": {},
          "output_type": "execute_result"
        },
        {
          "data": {
            "image/png": "[encoded data removed]",
            "text/plain": [
              "<Figure size 432x288 with 1 Axes>"
            ]
          },
          "metadata": {
            "needs_background": "light"
          },
          "output_type": "display_data"
        }
      ],
      "source": [
        "Predictors_=['favorites_count', 'followers_count',\n",
        "       'statuses_count', 'friends_count', 'verified'] ## or X_train.colum\n",
        "feature_importances = pd.Series(rf.feature_importances_, index=X_train.columns)\n",
        "feature_importances.nlargest(10).plot(kind='barh')"
      ],
      "id": "nrjok9TOt0Xa"
    },
    {
      "cell_type": "markdown",
      "id": "adb90ddf",
      "metadata": {
        "id": "adb90ddf"
      },
      "source": [
        "> We can see that that favorites_count is the most important feature for this regression problem"
      ]
    },
    {
      "cell_type": "markdown",
      "metadata": {
        "id": "wXjmYuX9t0Xa"
      },
      "source": [
        "### SVM"
      ],
      "id": "wXjmYuX9t0Xa"
    },
    {
      "cell_type": "code",
      "execution_count": null,
      "metadata": {
        "execution": {
          "iopub.execute_input": "2022-12-01T21:02:46.218647Z",
          "iopub.status.busy": "2022-12-01T21:02:46.218216Z"
        },
        "trusted": true,
        "id": "FpdtkYvst0Xb"
      },
      "outputs": [],
      "source": [
        "\"\"\"#parameters = {'kernel':('linear', 'rbf'), 'C':[1, 10]}\n",
        "#svc = svm.SVC()\n",
        "#clf = GridSearchCV(svc, parameters)\n",
        "from sklearn import svm\n",
        "\n",
        "svregressor= svm.SVR(C=50, kernel='rbf', gamma=0.01) # LinearSVR() #\n",
        "mulregressor = MultiOutputRegressor(svregressor)\n",
        "# Printing all the parameters\n",
        "#print(mulregressor)\n",
        "\n",
        "# Creating the model on Training Data\n",
        "SVM=mulregressor.fit(X_train,y_train)\n",
        "prediction=SVM.predict(X_test)  \n",
        "# Measuring Goodness of fit in Training data 'MSE: %.3f' % MSE\n",
        "coef_determ=metrics.r2_score(y_train, SVM.predict(X_train))\n",
        "print('SVM R2 Value over the train set =: %i' % coef_determ)\n",
        "    \n",
        "metrics_hist2=metrics_(y_test,prediction)\n",
        "metrics_hist2['R2']=coef_determ\n",
        "metrics_hist2 \"\"\""
      ],
      "id": "FpdtkYvst0Xb"
    },
    {
      "cell_type": "markdown",
      "metadata": {
        "id": "sqD-syrRt0Xb"
      },
      "source": [
        "### XGBoost \n",
        "###### eXtreme Gradient Boosting"
      ],
      "id": "sqD-syrRt0Xb"
    },
    {
      "cell_type": "code",
      "execution_count": null,
      "id": "ce0c30ba",
      "metadata": {
        "id": "ce0c30ba",
        "outputId": "ef2d96a2-a1ac-4892-8c7d-35f3d98473d1"
      },
      "outputs": [
        {
          "name": "stdout",
          "output_type": "stream",
          "text": [
            "Collecting xgboost\n",
            "  Downloading xgboost-1.7.1-py3-none-macosx_10_15_x86_64.macosx_11_0_x86_64.macosx_12_0_x86_64.whl (1.8 MB)\n",
            "\u001b[K     |████████████████████████████████| 1.8 MB 4.8 MB/s eta 0:00:01\n",
            "\u001b[?25hRequirement already satisfied: scipy in /Users/gnabeyeuemmanuel/opt/anaconda3/lib/python3.8/site-packages (from xgboost) (1.7.3)\n",
            "Requirement already satisfied: numpy in /Users/gnabeyeuemmanuel/opt/anaconda3/lib/python3.8/site-packages (from xgboost) (1.20.3)\n",
            "Installing collected packages: xgboost\n",
            "Successfully installed xgboost-1.7.1\n",
            "Note: you may need to restart the kernel to use updated packages.\n"
          ]
        }
      ],
      "source": [
        "pip install xgboost"
      ]
    },
    {
      "cell_type": "code",
      "execution_count": null,
      "metadata": {
        "id": "xyI5QKp4t0Xb",
        "outputId": "9eb36d04-221d-42dd-8901-71b70dae1131"
      },
      "outputs": [
        {
          "name": "stdout",
          "output_type": "stream",
          "text": [
            "XgBoost R2 Value over the train set=:0\n"
          ]
        },
        {
          "data": {
            "text/plain": [
              "{'MSE': 16376.006659901714,\n",
              " 'MAE': 7.371401039868399,\n",
              " 'MSLE': 0.2506497592345919,\n",
              " 'R2': 0.982557788859505}"
            ]
          },
          "execution_count": 52,
          "metadata": {},
          "output_type": "execute_result"
        }
      ],
      "source": [
        "import xgboost\n",
        "params = {\n",
        "    'min_child_weight': [4, 8],\n",
        "    'gamma': [i / 10.0 for i in range(3, 6)],\n",
        "    'subsample': [i / 10.0 for i in range(5, 11)], #range(6,11)?\n",
        "    'colsample_bytree': [i / 10.0 for i in range(5, 11)],\n",
        "    'max_depth': [3, 4, 5], ##\n",
        "    'eta': [0.01,0.05, 0.1, 0.15,0.2,0.3,0.5]\n",
        "    }\n",
        "\n",
        "RegModel=xgboost.XGBRegressor(max_depth=3, \n",
        "                          learning_rate=0.1, \n",
        "                          n_estimators=1000, \n",
        "                          objective='reg:squarederror',\n",
        "                          booster='gbtree')\n",
        "\n",
        "# Creating the model on Training Data\n",
        "XGB=RegModel.fit(X_train,y_train)\n",
        "prediction=XGB.predict(X_test) \n",
        "\n",
        "# Measuring Goodness of fit in Training data 'MSE: %.3f' % MSE\n",
        "coef_determ=metrics.r2_score(y_train, XGB.predict(X_train))\n",
        "print('XgBoost R2 Value over the train set=:%i' %coef_determ)\n",
        "    \n",
        "metrics_hist3=metrics_(y_test,prediction)\n",
        "metrics_hist3['R2']=coef_determ\n",
        "metrics_hist3 "
      ],
      "id": "xyI5QKp4t0Xb"
    },
    {
      "cell_type": "code",
      "execution_count": null,
      "id": "eb780f34",
      "metadata": {
        "id": "eb780f34"
      },
      "outputs": [],
      "source": []
    },
    {
      "cell_type": "markdown",
      "metadata": {
        "id": "S9fk1umJt0Xb"
      },
      "source": [
        "#### GradientBoostingRegressor"
      ],
      "id": "S9fk1umJt0Xb"
    },
    {
      "cell_type": "code",
      "execution_count": null,
      "metadata": {
        "id": "VsArpqfRt0Xb",
        "outputId": "1c43860f-27ed-4e9b-9b49-0749e8579af6"
      },
      "outputs": [
        {
          "name": "stdout",
          "output_type": "stream",
          "text": [
            "GradientBoostingRegressor(learning_rate=0.022, max_depth=8,\n",
            "                          min_impurity_decrease=0.072, min_samples_split=31)\n",
            "GradientBoostingRegressor R2 Value over the train set=:0\n"
          ]
        },
        {
          "data": {
            "text/plain": [
              "{'MSE': 17873.699932128635,\n",
              " 'MAE': 8.111547966153827,\n",
              " 'MSLE': 0.7606620298454346,\n",
              " 'R2': 0.8930920599387301}"
            ]
          },
          "execution_count": 54,
          "metadata": {},
          "output_type": "execute_result"
        }
      ],
      "source": [
        "from sklearn.ensemble import GradientBoostingRegressor\n",
        "param = {\n",
        "    'learning_rate': 0.022,\n",
        "     'max_depth': 8,\n",
        "     'min_impurity_decrease': 0.072,\n",
        "     'min_samples_split': 31,\n",
        "     'n_estimators': 100\n",
        "     #'verbose':2\n",
        "}\n",
        "\n",
        "gbr_b = GradientBoostingRegressor(**param)\n",
        "#Printing all the parameters of the model\n",
        "print(gbr_b)\n",
        "# Creating the model on Training Data\n",
        "gbr_b.fit(X_train,y_train)\n",
        "\n",
        "prediction=gbr_b.predict(X_test) \n",
        "\n",
        "# Measuring Goodness of fit in Training data 'MSE: %.3f' % MSE\n",
        "coef_determ=metrics.r2_score(y_train, gbr_b.predict(X_train))\n",
        "print('GradientBoostingRegressor R2 Value over the train set=:%i' %coef_determ)\n",
        "    \n",
        "metrics_hist4=metrics_(y_test,prediction)\n",
        "metrics_hist4['R2']=coef_determ\n",
        "metrics_hist4 "
      ],
      "id": "VsArpqfRt0Xb"
    },
    {
      "cell_type": "markdown",
      "metadata": {
        "id": "0iXwO6Git0Xb"
      },
      "source": [
        "#### K-Nearest Neighbor(KNN)"
      ],
      "id": "0iXwO6Git0Xb"
    },
    {
      "cell_type": "code",
      "execution_count": null,
      "metadata": {
        "id": "S16jGlEct0Xb",
        "outputId": "2339d492-104c-45b6-b26b-81249422bd39"
      },
      "outputs": [
        {
          "name": "stdout",
          "output_type": "stream",
          "text": [
            "KNeighborsRegressor(n_neighbors=3)\n",
            "KNeighborsRegressor R2 Value over the train set=:0\n"
          ]
        },
        {
          "data": {
            "text/plain": [
              "{'MSE': 11133.638604024824,\n",
              " 'MAE': 7.345763765290843,\n",
              " 'MSLE': 0.32344525438712673,\n",
              " 'R2': 0.8182535471033037}"
            ]
          },
          "execution_count": 55,
          "metadata": {},
          "output_type": "execute_result"
        }
      ],
      "source": [
        "# K-Nearest Neighbor(KNN)\n",
        "from sklearn.neighbors import KNeighborsRegressor\n",
        "RegModel = KNeighborsRegressor(n_neighbors=3)\n",
        "\n",
        "# Printing all the parameters of KNN\n",
        "print(RegModel)\n",
        "\n",
        "# Creating the model on Training Data\n",
        "KNN=RegModel.fit(X_train,y_train)\n",
        "prediction=KNN.predict(X_test)\n",
        "\n",
        "\n",
        "# Measuring Goodness of fit in Training data\n",
        "coef_determ=metrics.r2_score(y_train, KNN.predict(X_train))\n",
        "print('KNeighborsRegressor R2 Value over the train set=:%i' %coef_determ)\n",
        "    \n",
        "metrics_hist5=metrics_(y_test,prediction)\n",
        "metrics_hist5['R2']=coef_determ\n",
        "metrics_hist5"
      ],
      "id": "S16jGlEct0Xb"
    },
    {
      "cell_type": "markdown",
      "metadata": {
        "id": "jf4DKuQwt0Xc"
      },
      "source": [
        "#### Linear Regression\n",
        "\n"
      ],
      "id": "jf4DKuQwt0Xc"
    },
    {
      "cell_type": "code",
      "execution_count": null,
      "metadata": {
        "id": "qLyLPMvQt0Xc",
        "outputId": "4c4a9922-feed-42a3-daca-66f3e4ac9d64"
      },
      "outputs": [
        {
          "name": "stdout",
          "output_type": "stream",
          "text": [
            "LinearRegression()\n",
            "Multiple Linear Regression R2 Value over the train set=:0\n"
          ]
        },
        {
          "data": {
            "text/plain": [
              "{'MSE': 13813.459586771136,\n",
              " 'MAE': 10.072526371752119,\n",
              " 'MSLE': 1.112887589607305,\n",
              " 'R2': 0.6936435461005208}"
            ]
          },
          "execution_count": 56,
          "metadata": {},
          "output_type": "execute_result"
        }
      ],
      "source": [
        "# Multiple Linear Regression\n",
        "from sklearn.linear_model import LinearRegression\n",
        "RegModel = LinearRegression()\n",
        "\n",
        "# Printing all the parameters of Linear regression\n",
        "print(RegModel)\n",
        "\n",
        "# Creating the model on Training Data\n",
        "LREG=RegModel.fit(X_train,y_train)\n",
        "prediction=LREG.predict(X_test)\n",
        "\n",
        "\n",
        "# Measuring Goodness of fit in Training data\n",
        "coef_determ=metrics.r2_score(y_train, LREG.predict(X_train))\n",
        "print('Multiple Linear Regression R2 Value over the train set=:%i' %coef_determ)\n",
        "    \n",
        "metrics_hist6=metrics_(y_test,prediction)\n",
        "metrics_hist6['R2']=coef_determ\n",
        "metrics_hist6 "
      ],
      "id": "qLyLPMvQt0Xc"
    },
    {
      "cell_type": "markdown",
      "metadata": {
        "id": "HTVIpLEQt0Xc"
      },
      "source": [
        "#### MLPRegressor "
      ],
      "id": "HTVIpLEQt0Xc"
    },
    {
      "cell_type": "code",
      "execution_count": null,
      "metadata": {
        "id": "vtZGYOwnt0Xc",
        "outputId": "9032c14f-6ad7-4117-f6d9-db79f13b36b3"
      },
      "outputs": [
        {
          "name": "stdout",
          "output_type": "stream",
          "text": [
            "MLPRegressor R2 Value over the train set=:0\n"
          ]
        },
        {
          "data": {
            "text/plain": [
              "{'MSE': 11896.252808853895,\n",
              " 'MAE': 7.202093146287153,\n",
              " 'MSLE': 0.3280683334269066,\n",
              " 'R2': 0.7229755084058642}"
            ]
          },
          "execution_count": 57,
          "metadata": {},
          "output_type": "execute_result"
        }
      ],
      "source": [
        "from sklearn.neural_network import MLPRegressor \n",
        "\n",
        "grid = [{\"hidden_layer_sizes\":list([(5,),(6,),(7,),(8,)])}]\n",
        "\n",
        "neural_network = GridSearchCV(\n",
        "    MLPRegressor(max_iter=1000, warm_start=True, random_state=42),\n",
        "    grid,\n",
        "    cv = 10,\n",
        ")\n",
        "\n",
        "neural_network = neural_network.fit(X_train, y_train) #y_train.values ?\n",
        "\n",
        "#neural_network = neural_network.best_estimator_\n",
        "\n",
        "prediction = neural_network.predict(X_test)\n",
        "\n",
        "# Measuring Goodness of fit in Training data 'MSE: %.3f' % MSE\n",
        "coef_determ=metrics.r2_score(y_train, neural_network.predict(X_train))\n",
        "print('MLPRegressor R2 Value over the train set=:%i' %coef_determ)\n",
        "    \n",
        "metrics_hist7=metrics_(y_test,prediction)\n",
        "metrics_hist7['R2']=coef_determ\n",
        "metrics_hist7 "
      ],
      "id": "vtZGYOwnt0Xc"
    },
    {
      "cell_type": "code",
      "execution_count": null,
      "metadata": {
        "id": "zdlsEcMGt0Xc",
        "outputId": "e2f588fb-58f9-4e1d-b470-63a371c4734e"
      },
      "outputs": [
        {
          "data": {
            "text/html": [
              "<div>\n",
              "<style scoped>\n",
              "    .dataframe tbody tr th:only-of-type {\n",
              "        vertical-align: middle;\n",
              "    }\n",
              "\n",
              "    .dataframe tbody tr th {\n",
              "        vertical-align: top;\n",
              "    }\n",
              "\n",
              "    .dataframe thead th {\n",
              "        text-align: right;\n",
              "    }\n",
              "</style>\n",
              "<table border=\"1\" class=\"dataframe\">\n",
              "  <thead>\n",
              "    <tr style=\"text-align: right;\">\n",
              "      <th></th>\n",
              "      <th>MSE</th>\n",
              "      <th>MAE</th>\n",
              "      <th>MSLE</th>\n",
              "      <th>R2</th>\n",
              "      <th>Model</th>\n",
              "    </tr>\n",
              "  </thead>\n",
              "  <tbody>\n",
              "    <tr>\n",
              "      <th>0</th>\n",
              "      <td>8271.589146</td>\n",
              "      <td>6.464326</td>\n",
              "      <td>0.264852</td>\n",
              "      <td>0.943812</td>\n",
              "      <td>RFRegressor</td>\n",
              "    </tr>\n",
              "    <tr>\n",
              "      <th>1</th>\n",
              "      <td>16376.006660</td>\n",
              "      <td>7.371401</td>\n",
              "      <td>0.250650</td>\n",
              "      <td>0.982558</td>\n",
              "      <td>xgboost</td>\n",
              "    </tr>\n",
              "    <tr>\n",
              "      <th>2</th>\n",
              "      <td>17873.699932</td>\n",
              "      <td>8.111548</td>\n",
              "      <td>0.760662</td>\n",
              "      <td>0.893092</td>\n",
              "      <td>GradientBoosting</td>\n",
              "    </tr>\n",
              "    <tr>\n",
              "      <th>3</th>\n",
              "      <td>11133.638604</td>\n",
              "      <td>7.345764</td>\n",
              "      <td>0.323445</td>\n",
              "      <td>0.818254</td>\n",
              "      <td>KNeighborsRegressor</td>\n",
              "    </tr>\n",
              "    <tr>\n",
              "      <th>4</th>\n",
              "      <td>13813.459587</td>\n",
              "      <td>10.072526</td>\n",
              "      <td>1.112888</td>\n",
              "      <td>0.693644</td>\n",
              "      <td>LinRegressor</td>\n",
              "    </tr>\n",
              "    <tr>\n",
              "      <th>5</th>\n",
              "      <td>11896.252809</td>\n",
              "      <td>7.202093</td>\n",
              "      <td>0.328068</td>\n",
              "      <td>0.722976</td>\n",
              "      <td>MLPRegressor</td>\n",
              "    </tr>\n",
              "  </tbody>\n",
              "</table>\n",
              "</div>"
            ],
            "text/plain": [
              "            MSE        MAE      MSLE        R2                Model\n",
              "0   8271.589146   6.464326  0.264852  0.943812          RFRegressor\n",
              "1  16376.006660   7.371401  0.250650  0.982558              xgboost\n",
              "2  17873.699932   8.111548  0.760662  0.893092     GradientBoosting\n",
              "3  11133.638604   7.345764  0.323445  0.818254  KNeighborsRegressor\n",
              "4  13813.459587  10.072526  1.112888  0.693644         LinRegressor\n",
              "5  11896.252809   7.202093  0.328068  0.722976         MLPRegressor"
            ]
          },
          "execution_count": 69,
          "metadata": {},
          "output_type": "execute_result"
        }
      ],
      "source": [
        "from collections import defaultdict\n",
        "\n",
        "mon_dico = defaultdict(list)\n",
        "model=['RFRegressor','xgboost','GradientBoosting','KNeighborsRegressor','LinRegressor','MLPRegressor'] # 'Prophet','xgb']\n",
        "\n",
        "dicts = (metrics_hist1,metrics_hist3,metrics_hist4,metrics_hist5,metrics_hist6,metrics_hist7) \n",
        "for d in dicts: # you can list as many input dicts as you want here\n",
        "    for key, value in d.items():\n",
        "        mon_dico[key].append(value)\n",
        "mon_dico['Model'].extend(model)\n",
        "        \n",
        "m=pd.DataFrame(mon_dico)\n",
        "m"
      ],
      "id": "zdlsEcMGt0Xc"
    },
    {
      "cell_type": "code",
      "execution_count": null,
      "id": "2b90dfc0",
      "metadata": {
        "id": "2b90dfc0",
        "outputId": "97186880-ee00-41cb-8f35-ba686890ce7b"
      },
      "outputs": [
        {
          "data": {
            "text/html": [
              "<div>\n",
              "<style scoped>\n",
              "    .dataframe tbody tr th:only-of-type {\n",
              "        vertical-align: middle;\n",
              "    }\n",
              "\n",
              "    .dataframe tbody tr th {\n",
              "        vertical-align: top;\n",
              "    }\n",
              "\n",
              "    .dataframe thead th {\n",
              "        text-align: right;\n",
              "    }\n",
              "</style>\n",
              "<table border=\"1\" class=\"dataframe\">\n",
              "  <thead>\n",
              "    <tr style=\"text-align: right;\">\n",
              "      <th></th>\n",
              "      <th>MSE</th>\n",
              "      <th>MAE</th>\n",
              "      <th>MSLE</th>\n",
              "      <th>R2</th>\n",
              "    </tr>\n",
              "    <tr>\n",
              "      <th>Model</th>\n",
              "      <th></th>\n",
              "      <th></th>\n",
              "      <th></th>\n",
              "      <th></th>\n",
              "    </tr>\n",
              "  </thead>\n",
              "  <tbody>\n",
              "    <tr>\n",
              "      <th>RFRegressor</th>\n",
              "      <td>8271.589146</td>\n",
              "      <td>6.464326</td>\n",
              "      <td>0.264852</td>\n",
              "      <td>0.943812</td>\n",
              "    </tr>\n",
              "    <tr>\n",
              "      <th>MLPRegressor</th>\n",
              "      <td>11896.252809</td>\n",
              "      <td>7.202093</td>\n",
              "      <td>0.328068</td>\n",
              "      <td>0.722976</td>\n",
              "    </tr>\n",
              "    <tr>\n",
              "      <th>KNeighborsRegressor</th>\n",
              "      <td>11133.638604</td>\n",
              "      <td>7.345764</td>\n",
              "      <td>0.323445</td>\n",
              "      <td>0.818254</td>\n",
              "    </tr>\n",
              "    <tr>\n",
              "      <th>xgboost</th>\n",
              "      <td>16376.006660</td>\n",
              "      <td>7.371401</td>\n",
              "      <td>0.250650</td>\n",
              "      <td>0.982558</td>\n",
              "    </tr>\n",
              "    <tr>\n",
              "      <th>GradientBoosting</th>\n",
              "      <td>17873.699932</td>\n",
              "      <td>8.111548</td>\n",
              "      <td>0.760662</td>\n",
              "      <td>0.893092</td>\n",
              "    </tr>\n",
              "    <tr>\n",
              "      <th>LinRegressor</th>\n",
              "      <td>13813.459587</td>\n",
              "      <td>10.072526</td>\n",
              "      <td>1.112888</td>\n",
              "      <td>0.693644</td>\n",
              "    </tr>\n",
              "  </tbody>\n",
              "</table>\n",
              "</div>"
            ],
            "text/plain": [
              "                              MSE        MAE      MSLE        R2\n",
              "Model                                                           \n",
              "RFRegressor           8271.589146   6.464326  0.264852  0.943812\n",
              "MLPRegressor         11896.252809   7.202093  0.328068  0.722976\n",
              "KNeighborsRegressor  11133.638604   7.345764  0.323445  0.818254\n",
              "xgboost              16376.006660   7.371401  0.250650  0.982558\n",
              "GradientBoosting     17873.699932   8.111548  0.760662  0.893092\n",
              "LinRegressor         13813.459587  10.072526  1.112888  0.693644"
            ]
          },
          "execution_count": 70,
          "metadata": {},
          "output_type": "execute_result"
        }
      ],
      "source": [
        "m1=m.sort_values(by=['MAE'], ascending=True)\n",
        "m1=m1.set_index('Model')\n",
        "m1"
      ]
    },
    {
      "cell_type": "code",
      "execution_count": null,
      "id": "3a7047ae",
      "metadata": {
        "id": "3a7047ae"
      },
      "outputs": [],
      "source": [
        "#m1.to_latex"
      ]
    },
    {
      "cell_type": "markdown",
      "metadata": {
        "id": "kKVqEgYpt0Xc"
      },
      "source": [
        "## Words Processing"
      ],
      "id": "kKVqEgYpt0Xc"
    },
    {
      "cell_type": "markdown",
      "id": "7a7d5648",
      "metadata": {
        "id": "7a7d5648"
      },
      "source": [
        "##### A function to clean our text data"
      ]
    },
    {
      "cell_type": "code",
      "execution_count": null,
      "id": "a318e9c8",
      "metadata": {
        "id": "a318e9c8",
        "outputId": "6b3040aa-43f6-4926-a427-f90934a6cee2"
      },
      "outputs": [
        {
          "name": "stdout",
          "output_type": "stream",
          "text": [
            "faut partager parait croient theorie france\n"
          ]
        }
      ],
      "source": [
        "import unidecode\n",
        "def preprocess(df):\n",
        "    clean_txt = []\n",
        "    for w in range(len(df.text)):\n",
        "        text = df['text'][w].lower()\n",
        "        #remove punctuation\n",
        "        text = text.replace(\"[\",\" \")\n",
        "        text = text.replace(\"]\",\"\")\n",
        "        text = text.replace(\"'\",\"\")\n",
        "        text = text.replace(\",\",\"\")\n",
        "        text = unidecode.unidecode(text )        \n",
        "        clean_txt.append(text)\n",
        "    df['clean'] = clean_txt\n",
        "    return df\n",
        "df= preprocess(data)\n",
        "print(df.loc[261][\"clean\"])\n",
        "\n",
        "data[\"text\"] = data[\"text\"] + data[\"hashtags\"].astype(str)\n",
        "df1= preprocess(data)"
      ]
    },
    {
      "cell_type": "markdown",
      "metadata": {
        "id": "byMn7Cz8t0Xd"
      },
      "source": [
        "TF-IDF Vectorization\n",
        "\n",
        "TF-IDF is a composite score representing the power of a given word to uniquely identify the document\n",
        "\n",
        "It is computed by multiplying Term Frequency(TF) and Inverse Document Frequency(IDF)\n",
        "TF: (The number of times a word occurs in a document/ total words in that document)\n",
        "IDF: log (total number of documents/number of documents containing the given word).\n",
        "\n",
        "IF a word is very common, then IDF is near to zero, otherwise, it is close to 1\n",
        "The higher the tf-idf value of a word, the more unique/rare occurring that word is.\n",
        "If the tf-idf is close to zero, it means the word is very commonly used"
      ],
      "id": "byMn7Cz8t0Xd"
    },
    {
      "cell_type": "code",
      "execution_count": null,
      "id": "d882ecd2",
      "metadata": {
        "id": "d882ecd2",
        "outputId": "d3749151-cd7c-4a66-d83e-4bb6f8f913a0"
      },
      "outputs": [
        {
          "name": "stderr",
          "output_type": "stream",
          "text": [
            "[nltk_data] Downloading package stopwords to\n",
            "[nltk_data]     /Users/gnabeyeuemmanuel/nltk_data...\n",
            "[nltk_data]   Unzipping corpora/stopwords.zip.\n"
          ]
        },
        {
          "data": {
            "text/plain": [
              "True"
            ]
          },
          "execution_count": 125,
          "metadata": {},
          "output_type": "execute_result"
        }
      ],
      "source": [
        "nltk.download('stopwords')"
      ]
    },
    {
      "cell_type": "code",
      "execution_count": null,
      "metadata": {
        "execution": {
          "iopub.execute_input": "2022-12-01T21:33:02.442700Z",
          "iopub.status.busy": "2022-12-01T21:33:02.442185Z",
          "iopub.status.idle": "2022-12-01T21:33:08.331366Z",
          "shell.execute_reply": "2022-12-01T21:33:08.330330Z",
          "shell.execute_reply.started": "2022-12-01T21:33:02.442662Z"
        },
        "trusted": true,
        "id": "A5Uy6yT_t0Xd",
        "outputId": "5260677e-3b98-451c-c5fe-820fa67601ac"
      },
      "outputs": [
        {
          "data": {
            "text/html": [
              "<div>\n",
              "<style scoped>\n",
              "    .dataframe tbody tr th:only-of-type {\n",
              "        vertical-align: middle;\n",
              "    }\n",
              "\n",
              "    .dataframe tbody tr th {\n",
              "        vertical-align: top;\n",
              "    }\n",
              "\n",
              "    .dataframe thead th {\n",
              "        text-align: right;\n",
              "    }\n",
              "</style>\n",
              "<table border=\"1\" class=\"dataframe\">\n",
              "  <thead>\n",
              "    <tr style=\"text-align: right;\">\n",
              "      <th></th>\n",
              "      <th>0</th>\n",
              "      <th>1</th>\n",
              "      <th>2</th>\n",
              "      <th>3</th>\n",
              "      <th>4</th>\n",
              "      <th>5</th>\n",
              "      <th>6</th>\n",
              "      <th>7</th>\n",
              "      <th>8</th>\n",
              "      <th>9</th>\n",
              "      <th>...</th>\n",
              "      <th>90</th>\n",
              "      <th>91</th>\n",
              "      <th>92</th>\n",
              "      <th>93</th>\n",
              "      <th>94</th>\n",
              "      <th>95</th>\n",
              "      <th>96</th>\n",
              "      <th>97</th>\n",
              "      <th>98</th>\n",
              "      <th>99</th>\n",
              "    </tr>\n",
              "  </thead>\n",
              "  <tbody>\n",
              "    <tr>\n",
              "      <th>0</th>\n",
              "      <td>0.0</td>\n",
              "      <td>0.774755</td>\n",
              "      <td>0.0</td>\n",
              "      <td>0.0</td>\n",
              "      <td>0.0</td>\n",
              "      <td>0.0</td>\n",
              "      <td>0.0</td>\n",
              "      <td>0.0</td>\n",
              "      <td>0.0</td>\n",
              "      <td>0.0</td>\n",
              "      <td>...</td>\n",
              "      <td>0.0</td>\n",
              "      <td>0.0</td>\n",
              "      <td>0.0</td>\n",
              "      <td>0.0</td>\n",
              "      <td>0.0</td>\n",
              "      <td>0.0</td>\n",
              "      <td>0.0</td>\n",
              "      <td>0.0</td>\n",
              "      <td>0.0</td>\n",
              "      <td>0.000000</td>\n",
              "    </tr>\n",
              "    <tr>\n",
              "      <th>1</th>\n",
              "      <td>0.0</td>\n",
              "      <td>0.000000</td>\n",
              "      <td>0.0</td>\n",
              "      <td>0.0</td>\n",
              "      <td>0.0</td>\n",
              "      <td>0.0</td>\n",
              "      <td>0.0</td>\n",
              "      <td>0.0</td>\n",
              "      <td>0.0</td>\n",
              "      <td>0.0</td>\n",
              "      <td>...</td>\n",
              "      <td>0.0</td>\n",
              "      <td>0.0</td>\n",
              "      <td>0.0</td>\n",
              "      <td>0.0</td>\n",
              "      <td>0.0</td>\n",
              "      <td>0.0</td>\n",
              "      <td>0.0</td>\n",
              "      <td>0.0</td>\n",
              "      <td>0.0</td>\n",
              "      <td>0.000000</td>\n",
              "    </tr>\n",
              "    <tr>\n",
              "      <th>2</th>\n",
              "      <td>0.0</td>\n",
              "      <td>0.000000</td>\n",
              "      <td>0.0</td>\n",
              "      <td>0.0</td>\n",
              "      <td>0.0</td>\n",
              "      <td>0.0</td>\n",
              "      <td>0.0</td>\n",
              "      <td>0.0</td>\n",
              "      <td>0.0</td>\n",
              "      <td>0.0</td>\n",
              "      <td>...</td>\n",
              "      <td>0.0</td>\n",
              "      <td>0.0</td>\n",
              "      <td>0.0</td>\n",
              "      <td>0.0</td>\n",
              "      <td>0.0</td>\n",
              "      <td>0.0</td>\n",
              "      <td>0.0</td>\n",
              "      <td>0.0</td>\n",
              "      <td>0.0</td>\n",
              "      <td>0.000000</td>\n",
              "    </tr>\n",
              "    <tr>\n",
              "      <th>3</th>\n",
              "      <td>0.0</td>\n",
              "      <td>0.000000</td>\n",
              "      <td>0.0</td>\n",
              "      <td>0.0</td>\n",
              "      <td>0.0</td>\n",
              "      <td>0.0</td>\n",
              "      <td>0.0</td>\n",
              "      <td>0.0</td>\n",
              "      <td>0.0</td>\n",
              "      <td>0.0</td>\n",
              "      <td>...</td>\n",
              "      <td>0.0</td>\n",
              "      <td>0.0</td>\n",
              "      <td>0.0</td>\n",
              "      <td>0.0</td>\n",
              "      <td>0.0</td>\n",
              "      <td>0.0</td>\n",
              "      <td>0.0</td>\n",
              "      <td>0.0</td>\n",
              "      <td>0.0</td>\n",
              "      <td>0.000000</td>\n",
              "    </tr>\n",
              "    <tr>\n",
              "      <th>4</th>\n",
              "      <td>0.0</td>\n",
              "      <td>0.000000</td>\n",
              "      <td>0.0</td>\n",
              "      <td>0.0</td>\n",
              "      <td>0.0</td>\n",
              "      <td>0.0</td>\n",
              "      <td>0.0</td>\n",
              "      <td>0.0</td>\n",
              "      <td>0.0</td>\n",
              "      <td>0.0</td>\n",
              "      <td>...</td>\n",
              "      <td>0.0</td>\n",
              "      <td>0.0</td>\n",
              "      <td>0.0</td>\n",
              "      <td>0.0</td>\n",
              "      <td>0.0</td>\n",
              "      <td>0.0</td>\n",
              "      <td>0.0</td>\n",
              "      <td>0.0</td>\n",
              "      <td>0.0</td>\n",
              "      <td>0.000000</td>\n",
              "    </tr>\n",
              "    <tr>\n",
              "      <th>...</th>\n",
              "      <td>...</td>\n",
              "      <td>...</td>\n",
              "      <td>...</td>\n",
              "      <td>...</td>\n",
              "      <td>...</td>\n",
              "      <td>...</td>\n",
              "      <td>...</td>\n",
              "      <td>...</td>\n",
              "      <td>...</td>\n",
              "      <td>...</td>\n",
              "      <td>...</td>\n",
              "      <td>...</td>\n",
              "      <td>...</td>\n",
              "      <td>...</td>\n",
              "      <td>...</td>\n",
              "      <td>...</td>\n",
              "      <td>...</td>\n",
              "      <td>...</td>\n",
              "      <td>...</td>\n",
              "      <td>...</td>\n",
              "      <td>...</td>\n",
              "    </tr>\n",
              "    <tr>\n",
              "      <th>353964</th>\n",
              "      <td>0.0</td>\n",
              "      <td>0.000000</td>\n",
              "      <td>0.0</td>\n",
              "      <td>0.0</td>\n",
              "      <td>0.0</td>\n",
              "      <td>0.0</td>\n",
              "      <td>0.0</td>\n",
              "      <td>0.0</td>\n",
              "      <td>0.0</td>\n",
              "      <td>0.0</td>\n",
              "      <td>...</td>\n",
              "      <td>0.0</td>\n",
              "      <td>0.0</td>\n",
              "      <td>0.0</td>\n",
              "      <td>0.0</td>\n",
              "      <td>0.0</td>\n",
              "      <td>0.0</td>\n",
              "      <td>0.0</td>\n",
              "      <td>0.0</td>\n",
              "      <td>0.0</td>\n",
              "      <td>0.000000</td>\n",
              "    </tr>\n",
              "    <tr>\n",
              "      <th>353965</th>\n",
              "      <td>0.0</td>\n",
              "      <td>0.000000</td>\n",
              "      <td>0.0</td>\n",
              "      <td>0.0</td>\n",
              "      <td>0.0</td>\n",
              "      <td>0.0</td>\n",
              "      <td>0.0</td>\n",
              "      <td>0.0</td>\n",
              "      <td>0.0</td>\n",
              "      <td>0.0</td>\n",
              "      <td>...</td>\n",
              "      <td>0.0</td>\n",
              "      <td>0.0</td>\n",
              "      <td>0.0</td>\n",
              "      <td>0.0</td>\n",
              "      <td>0.0</td>\n",
              "      <td>0.0</td>\n",
              "      <td>0.0</td>\n",
              "      <td>0.0</td>\n",
              "      <td>0.0</td>\n",
              "      <td>0.000000</td>\n",
              "    </tr>\n",
              "    <tr>\n",
              "      <th>353966</th>\n",
              "      <td>0.0</td>\n",
              "      <td>0.000000</td>\n",
              "      <td>0.0</td>\n",
              "      <td>0.0</td>\n",
              "      <td>0.0</td>\n",
              "      <td>0.0</td>\n",
              "      <td>0.0</td>\n",
              "      <td>0.0</td>\n",
              "      <td>0.0</td>\n",
              "      <td>0.0</td>\n",
              "      <td>...</td>\n",
              "      <td>0.0</td>\n",
              "      <td>0.0</td>\n",
              "      <td>0.0</td>\n",
              "      <td>0.0</td>\n",
              "      <td>0.0</td>\n",
              "      <td>0.0</td>\n",
              "      <td>0.0</td>\n",
              "      <td>0.0</td>\n",
              "      <td>0.0</td>\n",
              "      <td>0.430075</td>\n",
              "    </tr>\n",
              "    <tr>\n",
              "      <th>353967</th>\n",
              "      <td>0.0</td>\n",
              "      <td>0.000000</td>\n",
              "      <td>0.0</td>\n",
              "      <td>0.0</td>\n",
              "      <td>0.0</td>\n",
              "      <td>0.0</td>\n",
              "      <td>0.0</td>\n",
              "      <td>0.0</td>\n",
              "      <td>0.0</td>\n",
              "      <td>0.0</td>\n",
              "      <td>...</td>\n",
              "      <td>0.0</td>\n",
              "      <td>0.0</td>\n",
              "      <td>0.0</td>\n",
              "      <td>0.0</td>\n",
              "      <td>0.0</td>\n",
              "      <td>0.0</td>\n",
              "      <td>0.0</td>\n",
              "      <td>0.0</td>\n",
              "      <td>0.0</td>\n",
              "      <td>0.000000</td>\n",
              "    </tr>\n",
              "    <tr>\n",
              "      <th>353968</th>\n",
              "      <td>0.0</td>\n",
              "      <td>0.000000</td>\n",
              "      <td>0.0</td>\n",
              "      <td>0.0</td>\n",
              "      <td>0.0</td>\n",
              "      <td>0.0</td>\n",
              "      <td>0.0</td>\n",
              "      <td>0.0</td>\n",
              "      <td>0.0</td>\n",
              "      <td>0.0</td>\n",
              "      <td>...</td>\n",
              "      <td>0.0</td>\n",
              "      <td>0.0</td>\n",
              "      <td>0.0</td>\n",
              "      <td>0.0</td>\n",
              "      <td>0.0</td>\n",
              "      <td>0.0</td>\n",
              "      <td>0.0</td>\n",
              "      <td>0.0</td>\n",
              "      <td>0.0</td>\n",
              "      <td>0.000000</td>\n",
              "    </tr>\n",
              "  </tbody>\n",
              "</table>\n",
              "<p>353969 rows × 100 columns</p>\n",
              "</div>"
            ],
            "text/plain": [
              "         0         1    2    3    4    5    6    7    8    9   ...   90   91  \\\n",
              "0       0.0  0.774755  0.0  0.0  0.0  0.0  0.0  0.0  0.0  0.0  ...  0.0  0.0   \n",
              "1       0.0  0.000000  0.0  0.0  0.0  0.0  0.0  0.0  0.0  0.0  ...  0.0  0.0   \n",
              "2       0.0  0.000000  0.0  0.0  0.0  0.0  0.0  0.0  0.0  0.0  ...  0.0  0.0   \n",
              "3       0.0  0.000000  0.0  0.0  0.0  0.0  0.0  0.0  0.0  0.0  ...  0.0  0.0   \n",
              "4       0.0  0.000000  0.0  0.0  0.0  0.0  0.0  0.0  0.0  0.0  ...  0.0  0.0   \n",
              "...     ...       ...  ...  ...  ...  ...  ...  ...  ...  ...  ...  ...  ...   \n",
              "353964  0.0  0.000000  0.0  0.0  0.0  0.0  0.0  0.0  0.0  0.0  ...  0.0  0.0   \n",
              "353965  0.0  0.000000  0.0  0.0  0.0  0.0  0.0  0.0  0.0  0.0  ...  0.0  0.0   \n",
              "353966  0.0  0.000000  0.0  0.0  0.0  0.0  0.0  0.0  0.0  0.0  ...  0.0  0.0   \n",
              "353967  0.0  0.000000  0.0  0.0  0.0  0.0  0.0  0.0  0.0  0.0  ...  0.0  0.0   \n",
              "353968  0.0  0.000000  0.0  0.0  0.0  0.0  0.0  0.0  0.0  0.0  ...  0.0  0.0   \n",
              "\n",
              "         92   93   94   95   96   97   98        99  \n",
              "0       0.0  0.0  0.0  0.0  0.0  0.0  0.0  0.000000  \n",
              "1       0.0  0.0  0.0  0.0  0.0  0.0  0.0  0.000000  \n",
              "2       0.0  0.0  0.0  0.0  0.0  0.0  0.0  0.000000  \n",
              "3       0.0  0.0  0.0  0.0  0.0  0.0  0.0  0.000000  \n",
              "4       0.0  0.0  0.0  0.0  0.0  0.0  0.0  0.000000  \n",
              "...     ...  ...  ...  ...  ...  ...  ...       ...  \n",
              "353964  0.0  0.0  0.0  0.0  0.0  0.0  0.0  0.000000  \n",
              "353965  0.0  0.0  0.0  0.0  0.0  0.0  0.0  0.000000  \n",
              "353966  0.0  0.0  0.0  0.0  0.0  0.0  0.0  0.430075  \n",
              "353967  0.0  0.0  0.0  0.0  0.0  0.0  0.0  0.000000  \n",
              "353968  0.0  0.0  0.0  0.0  0.0  0.0  0.0  0.000000  \n",
              "\n",
              "[353969 rows x 100 columns]"
            ]
          },
          "execution_count": 133,
          "metadata": {},
          "output_type": "execute_result"
        }
      ],
      "source": [
        "# TF-IDF vectorization of text\n",
        "corpus = df1['clean'].values\n",
        " \n",
        "#vectorizer = TfidfVectorizer(stop_words=None)\n",
        "vectorizer = TfidfVectorizer(max_features=100, stop_words=stopwords.words('french'))\n",
        " \n",
        "X_ = vectorizer.fit_transform(corpus)\n",
        "temp=pd.DataFrame(X_.todense())\n",
        "temp\n"
      ],
      "id": "A5Uy6yT_t0Xd"
    },
    {
      "cell_type": "markdown",
      "id": "f91b2775",
      "metadata": {
        "id": "f91b2775"
      },
      "source": [
        "#### PCA over the text vectorilized to retain the most relevant information/feature"
      ]
    },
    {
      "cell_type": "code",
      "execution_count": null,
      "id": "a03b85f5",
      "metadata": {
        "id": "a03b85f5"
      },
      "outputs": [],
      "source": [
        "pca1 = PCA(n_components = 0.9)  #(n_components=0.99)\n",
        "result1 = pca1.fit_transform(temp)"
      ]
    },
    {
      "cell_type": "code",
      "execution_count": null,
      "id": "387c0f60",
      "metadata": {
        "id": "387c0f60",
        "outputId": "2c565733-c978-4a75-a86c-6446e88bd903"
      },
      "outputs": [
        {
          "name": "stdout",
          "output_type": "stream",
          "text": [
            "Cumulative Variances (Percentage):\n"
          ]
        },
        {
          "data": {
            "text/plain": [
              "Text(0, 0.5, 'Explained variance (%)')"
            ]
          },
          "execution_count": 211,
          "metadata": {},
          "output_type": "execute_result"
        },
        {
          "data": {
            "image/png": "[encoded data removed]",
            "text/plain": [
              "<Figure size 432x288 with 1 Axes>"
            ]
          },
          "metadata": {
            "needs_background": "light"
          },
          "output_type": "display_data"
        }
      ],
      "source": [
        "print(\"Cumulative Variances (Percentage):\")\n",
        "\n",
        "components = len(pca1.explained_variance_ratio_)\n",
        "# Make the scree plot\n",
        "y_h=np.cumsum(pca1.explained_variance_ratio_ * 100)\n",
        "y_h = np.insert(y_h,0, 0)\n",
        "plt.plot(range(1, components + 2), y_h)\n",
        "plt.xlabel(\"Number of components\")\n",
        "plt.ylabel(\"Explained variance (%)\")"
      ]
    },
    {
      "cell_type": "code",
      "execution_count": null,
      "id": "3c01c0d0",
      "metadata": {
        "id": "3c01c0d0",
        "outputId": "264ffe96-51a7-48ea-9a42-545c183602d1"
      },
      "outputs": [
        {
          "name": "stdout",
          "output_type": "stream",
          "text": [
            "RFRegressor R2 Value over the train set 0.9438585066263006\n"
          ]
        },
        {
          "data": {
            "text/plain": [
              "\"metriq_1=metrics_(y_test,prediction)\\nmetriq_1['R2']=coef_determ\\nmetriq_1\""
            ]
          },
          "execution_count": 212,
          "metadata": {},
          "output_type": "execute_result"
        }
      ],
      "source": [
        "other_predictors = ['favorites_count', 'followers_count',\n",
        "       'statuses_count', 'friends_count'] # 'favorites_count'\n",
        "tab =pd.concat([pd.DataFrame(result1),df1[other_predictors]],axis=1)\n",
        "# print(vectorizer.get_feature_names())\n",
        "# Choose between standardization and MinMAx normalization\n",
        "Scaler=StandardScaler()\n",
        "#PredictorScaler=MinMaxScaler()\n",
        " \n",
        "# Storing the fit object for later reference\n",
        "ScalerFit=Scaler.fit(tab)\n",
        " \n",
        "# Generating the standardized values of X\n",
        "tab=ScalerFit.transform(tab)\n",
        " \n",
        "# Split the data into training and testing set\n",
        "from sklearn.model_selection import train_test_split\n",
        "X_train, X_test, y_train, y_test = train_test_split(tab, data['retweets_count'], test_size=0.1)\n",
        "\n",
        "rf = RandomForestRegressor() #(**param)\n",
        "# Creating the model on Training Data\n",
        "rf_b2=rf.fit(tab, data['retweets_count']) # (X_train,y_train)\n",
        "    \n",
        "\"\"\"prediction=rf_b2.predict(X_test)\"\"\"\n",
        "    \n",
        "    \n",
        "# Measuring Goodness of fit in Training data\n",
        "coef_determ=r2_score(y_train, rf_b2.predict(X_train))\n",
        "print('RFRegressor R2 Value over the train set', coef_determ)\n",
        "    \n",
        "\"\"\"metriq_1=metrics_(y_test,prediction)\n",
        "metriq_1['R2']=coef_determ\n",
        "metriq_1\"\"\""
      ]
    },
    {
      "cell_type": "markdown",
      "id": "47cad461",
      "metadata": {
        "id": "47cad461"
      },
      "source": [
        "##### Prediction"
      ]
    },
    {
      "cell_type": "code",
      "execution_count": null,
      "id": "6d555221",
      "metadata": {
        "id": "6d555221"
      },
      "outputs": [],
      "source": [
        "NewSampleData=pd.read_csv('evaluation.csv', header=0) #index_col=0 \n",
        "\n",
        "# Adding the target variable\n",
        "EvalData=NewSampleData.copy()\n",
        "EvalData[\"text\"] = EvalData[\"text\"] + EvalData[\"hashtags\"].astype(str)\n",
        "dframe= preprocess(EvalData)\n",
        "\n",
        " \n",
        "X_Eval = vectorizer.transform(dframe['clean'].values)\n",
        "temp_pca=pd.DataFrame(X_Eval.todense())\n",
        "resultEval = pca1.transform(temp_pca)\n",
        "tabEval =pd.concat([pd.DataFrame(resultEval),EvalData[other_predictors]],axis=1)\n",
        "tabEval=ScalerFit.transform(tabEval)\n",
        "\n",
        "\n",
        "# Genrating Predictions\n",
        "Pred=rf_b2.predict(tabEval)\n",
        "PredResult=pd.DataFrame(Pred, columns=['retweets_count'])\n",
        "PredResult['TweetID']=EvalData['TweetID']\n",
        "PredResult.set_index('TweetID').reset_index(drop=False)\n",
        "\n",
        "PredResult.to_csv('Model_TDIDF_PCA_RForest.csv', index=False)"
      ]
    },
    {
      "cell_type": "markdown",
      "id": "b0b0b028",
      "metadata": {
        "id": "b0b0b028"
      },
      "source": [
        "#### K Means clustering over the text to generate categorical features"
      ]
    },
    {
      "cell_type": "code",
      "execution_count": null,
      "id": "1187f6e9",
      "metadata": {
        "id": "1187f6e9"
      },
      "outputs": [],
      "source": [
        "from sklearn.cluster import KMeans\n",
        "scl = StandardScaler()\n",
        "dfnorm = scl.fit_transform(temp)"
      ]
    },
    {
      "cell_type": "markdown",
      "id": "4742a555",
      "metadata": {
        "id": "4742a555"
      },
      "source": [
        "##### Elbow method to determine the optimal number of cluster"
      ]
    },
    {
      "cell_type": "code",
      "execution_count": null,
      "id": "df2d7ad7",
      "metadata": {
        "id": "df2d7ad7",
        "outputId": "8d684ccb-c250-4e85-a19b-cf577367ed5f"
      },
      "outputs": [
        {
          "data": {
            "image/png": "[encoded data removed]",
            "text/plain": [
              "<Figure size 432x288 with 1 Axes>"
            ]
          },
          "metadata": {
            "needs_background": "light"
          },
          "output_type": "display_data"
        }
      ],
      "source": [
        "wCSS = []\n",
        "for i in range(54,74):\n",
        "    kmeans = KMeans(n_clusters = i, init = 'k-means++', max_iter = 300, n_init = 10)\n",
        "    kmeans.fit(dfnorm)\n",
        "    wCSS.append(kmeans.inertia_) #Collects all of the within cluster sum of squares\n",
        "plt.plot(range(54,74), wCSS,'bx-')\n",
        "plt.title('Elbow Method')\n",
        "plt.xlabel('Clusters')\n",
        "plt.ylabel('wCSS')\n",
        "plt.show()"
      ]
    },
    {
      "cell_type": "code",
      "execution_count": null,
      "id": "401b9966",
      "metadata": {
        "id": "401b9966"
      },
      "outputs": [],
      "source": []
    },
    {
      "cell_type": "code",
      "execution_count": null,
      "id": "a5856a56",
      "metadata": {
        "id": "a5856a56",
        "outputId": "abc11369-7cba-43b3-fcbd-6f105e64f020"
      },
      "outputs": [
        {
          "data": {
            "image/png": "[encoded data removed]",
            "text/plain": [
              "<Figure size 432x288 with 1 Axes>"
            ]
          },
          "metadata": {
            "needs_background": "light"
          },
          "output_type": "display_data"
        }
      ],
      "source": [
        "plt.plot(range(67,75), wCSS[-8:],'bx-')\n",
        "plt.title('Elbow Method')\n",
        "plt.xlabel('Clusters')\n",
        "plt.ylabel('wCSS')\n",
        "plt.show()"
      ]
    },
    {
      "cell_type": "markdown",
      "id": "e2aea678",
      "metadata": {
        "id": "e2aea678"
      },
      "source": [
        "Here, 68 clusters seems to be optimal based on the criteria mentioned earlier"
      ]
    },
    {
      "cell_type": "code",
      "execution_count": null,
      "id": "c1f628f0",
      "metadata": {
        "id": "c1f628f0"
      },
      "outputs": [],
      "source": [
        "true_k=68\n",
        "model = KMeans(n_clusters=true_k, init='k-means++', max_iter=100, n_init=1)\n",
        "model.fit(dfnorm)\n",
        "preds = model.predict(dfnorm)"
      ]
    },
    {
      "cell_type": "code",
      "execution_count": null,
      "id": "d48c8e16",
      "metadata": {
        "id": "d48c8e16"
      },
      "outputs": [],
      "source": [
        "other_predictors = ['favorites_count', 'followers_count',\n",
        "       'statuses_count', 'friends_count'] # 'favorites_count'\n",
        "tab =pd.concat([pd.DataFrame(preds),df1[other_predictors]],axis=1)\n",
        "# print(vectorizer.get_feature_names())"
      ]
    },
    {
      "cell_type": "code",
      "execution_count": null,
      "metadata": {
        "id": "WhL8H66Nt0Xe"
      },
      "outputs": [],
      "source": [
        "# Choose between standardization and MinMAx normalization\n",
        "Scaler=StandardScaler()\n",
        "#PredictorScaler=MinMaxScaler()\n",
        " \n",
        "# Storing the fit object for later reference\n",
        "ScalerFit=Scaler.fit(tab)\n",
        " \n",
        "# Generating the standardized values of X\n",
        "tab=ScalerFit.transform(tab)\n",
        " \n",
        "# Split the data into training and testing set\n",
        "from sklearn.model_selection import train_test_split\n",
        "X_train, X_test, y_train, y_test = train_test_split(tab, data['retweets_count'], test_size=0.1, random_state=428)"
      ],
      "id": "WhL8H66Nt0Xe"
    },
    {
      "cell_type": "code",
      "execution_count": null,
      "id": "27dd9381",
      "metadata": {
        "id": "27dd9381",
        "outputId": "01881e73-3e61-4128-e6ad-62549a4a44a5"
      },
      "outputs": [
        {
          "name": "stdout",
          "output_type": "stream",
          "text": [
            "RFRegressor R2 Value over the train set 0.9417226626809931\n"
          ]
        },
        {
          "data": {
            "text/plain": [
              "\"metriq_=metrics_(y_test,prediction)\\nmetriq_['R2']=coef_determ\\nmetriq_ \""
            ]
          },
          "execution_count": 208,
          "metadata": {},
          "output_type": "execute_result"
        }
      ],
      "source": [
        "rf = RandomForestRegressor() #(**param)\n",
        "# Creating the model on Training Data\n",
        "rf_b=rf.fit(tab,data['retweets_count']) # rf.fit(X_train, y_train)\n",
        "    \n",
        "\"\"\"prediction=rf_b.predict(X_test)\"\"\"\n",
        "    \n",
        "    \n",
        "# Measuring Goodness of fit in Training data\n",
        "coef_determ=r2_score(y_train, rf_b.predict(X_train))\n",
        "print('RFRegressor R2 Value over the train set', coef_determ)\n",
        "    \n",
        "\"\"\"metriq_=metrics_(y_test,prediction)\n",
        "metriq_['R2']=coef_determ\n",
        "metriq_ \"\"\""
      ]
    },
    {
      "cell_type": "code",
      "execution_count": null,
      "id": "2a9040ae",
      "metadata": {
        "id": "2a9040ae",
        "outputId": "e2536add-76b7-4dc6-d60b-a62e5ec26a0a"
      },
      "outputs": [
        {
          "data": {
            "text/plain": [
              "<AxesSubplot:>"
            ]
          },
          "execution_count": 175,
          "metadata": {},
          "output_type": "execute_result"
        },
        {
          "data": {
            "image/png": "[encoded data removed]",
            "text/plain": [
              "<Figure size 432x288 with 1 Axes>"
            ]
          },
          "metadata": {
            "needs_background": "light"
          },
          "output_type": "display_data"
        }
      ],
      "source": [
        "feature_importances = pd.Series(rf.feature_importances_, index=['cluster','favorites_count', 'followers_count',\n",
        "       'statuses_count', 'friends_count'])\n",
        "feature_importances.nlargest(10).plot(kind='barh')"
      ]
    },
    {
      "cell_type": "markdown",
      "id": "7c66a9a0",
      "metadata": {
        "id": "7c66a9a0"
      },
      "source": [
        "##### Prediction"
      ]
    },
    {
      "cell_type": "code",
      "execution_count": null,
      "id": "f4165fab",
      "metadata": {
        "id": "f4165fab"
      },
      "outputs": [],
      "source": [
        "NewSampleData=pd.read_csv('evaluation.csv', header=0) #index_col=0 \n",
        "\n",
        "# Adding the target variable\n",
        "EvalData=NewSampleData.copy()\n",
        "EvalData[\"text\"] = EvalData[\"text\"] + EvalData[\"hashtags\"].astype(str)\n",
        "dframe= preprocess(EvalData)\n",
        "\n",
        " \n",
        "X_Eval = vectorizer.transform(dframe['clean'].values)\n",
        "temp2=pd.DataFrame(X_Eval.todense())\n",
        "dfnorm_Eval = scl.fit_transform(temp2)\n",
        "preds2 = model.predict(dfnorm_Eval)\n",
        "tab2 =pd.concat([pd.DataFrame(preds2),EvalData[other_predictors]],axis=1)\n",
        "tab2=ScalerFit.transform(tab2)\n",
        "\n",
        "# Genrating Predictions\n",
        "Predict=rf_b.predict(tab2)\n",
        "PredictResult=pd.DataFrame(Predict, columns=['retweets_count'])\n",
        "PredictResult['TweetID']=EvalData['TweetID']\n",
        "PredictResult.set_index('TweetID').reset_index(drop=False)\n",
        "\n",
        "PredictResult.to_csv('ModelClusterRForest.csv', index=False)\n"
      ]
    },
    {
      "cell_type": "markdown",
      "metadata": {
        "id": "Aja8rbxqt0Xf"
      },
      "source": [
        "#### Transfer learning with Word2Vec\n",
        "Transfer learning is one of the most important breakthroughs in machine learning! It helps us to use the models created by others.\n",
        "\n",
        "So if we can use the pre-trained models from others, that helps to resolve the problem of converting the text data to numeric data, and we can continue with the other tasks, such as classification or sentiment analysis, etc.\n",
        "\n",
        "Stanford’s GloVe and Google’s Word2Vec are two really popular choices in Text vectorization using transfer learning."
      ],
      "id": "Aja8rbxqt0Xf"
    },
    {
      "cell_type": "markdown",
      "metadata": {
        "id": "o3KIdhU9t0Xf"
      },
      "source": [
        "Word2Vec conversion:\n",
        "\n",
        "Now we will use the Word2Vec representation of words to convert the above document term matrix to a smaller matrix, where the columns are the sum of the vectors for each word present in the document.\n",
        "\n",
        "\n",
        "The numeric representation of each word is taken from Word2Vec.\n",
        "All the vectors are added, hence producing a single vector\n",
        "That single vector represents the information of the sentence, hence treated as one row"
      ],
      "id": "o3KIdhU9t0Xf"
    },
    {
      "cell_type": "markdown",
      "metadata": {
        "id": "zdYp2JK7t0Xf"
      },
      "source": [
        "https://drive.google.com/file/d/0B7XkCwpI5KDYNlNUTTlSS21pQmM/edit?usp=sharing\n",
        "\n",
        "This contains a binary file, that contains numeric representations for each word."
      ],
      "id": "zdYp2JK7t0Xf"
    },
    {
      "cell_type": "code",
      "execution_count": null,
      "metadata": {
        "id": "MjEX6eLRt0Xf",
        "outputId": "eacc33c9-760e-4481-b77d-2adc73c795e0"
      },
      "outputs": [
        {
          "name": "stdout",
          "output_type": "stream",
          "text": [
            "Requirement already satisfied: gensim in /Users/gnabeyeuemmanuel/opt/anaconda3/lib/python3.8/site-packages (4.2.0)\n",
            "Requirement already satisfied: scipy>=0.18.1 in /Users/gnabeyeuemmanuel/opt/anaconda3/lib/python3.8/site-packages (from gensim) (1.7.3)\n",
            "Requirement already satisfied: smart-open>=1.8.1 in /Users/gnabeyeuemmanuel/opt/anaconda3/lib/python3.8/site-packages (from gensim) (6.2.0)\n",
            "Requirement already satisfied: numpy>=1.17.0 in /Users/gnabeyeuemmanuel/opt/anaconda3/lib/python3.8/site-packages (from gensim) (1.20.3)\n"
          ]
        }
      ],
      "source": [
        "#Installing the gensim library required for word2Vec and Doc2Vec\n",
        "# !pip install gensim"
      ],
      "id": "MjEX6eLRt0Xf"
    },
    {
      "cell_type": "code",
      "execution_count": null,
      "metadata": {
        "execution": {
          "iopub.execute_input": "2022-12-02T07:15:44.511529Z",
          "iopub.status.busy": "2022-12-02T07:15:44.511130Z",
          "iopub.status.idle": "2022-12-02T07:16:45.464921Z",
          "shell.execute_reply": "2022-12-02T07:16:45.463259Z",
          "shell.execute_reply.started": "2022-12-02T07:15:44.511505Z"
        },
        "scrolled": true,
        "trusted": true,
        "id": "H_10IoB0t0Xf"
      },
      "outputs": [],
      "source": [
        "import gensim\n",
        "#Loading the word vectors from Google trained word2Vec model\n",
        "GoogleModel = gensim.models.KeyedVectors.load_word2vec_format('GoogleNews-vectors-negative300.bin', binary=True,)"
      ],
      "id": "H_10IoB0t0Xf"
    },
    {
      "cell_type": "code",
      "execution_count": null,
      "metadata": {
        "execution": {
          "iopub.execute_input": "2022-12-02T07:16:45.468528Z",
          "iopub.status.busy": "2022-12-02T07:16:45.468198Z",
          "iopub.status.idle": "2022-12-02T07:16:45.476085Z",
          "shell.execute_reply": "2022-12-02T07:16:45.475181Z",
          "shell.execute_reply.started": "2022-12-02T07:16:45.468494Z"
        },
        "trusted": true,
        "id": "we1TEv_7t0Xf",
        "outputId": "90bd7d92-6057-418e-80ad-129a2112dbbd"
      },
      "outputs": [
        {
          "data": {
            "text/plain": [
              "(300,)"
            ]
          },
          "execution_count": 100,
          "metadata": {},
          "output_type": "execute_result"
        }
      ],
      "source": [
        "# Each word is a vector of 300 numbers\n",
        "GoogleModel['hello'].shape"
      ],
      "id": "we1TEv_7t0Xf"
    },
    {
      "cell_type": "code",
      "execution_count": null,
      "metadata": {
        "trusted": true,
        "id": "S52cNWTct0Xf"
      },
      "outputs": [],
      "source": [],
      "id": "S52cNWTct0Xf"
    },
    {
      "cell_type": "markdown",
      "metadata": {
        "id": "-ays_BHut0Xf"
      },
      "source": [
        "##### Converting every sentence to a numeric vector"
      ],
      "id": "-ays_BHut0Xf"
    },
    {
      "cell_type": "code",
      "execution_count": null,
      "metadata": {
        "execution": {
          "iopub.execute_input": "2022-12-02T08:01:33.210427Z",
          "iopub.status.busy": "2022-12-02T08:01:33.209706Z",
          "iopub.status.idle": "2022-12-02T08:01:46.657322Z",
          "shell.execute_reply": "2022-12-02T08:01:46.656549Z",
          "shell.execute_reply.started": "2022-12-02T08:01:33.210400Z"
        },
        "trusted": true,
        "id": "e5XWEMUvt0Xf",
        "outputId": "2b2573a7-b378-4f6d-e9a7-db174edd4cfc"
      },
      "outputs": [
        {
          "data": {
            "text/html": [
              "<div>\n",
              "<style scoped>\n",
              "    .dataframe tbody tr th:only-of-type {\n",
              "        vertical-align: middle;\n",
              "    }\n",
              "\n",
              "    .dataframe tbody tr th {\n",
              "        vertical-align: top;\n",
              "    }\n",
              "\n",
              "    .dataframe thead th {\n",
              "        text-align: right;\n",
              "    }\n",
              "</style>\n",
              "<table border=\"1\" class=\"dataframe\">\n",
              "  <thead>\n",
              "    <tr style=\"text-align: right;\">\n",
              "      <th></th>\n",
              "      <th>text</th>\n",
              "      <th>retweets_count</th>\n",
              "      <th>favorites_count</th>\n",
              "      <th>followers_count</th>\n",
              "      <th>statuses_count</th>\n",
              "      <th>friends_count</th>\n",
              "      <th>mentions</th>\n",
              "      <th>urls</th>\n",
              "      <th>verified</th>\n",
              "      <th>hashtags</th>\n",
              "      <th>timestamp</th>\n",
              "      <th>TweetID</th>\n",
              "      <th>clean</th>\n",
              "    </tr>\n",
              "  </thead>\n",
              "  <tbody>\n",
              "    <tr>\n",
              "      <th>0</th>\n",
              "      <td>rt refarcir macron ans nom prépare[]</td>\n",
              "      <td>3</td>\n",
              "      <td>0</td>\n",
              "      <td>3682</td>\n",
              "      <td>453535</td>\n",
              "      <td>3628</td>\n",
              "      <td>[]</td>\n",
              "      <td>[]</td>\n",
              "      <td>0</td>\n",
              "      <td>[]</td>\n",
              "      <td>1646978048000</td>\n",
              "      <td>832509</td>\n",
              "      <td>rt refarcir macron ans nom prepare</td>\n",
              "    </tr>\n",
              "    <tr>\n",
              "      <th>1</th>\n",
              "      <td>populaire[]</td>\n",
              "      <td>0</td>\n",
              "      <td>0</td>\n",
              "      <td>86</td>\n",
              "      <td>1016</td>\n",
              "      <td>284</td>\n",
              "      <td>[]</td>\n",
              "      <td>[]</td>\n",
              "      <td>0</td>\n",
              "      <td>[]</td>\n",
              "      <td>1647694288000</td>\n",
              "      <td>1388011</td>\n",
              "      <td>populaire</td>\n",
              "    </tr>\n",
              "    <tr>\n",
              "      <th>2</th>\n",
              "      <td>faut dégager cinglé[]</td>\n",
              "      <td>3</td>\n",
              "      <td>1</td>\n",
              "      <td>1944</td>\n",
              "      <td>28234</td>\n",
              "      <td>1995</td>\n",
              "      <td>[]</td>\n",
              "      <td>[]</td>\n",
              "      <td>0</td>\n",
              "      <td>[]</td>\n",
              "      <td>1647370048000</td>\n",
              "      <td>63896</td>\n",
              "      <td>faut degager cingle</td>\n",
              "    </tr>\n",
              "    <tr>\n",
              "      <th>3</th>\n",
              "      <td>enseignants mettre prescriptions président rép...</td>\n",
              "      <td>0</td>\n",
              "      <td>0</td>\n",
              "      <td>1</td>\n",
              "      <td>1072</td>\n",
              "      <td>0</td>\n",
              "      <td>[]</td>\n",
              "      <td>['https://t.co/rytlted08g']</td>\n",
              "      <td>0</td>\n",
              "      <td>[]</td>\n",
              "      <td>1647256282000</td>\n",
              "      <td>979251</td>\n",
              "      <td>enseignants mettre prescriptions president rep...</td>\n",
              "    </tr>\n",
              "    <tr>\n",
              "      <th>4</th>\n",
              "      <td>mafieuse oppressive macron[]</td>\n",
              "      <td>0</td>\n",
              "      <td>0</td>\n",
              "      <td>13957</td>\n",
              "      <td>25311</td>\n",
              "      <td>10841</td>\n",
              "      <td>[]</td>\n",
              "      <td>[]</td>\n",
              "      <td>0</td>\n",
              "      <td>[]</td>\n",
              "      <td>1647258374000</td>\n",
              "      <td>1040049</td>\n",
              "      <td>mafieuse oppressive macron</td>\n",
              "    </tr>\n",
              "  </tbody>\n",
              "</table>\n",
              "</div>"
            ],
            "text/plain": [
              "                                                text  retweets_count  \\\n",
              "0               rt refarcir macron ans nom prépare[]               3   \n",
              "1                                        populaire[]               0   \n",
              "2                              faut dégager cinglé[]               3   \n",
              "3  enseignants mettre prescriptions président rép...               0   \n",
              "4                       mafieuse oppressive macron[]               0   \n",
              "\n",
              "   favorites_count  followers_count  statuses_count  friends_count mentions  \\\n",
              "0                0             3682          453535           3628       []   \n",
              "1                0               86            1016            284       []   \n",
              "2                1             1944           28234           1995       []   \n",
              "3                0                1            1072              0       []   \n",
              "4                0            13957           25311          10841       []   \n",
              "\n",
              "                          urls  verified hashtags      timestamp  TweetID  \\\n",
              "0                           []         0       []  1646978048000   832509   \n",
              "1                           []         0       []  1647694288000  1388011   \n",
              "2                           []         0       []  1647370048000    63896   \n",
              "3  ['https://t.co/rytlted08g']         0       []  1647256282000   979251   \n",
              "4                           []         0       []  1647258374000  1040049   \n",
              "\n",
              "                                               clean  \n",
              "0                rt refarcir macron ans nom prepare   \n",
              "1                                         populaire   \n",
              "2                               faut degager cingle   \n",
              "3  enseignants mettre prescriptions president rep...  \n",
              "4                        mafieuse oppressive macron   "
            ]
          },
          "execution_count": 101,
          "metadata": {},
          "output_type": "execute_result"
        }
      ],
      "source": [
        "df= preprocess(data)\n",
        "df.head()"
      ],
      "id": "e5XWEMUvt0Xf"
    },
    {
      "cell_type": "markdown",
      "id": "f3b4bfda",
      "metadata": {
        "id": "f3b4bfda"
      },
      "source": [
        "#### Defining a function which takes text input and returns one vector (300,1) for each sentence"
      ]
    },
    {
      "cell_type": "code",
      "execution_count": null,
      "metadata": {
        "trusted": true,
        "id": "V2qTLHo9t0Xg"
      },
      "outputs": [],
      "source": [
        "# Defining a function which takes text input and returns one vector for each sentence\n",
        "def FunctionText2Vec(inpTextData):\n",
        "    # Creating empty dataframe to hold sentences\n",
        "    vocab = GoogleModel.key_to_index.keys()\n",
        "    W2Vec_Data=pd.DataFrame()\n",
        "    \n",
        "    # Looping through each row for the data\n",
        "    for i in range(inpTextData.shape[0]): \n",
        "        \n",
        "        # initiating a sentence with all zeros\n",
        "        Sentence = np.zeros(300)\n",
        "\n",
        "        # Looping thru each word in the sentence and if its present in \n",
        "        # the Word2Vec model then storing its vector\n",
        "        # Word tokenization\n",
        "        L=word_tokenize(inpTextData[i])\n",
        "        for word in L:\n",
        "            #print(word)\n",
        "            if word in vocab:    \n",
        "                Sentence=Sentence+GoogleModel[word]\n",
        "            else:\n",
        "                print(\"Word {} not in vocab\".format(w))\n",
        "        # Appending the sentence to the dataframe\n",
        "        W2Vec_Data=pd.concat([W2Vec_Data,pd.DataFrame([Sentence])]) \n",
        "    return(W2Vec_Data)"
      ],
      "id": "V2qTLHo9t0Xg"
    },
    {
      "cell_type": "markdown",
      "id": "8d221659",
      "metadata": {
        "id": "8d221659"
      },
      "source": [
        "#### Defining a class which takes text input and returns one vector for each sentence (average of words of the sentences type (300,1))"
      ]
    },
    {
      "cell_type": "code",
      "execution_count": null,
      "metadata": {
        "execution": {
          "iopub.execute_input": "2022-12-02T08:48:54.360535Z",
          "iopub.status.busy": "2022-12-02T08:48:54.359387Z",
          "iopub.status.idle": "2022-12-02T08:48:54.369693Z",
          "shell.execute_reply": "2022-12-02T08:48:54.368188Z",
          "shell.execute_reply.started": "2022-12-02T08:48:54.360470Z"
        },
        "trusted": true,
        "id": "rf5JNlWyt0Xg"
      },
      "outputs": [],
      "source": [
        "class MeanEmbeddingVectorizer(object):\n",
        "\n",
        "\tdef __init__(self, word_model):\n",
        "\t\tself.word_model = word_model\n",
        "\t\tself.vector_size = word_model.vector_size\n",
        "\n",
        "\tdef fit(self):  # comply with scikit-learn transformer requirement\n",
        "\t\treturn self\n",
        "\n",
        "\tdef transform(self, docs):  # comply with scikit-learn transformer requirement\n",
        "\t\tdoc_word_vector = self.word_average_list(docs)\n",
        "\t\treturn doc_word_vector\n",
        "\n",
        "\tdef word_average(self, sent):\n",
        "\t\t\"\"\"\n",
        "\t\tCompute average word vector for a single doc/sentence.\n",
        "\t\t:param sent: list of sentence tokens\n",
        "\t\t:return:\n",
        "\t\t\tmean: float of averaging word vectors\n",
        "\t\t\"\"\"\n",
        "\t\tmean = []\n",
        "\t\tfor word in sent:\n",
        "\t\t\tif word in self.word_model.key_to_index.keys():\n",
        "\t\t\t\tmean.append(self.word_model.get_vector(word))\n",
        "\n",
        "\t\tif not mean:  # empty words\n",
        "\t\t\t# If a text is empty, return a vector of zeros.\n",
        "\t\t\tlogging.warning(\"cannot compute average owing to no vector for {}\".format(sent))\n",
        "\t\t\treturn np.zeros(self.vector_size)\n",
        "\t\telse:\n",
        "\t\t\tmean = np.array(mean).mean(axis=0)\n",
        "\t\t\treturn mean\n",
        "\n",
        "\n",
        "\tdef word_average_list(self, docs):\n",
        "\t\t\"\"\"\n",
        "\t\tCompute average word vector for multiple docs, where docs had been tokenized.\n",
        "\t\t:param docs: list of sentence in list of separated tokens\n",
        "\t\t:return:\n",
        "\t\t\tarray of average word vector in shape (len(docs),)\n",
        "\t\t\"\"\"\n",
        "\t\t#W2Vec_Data=pd.DataFrame()\n",
        "\t\t# Appending the sentence to the dataframe\n",
        "\t\t#for sent in docs:\n",
        "\t\t#\tW2Vec_Data=pd.concat([W2Vec_Data,pd.DataFrame([self.word_average(sent)])]) \n",
        "\t\treturn pd.DataFrame(np.vstack([self.word_average(sent) for sent in docs])) #W2Vec_Data #"
      ],
      "id": "rf5JNlWyt0Xg"
    },
    {
      "cell_type": "markdown",
      "metadata": {
        "id": "GDV7s2Zpt0Xg"
      },
      "source": [
        "### Preparing Data for ML"
      ],
      "id": "GDV7s2Zpt0Xg"
    },
    {
      "cell_type": "code",
      "execution_count": null,
      "metadata": {
        "execution": {
          "iopub.execute_input": "2022-12-02T08:49:03.321512Z",
          "iopub.status.busy": "2022-12-02T08:49:03.321228Z",
          "iopub.status.idle": "2022-12-02T08:49:42.889619Z",
          "shell.execute_reply": "2022-12-02T08:49:42.888229Z",
          "shell.execute_reply.started": "2022-12-02T08:49:03.321489Z"
        },
        "trusted": true,
        "id": "2HCiPBCrt0Xg",
        "outputId": "88572b49-9570-4880-bbb0-56da26002756"
      },
      "outputs": [
        {
          "data": {
            "text/html": [
              "<div>\n",
              "<style scoped>\n",
              "    .dataframe tbody tr th:only-of-type {\n",
              "        vertical-align: middle;\n",
              "    }\n",
              "\n",
              "    .dataframe tbody tr th {\n",
              "        vertical-align: top;\n",
              "    }\n",
              "\n",
              "    .dataframe thead th {\n",
              "        text-align: right;\n",
              "    }\n",
              "</style>\n",
              "<table border=\"1\" class=\"dataframe\">\n",
              "  <thead>\n",
              "    <tr style=\"text-align: right;\">\n",
              "      <th></th>\n",
              "      <th>0</th>\n",
              "      <th>1</th>\n",
              "      <th>2</th>\n",
              "      <th>3</th>\n",
              "      <th>4</th>\n",
              "      <th>5</th>\n",
              "      <th>6</th>\n",
              "      <th>7</th>\n",
              "      <th>8</th>\n",
              "      <th>9</th>\n",
              "      <th>...</th>\n",
              "      <th>290</th>\n",
              "      <th>291</th>\n",
              "      <th>292</th>\n",
              "      <th>293</th>\n",
              "      <th>294</th>\n",
              "      <th>295</th>\n",
              "      <th>296</th>\n",
              "      <th>297</th>\n",
              "      <th>298</th>\n",
              "      <th>299</th>\n",
              "    </tr>\n",
              "  </thead>\n",
              "  <tbody>\n",
              "    <tr>\n",
              "      <th>0</th>\n",
              "      <td>-0.183669</td>\n",
              "      <td>0.120718</td>\n",
              "      <td>-0.025713</td>\n",
              "      <td>0.164727</td>\n",
              "      <td>-0.053870</td>\n",
              "      <td>0.041582</td>\n",
              "      <td>-0.105712</td>\n",
              "      <td>-0.029629</td>\n",
              "      <td>-0.060605</td>\n",
              "      <td>0.034343</td>\n",
              "      <td>...</td>\n",
              "      <td>0.081558</td>\n",
              "      <td>-0.042998</td>\n",
              "      <td>-0.135590</td>\n",
              "      <td>0.082920</td>\n",
              "      <td>-0.037578</td>\n",
              "      <td>-0.177754</td>\n",
              "      <td>-0.081602</td>\n",
              "      <td>-0.015898</td>\n",
              "      <td>-0.107266</td>\n",
              "      <td>0.165759</td>\n",
              "    </tr>\n",
              "    <tr>\n",
              "      <th>1</th>\n",
              "      <td>-0.144394</td>\n",
              "      <td>0.116547</td>\n",
              "      <td>-0.005203</td>\n",
              "      <td>0.164886</td>\n",
              "      <td>-0.079132</td>\n",
              "      <td>0.000031</td>\n",
              "      <td>-0.107788</td>\n",
              "      <td>-0.008972</td>\n",
              "      <td>-0.099365</td>\n",
              "      <td>0.024757</td>\n",
              "      <td>...</td>\n",
              "      <td>0.089981</td>\n",
              "      <td>-0.069687</td>\n",
              "      <td>-0.211273</td>\n",
              "      <td>0.074646</td>\n",
              "      <td>-0.016083</td>\n",
              "      <td>-0.171021</td>\n",
              "      <td>-0.165222</td>\n",
              "      <td>-0.031845</td>\n",
              "      <td>-0.075958</td>\n",
              "      <td>0.170082</td>\n",
              "    </tr>\n",
              "    <tr>\n",
              "      <th>2</th>\n",
              "      <td>-0.203267</td>\n",
              "      <td>0.097677</td>\n",
              "      <td>0.032690</td>\n",
              "      <td>0.136214</td>\n",
              "      <td>-0.084566</td>\n",
              "      <td>0.034898</td>\n",
              "      <td>-0.110447</td>\n",
              "      <td>-0.077734</td>\n",
              "      <td>-0.074674</td>\n",
              "      <td>0.010592</td>\n",
              "      <td>...</td>\n",
              "      <td>0.080103</td>\n",
              "      <td>-0.050610</td>\n",
              "      <td>-0.050462</td>\n",
              "      <td>0.072982</td>\n",
              "      <td>-0.033740</td>\n",
              "      <td>-0.117839</td>\n",
              "      <td>-0.102458</td>\n",
              "      <td>-0.041333</td>\n",
              "      <td>-0.153141</td>\n",
              "      <td>0.175907</td>\n",
              "    </tr>\n",
              "    <tr>\n",
              "      <th>3</th>\n",
              "      <td>-0.170568</td>\n",
              "      <td>0.120649</td>\n",
              "      <td>-0.011037</td>\n",
              "      <td>0.160649</td>\n",
              "      <td>-0.062853</td>\n",
              "      <td>0.029889</td>\n",
              "      <td>-0.091459</td>\n",
              "      <td>-0.028512</td>\n",
              "      <td>-0.048485</td>\n",
              "      <td>0.010422</td>\n",
              "      <td>...</td>\n",
              "      <td>0.069487</td>\n",
              "      <td>-0.060529</td>\n",
              "      <td>-0.131255</td>\n",
              "      <td>0.073209</td>\n",
              "      <td>-0.021764</td>\n",
              "      <td>-0.154046</td>\n",
              "      <td>-0.083737</td>\n",
              "      <td>-0.023596</td>\n",
              "      <td>-0.095393</td>\n",
              "      <td>0.175784</td>\n",
              "    </tr>\n",
              "    <tr>\n",
              "      <th>4</th>\n",
              "      <td>-0.158217</td>\n",
              "      <td>0.111384</td>\n",
              "      <td>0.024886</td>\n",
              "      <td>0.156516</td>\n",
              "      <td>-0.021716</td>\n",
              "      <td>0.015969</td>\n",
              "      <td>-0.101318</td>\n",
              "      <td>-0.008145</td>\n",
              "      <td>-0.036887</td>\n",
              "      <td>0.022650</td>\n",
              "      <td>...</td>\n",
              "      <td>0.099021</td>\n",
              "      <td>-0.063649</td>\n",
              "      <td>-0.169977</td>\n",
              "      <td>0.070346</td>\n",
              "      <td>-0.032005</td>\n",
              "      <td>-0.165616</td>\n",
              "      <td>-0.086459</td>\n",
              "      <td>0.008007</td>\n",
              "      <td>-0.076649</td>\n",
              "      <td>0.164373</td>\n",
              "    </tr>\n",
              "    <tr>\n",
              "      <th>...</th>\n",
              "      <td>...</td>\n",
              "      <td>...</td>\n",
              "      <td>...</td>\n",
              "      <td>...</td>\n",
              "      <td>...</td>\n",
              "      <td>...</td>\n",
              "      <td>...</td>\n",
              "      <td>...</td>\n",
              "      <td>...</td>\n",
              "      <td>...</td>\n",
              "      <td>...</td>\n",
              "      <td>...</td>\n",
              "      <td>...</td>\n",
              "      <td>...</td>\n",
              "      <td>...</td>\n",
              "      <td>...</td>\n",
              "      <td>...</td>\n",
              "      <td>...</td>\n",
              "      <td>...</td>\n",
              "      <td>...</td>\n",
              "      <td>...</td>\n",
              "    </tr>\n",
              "    <tr>\n",
              "      <th>353964</th>\n",
              "      <td>-0.226344</td>\n",
              "      <td>0.132829</td>\n",
              "      <td>-0.027452</td>\n",
              "      <td>0.123873</td>\n",
              "      <td>-0.067237</td>\n",
              "      <td>0.016467</td>\n",
              "      <td>-0.091209</td>\n",
              "      <td>-0.072810</td>\n",
              "      <td>-0.024621</td>\n",
              "      <td>0.018771</td>\n",
              "      <td>...</td>\n",
              "      <td>0.065092</td>\n",
              "      <td>-0.006024</td>\n",
              "      <td>-0.092002</td>\n",
              "      <td>0.063251</td>\n",
              "      <td>-0.038095</td>\n",
              "      <td>-0.166823</td>\n",
              "      <td>-0.087600</td>\n",
              "      <td>-0.054673</td>\n",
              "      <td>-0.102971</td>\n",
              "      <td>0.189291</td>\n",
              "    </tr>\n",
              "    <tr>\n",
              "      <th>353965</th>\n",
              "      <td>-0.182956</td>\n",
              "      <td>0.122852</td>\n",
              "      <td>-0.001079</td>\n",
              "      <td>0.141267</td>\n",
              "      <td>-0.057982</td>\n",
              "      <td>0.027713</td>\n",
              "      <td>-0.082205</td>\n",
              "      <td>-0.043834</td>\n",
              "      <td>-0.054246</td>\n",
              "      <td>-0.009590</td>\n",
              "      <td>...</td>\n",
              "      <td>0.073469</td>\n",
              "      <td>-0.057024</td>\n",
              "      <td>-0.114499</td>\n",
              "      <td>0.065258</td>\n",
              "      <td>-0.024504</td>\n",
              "      <td>-0.159617</td>\n",
              "      <td>-0.066625</td>\n",
              "      <td>-0.019574</td>\n",
              "      <td>-0.091891</td>\n",
              "      <td>0.213271</td>\n",
              "    </tr>\n",
              "    <tr>\n",
              "      <th>353966</th>\n",
              "      <td>-0.186068</td>\n",
              "      <td>0.103836</td>\n",
              "      <td>0.021764</td>\n",
              "      <td>0.153778</td>\n",
              "      <td>-0.040632</td>\n",
              "      <td>0.049344</td>\n",
              "      <td>-0.140401</td>\n",
              "      <td>-0.046712</td>\n",
              "      <td>-0.047536</td>\n",
              "      <td>0.020877</td>\n",
              "      <td>...</td>\n",
              "      <td>0.090927</td>\n",
              "      <td>-0.004807</td>\n",
              "      <td>-0.121512</td>\n",
              "      <td>0.038462</td>\n",
              "      <td>-0.009084</td>\n",
              "      <td>-0.131958</td>\n",
              "      <td>-0.058380</td>\n",
              "      <td>0.002324</td>\n",
              "      <td>-0.128306</td>\n",
              "      <td>0.190328</td>\n",
              "    </tr>\n",
              "    <tr>\n",
              "      <th>353967</th>\n",
              "      <td>-0.194699</td>\n",
              "      <td>0.121847</td>\n",
              "      <td>0.012137</td>\n",
              "      <td>0.157389</td>\n",
              "      <td>-0.071115</td>\n",
              "      <td>-0.006291</td>\n",
              "      <td>-0.078112</td>\n",
              "      <td>-0.043852</td>\n",
              "      <td>-0.042762</td>\n",
              "      <td>-0.009966</td>\n",
              "      <td>...</td>\n",
              "      <td>0.073167</td>\n",
              "      <td>-0.038121</td>\n",
              "      <td>-0.124365</td>\n",
              "      <td>0.089100</td>\n",
              "      <td>-0.032273</td>\n",
              "      <td>-0.184408</td>\n",
              "      <td>-0.120617</td>\n",
              "      <td>-0.020275</td>\n",
              "      <td>-0.076788</td>\n",
              "      <td>0.197370</td>\n",
              "    </tr>\n",
              "    <tr>\n",
              "      <th>353968</th>\n",
              "      <td>-0.179958</td>\n",
              "      <td>0.118206</td>\n",
              "      <td>0.000363</td>\n",
              "      <td>0.129053</td>\n",
              "      <td>-0.043342</td>\n",
              "      <td>0.047527</td>\n",
              "      <td>-0.120737</td>\n",
              "      <td>-0.034124</td>\n",
              "      <td>-0.078155</td>\n",
              "      <td>0.047723</td>\n",
              "      <td>...</td>\n",
              "      <td>0.073218</td>\n",
              "      <td>-0.008098</td>\n",
              "      <td>-0.110891</td>\n",
              "      <td>0.049400</td>\n",
              "      <td>-0.034347</td>\n",
              "      <td>-0.126660</td>\n",
              "      <td>-0.092167</td>\n",
              "      <td>-0.012423</td>\n",
              "      <td>-0.133887</td>\n",
              "      <td>0.136769</td>\n",
              "    </tr>\n",
              "  </tbody>\n",
              "</table>\n",
              "<p>353969 rows × 300 columns</p>\n",
              "</div>"
            ],
            "text/plain": [
              "             0         1         2         3         4         5         6    \\\n",
              "0      -0.183669  0.120718 -0.025713  0.164727 -0.053870  0.041582 -0.105712   \n",
              "1      -0.144394  0.116547 -0.005203  0.164886 -0.079132  0.000031 -0.107788   \n",
              "2      -0.203267  0.097677  0.032690  0.136214 -0.084566  0.034898 -0.110447   \n",
              "3      -0.170568  0.120649 -0.011037  0.160649 -0.062853  0.029889 -0.091459   \n",
              "4      -0.158217  0.111384  0.024886  0.156516 -0.021716  0.015969 -0.101318   \n",
              "...          ...       ...       ...       ...       ...       ...       ...   \n",
              "353964 -0.226344  0.132829 -0.027452  0.123873 -0.067237  0.016467 -0.091209   \n",
              "353965 -0.182956  0.122852 -0.001079  0.141267 -0.057982  0.027713 -0.082205   \n",
              "353966 -0.186068  0.103836  0.021764  0.153778 -0.040632  0.049344 -0.140401   \n",
              "353967 -0.194699  0.121847  0.012137  0.157389 -0.071115 -0.006291 -0.078112   \n",
              "353968 -0.179958  0.118206  0.000363  0.129053 -0.043342  0.047527 -0.120737   \n",
              "\n",
              "             7         8         9    ...       290       291       292  \\\n",
              "0      -0.029629 -0.060605  0.034343  ...  0.081558 -0.042998 -0.135590   \n",
              "1      -0.008972 -0.099365  0.024757  ...  0.089981 -0.069687 -0.211273   \n",
              "2      -0.077734 -0.074674  0.010592  ...  0.080103 -0.050610 -0.050462   \n",
              "3      -0.028512 -0.048485  0.010422  ...  0.069487 -0.060529 -0.131255   \n",
              "4      -0.008145 -0.036887  0.022650  ...  0.099021 -0.063649 -0.169977   \n",
              "...          ...       ...       ...  ...       ...       ...       ...   \n",
              "353964 -0.072810 -0.024621  0.018771  ...  0.065092 -0.006024 -0.092002   \n",
              "353965 -0.043834 -0.054246 -0.009590  ...  0.073469 -0.057024 -0.114499   \n",
              "353966 -0.046712 -0.047536  0.020877  ...  0.090927 -0.004807 -0.121512   \n",
              "353967 -0.043852 -0.042762 -0.009966  ...  0.073167 -0.038121 -0.124365   \n",
              "353968 -0.034124 -0.078155  0.047723  ...  0.073218 -0.008098 -0.110891   \n",
              "\n",
              "             293       294       295       296       297       298       299  \n",
              "0       0.082920 -0.037578 -0.177754 -0.081602 -0.015898 -0.107266  0.165759  \n",
              "1       0.074646 -0.016083 -0.171021 -0.165222 -0.031845 -0.075958  0.170082  \n",
              "2       0.072982 -0.033740 -0.117839 -0.102458 -0.041333 -0.153141  0.175907  \n",
              "3       0.073209 -0.021764 -0.154046 -0.083737 -0.023596 -0.095393  0.175784  \n",
              "4       0.070346 -0.032005 -0.165616 -0.086459  0.008007 -0.076649  0.164373  \n",
              "...          ...       ...       ...       ...       ...       ...       ...  \n",
              "353964  0.063251 -0.038095 -0.166823 -0.087600 -0.054673 -0.102971  0.189291  \n",
              "353965  0.065258 -0.024504 -0.159617 -0.066625 -0.019574 -0.091891  0.213271  \n",
              "353966  0.038462 -0.009084 -0.131958 -0.058380  0.002324 -0.128306  0.190328  \n",
              "353967  0.089100 -0.032273 -0.184408 -0.120617 -0.020275 -0.076788  0.197370  \n",
              "353968  0.049400 -0.034347 -0.126660 -0.092167 -0.012423 -0.133887  0.136769  \n",
              "\n",
              "[353969 rows x 300 columns]"
            ]
          },
          "execution_count": 104,
          "metadata": {},
          "output_type": "execute_result"
        }
      ],
      "source": [
        "# USING EMBEDDINGS\n",
        "mean_embedding_vectorizer = MeanEmbeddingVectorizer(GoogleModel)\n",
        "mean_embedded = mean_embedding_vectorizer.transform(df['clean'])\n",
        "mean_embedded"
      ],
      "id": "2HCiPBCrt0Xg"
    },
    {
      "cell_type": "code",
      "execution_count": null,
      "id": "966bc0fe",
      "metadata": {
        "id": "966bc0fe",
        "outputId": "37c61490-947b-4b29-af92-de4e0d17a445"
      },
      "outputs": [
        {
          "data": {
            "text/plain": [
              "(353969, 300)"
            ]
          },
          "execution_count": 105,
          "metadata": {},
          "output_type": "execute_result"
        }
      ],
      "source": [
        "mean_embedded.shape"
      ]
    },
    {
      "cell_type": "code",
      "execution_count": null,
      "metadata": {
        "execution": {
          "iopub.execute_input": "2022-12-02T07:25:56.438603Z",
          "iopub.status.busy": "2022-12-02T07:25:56.438254Z",
          "iopub.status.idle": "2022-12-02T07:25:56.444846Z",
          "shell.execute_reply": "2022-12-02T07:25:56.444331Z",
          "shell.execute_reply.started": "2022-12-02T07:25:56.438580Z"
        },
        "trusted": true,
        "id": "fJrpfL6Xt0Xg"
      },
      "outputs": [],
      "source": [
        "\"\"\"nltk.download('punkt')\n",
        "\n",
        "# Since there are so many words... This will take some time :( \n",
        "# Calling the function to convert all the text data to Word2Vec Vectors\n",
        "W2Vec_Data=FunctionText2Vec(data['text'])\n",
        " \n",
        "# Checking the new representation for sentences\n",
        "W2Vec_Data.shape\"\"\""
      ],
      "id": "fJrpfL6Xt0Xg"
    },
    {
      "cell_type": "code",
      "execution_count": null,
      "metadata": {
        "execution": {
          "iopub.execute_input": "2022-12-02T09:01:21.812108Z",
          "iopub.status.busy": "2022-12-02T09:01:21.811581Z",
          "iopub.status.idle": "2022-12-02T09:01:21.844997Z",
          "shell.execute_reply": "2022-12-02T09:01:21.844212Z",
          "shell.execute_reply.started": "2022-12-02T09:01:21.812080Z"
        },
        "scrolled": true,
        "trusted": true,
        "id": "LjIxyUfft0Xg",
        "outputId": "3d0ae05e-4277-4ff6-ea52-550113df6fd2"
      },
      "outputs": [
        {
          "data": {
            "text/html": [
              "<div>\n",
              "<style scoped>\n",
              "    .dataframe tbody tr th:only-of-type {\n",
              "        vertical-align: middle;\n",
              "    }\n",
              "\n",
              "    .dataframe tbody tr th {\n",
              "        vertical-align: top;\n",
              "    }\n",
              "\n",
              "    .dataframe thead th {\n",
              "        text-align: right;\n",
              "    }\n",
              "</style>\n",
              "<table border=\"1\" class=\"dataframe\">\n",
              "  <thead>\n",
              "    <tr style=\"text-align: right;\">\n",
              "      <th></th>\n",
              "      <th>0</th>\n",
              "      <th>1</th>\n",
              "      <th>2</th>\n",
              "      <th>3</th>\n",
              "      <th>4</th>\n",
              "      <th>5</th>\n",
              "      <th>6</th>\n",
              "      <th>7</th>\n",
              "      <th>8</th>\n",
              "      <th>9</th>\n",
              "      <th>...</th>\n",
              "      <th>293</th>\n",
              "      <th>294</th>\n",
              "      <th>295</th>\n",
              "      <th>296</th>\n",
              "      <th>297</th>\n",
              "      <th>298</th>\n",
              "      <th>299</th>\n",
              "      <th>favorites_count</th>\n",
              "      <th>retweets_count</th>\n",
              "      <th>TweetID</th>\n",
              "    </tr>\n",
              "  </thead>\n",
              "  <tbody>\n",
              "    <tr>\n",
              "      <th>0</th>\n",
              "      <td>-0.183669</td>\n",
              "      <td>0.120718</td>\n",
              "      <td>-0.025713</td>\n",
              "      <td>0.164727</td>\n",
              "      <td>-0.053870</td>\n",
              "      <td>0.041582</td>\n",
              "      <td>-0.105712</td>\n",
              "      <td>-0.029629</td>\n",
              "      <td>-0.060605</td>\n",
              "      <td>0.034343</td>\n",
              "      <td>...</td>\n",
              "      <td>0.082920</td>\n",
              "      <td>-0.037578</td>\n",
              "      <td>-0.177754</td>\n",
              "      <td>-0.081602</td>\n",
              "      <td>-0.015898</td>\n",
              "      <td>-0.107266</td>\n",
              "      <td>0.165759</td>\n",
              "      <td>0</td>\n",
              "      <td>3</td>\n",
              "      <td>832509</td>\n",
              "    </tr>\n",
              "    <tr>\n",
              "      <th>1</th>\n",
              "      <td>-0.144394</td>\n",
              "      <td>0.116547</td>\n",
              "      <td>-0.005203</td>\n",
              "      <td>0.164886</td>\n",
              "      <td>-0.079132</td>\n",
              "      <td>0.000031</td>\n",
              "      <td>-0.107788</td>\n",
              "      <td>-0.008972</td>\n",
              "      <td>-0.099365</td>\n",
              "      <td>0.024757</td>\n",
              "      <td>...</td>\n",
              "      <td>0.074646</td>\n",
              "      <td>-0.016083</td>\n",
              "      <td>-0.171021</td>\n",
              "      <td>-0.165222</td>\n",
              "      <td>-0.031845</td>\n",
              "      <td>-0.075958</td>\n",
              "      <td>0.170082</td>\n",
              "      <td>0</td>\n",
              "      <td>0</td>\n",
              "      <td>1388011</td>\n",
              "    </tr>\n",
              "    <tr>\n",
              "      <th>2</th>\n",
              "      <td>-0.203267</td>\n",
              "      <td>0.097677</td>\n",
              "      <td>0.032690</td>\n",
              "      <td>0.136214</td>\n",
              "      <td>-0.084566</td>\n",
              "      <td>0.034898</td>\n",
              "      <td>-0.110447</td>\n",
              "      <td>-0.077734</td>\n",
              "      <td>-0.074674</td>\n",
              "      <td>0.010592</td>\n",
              "      <td>...</td>\n",
              "      <td>0.072982</td>\n",
              "      <td>-0.033740</td>\n",
              "      <td>-0.117839</td>\n",
              "      <td>-0.102458</td>\n",
              "      <td>-0.041333</td>\n",
              "      <td>-0.153141</td>\n",
              "      <td>0.175907</td>\n",
              "      <td>1</td>\n",
              "      <td>3</td>\n",
              "      <td>63896</td>\n",
              "    </tr>\n",
              "    <tr>\n",
              "      <th>3</th>\n",
              "      <td>-0.170568</td>\n",
              "      <td>0.120649</td>\n",
              "      <td>-0.011037</td>\n",
              "      <td>0.160649</td>\n",
              "      <td>-0.062853</td>\n",
              "      <td>0.029889</td>\n",
              "      <td>-0.091459</td>\n",
              "      <td>-0.028512</td>\n",
              "      <td>-0.048485</td>\n",
              "      <td>0.010422</td>\n",
              "      <td>...</td>\n",
              "      <td>0.073209</td>\n",
              "      <td>-0.021764</td>\n",
              "      <td>-0.154046</td>\n",
              "      <td>-0.083737</td>\n",
              "      <td>-0.023596</td>\n",
              "      <td>-0.095393</td>\n",
              "      <td>0.175784</td>\n",
              "      <td>0</td>\n",
              "      <td>0</td>\n",
              "      <td>979251</td>\n",
              "    </tr>\n",
              "    <tr>\n",
              "      <th>4</th>\n",
              "      <td>-0.158217</td>\n",
              "      <td>0.111384</td>\n",
              "      <td>0.024886</td>\n",
              "      <td>0.156516</td>\n",
              "      <td>-0.021716</td>\n",
              "      <td>0.015969</td>\n",
              "      <td>-0.101318</td>\n",
              "      <td>-0.008145</td>\n",
              "      <td>-0.036887</td>\n",
              "      <td>0.022650</td>\n",
              "      <td>...</td>\n",
              "      <td>0.070346</td>\n",
              "      <td>-0.032005</td>\n",
              "      <td>-0.165616</td>\n",
              "      <td>-0.086459</td>\n",
              "      <td>0.008007</td>\n",
              "      <td>-0.076649</td>\n",
              "      <td>0.164373</td>\n",
              "      <td>0</td>\n",
              "      <td>0</td>\n",
              "      <td>1040049</td>\n",
              "    </tr>\n",
              "  </tbody>\n",
              "</table>\n",
              "<p>5 rows × 303 columns</p>\n",
              "</div>"
            ],
            "text/plain": [
              "          0         1         2         3         4         5         6  \\\n",
              "0 -0.183669  0.120718 -0.025713  0.164727 -0.053870  0.041582 -0.105712   \n",
              "1 -0.144394  0.116547 -0.005203  0.164886 -0.079132  0.000031 -0.107788   \n",
              "2 -0.203267  0.097677  0.032690  0.136214 -0.084566  0.034898 -0.110447   \n",
              "3 -0.170568  0.120649 -0.011037  0.160649 -0.062853  0.029889 -0.091459   \n",
              "4 -0.158217  0.111384  0.024886  0.156516 -0.021716  0.015969 -0.101318   \n",
              "\n",
              "          7         8         9  ...       293       294       295       296  \\\n",
              "0 -0.029629 -0.060605  0.034343  ...  0.082920 -0.037578 -0.177754 -0.081602   \n",
              "1 -0.008972 -0.099365  0.024757  ...  0.074646 -0.016083 -0.171021 -0.165222   \n",
              "2 -0.077734 -0.074674  0.010592  ...  0.072982 -0.033740 -0.117839 -0.102458   \n",
              "3 -0.028512 -0.048485  0.010422  ...  0.073209 -0.021764 -0.154046 -0.083737   \n",
              "4 -0.008145 -0.036887  0.022650  ...  0.070346 -0.032005 -0.165616 -0.086459   \n",
              "\n",
              "        297       298       299  favorites_count  retweets_count  TweetID  \n",
              "0 -0.015898 -0.107266  0.165759                0               3   832509  \n",
              "1 -0.031845 -0.075958  0.170082                0               0  1388011  \n",
              "2 -0.041333 -0.153141  0.175907                1               3    63896  \n",
              "3 -0.023596 -0.095393  0.175784                0               0   979251  \n",
              "4  0.008007 -0.076649  0.164373                0               0  1040049  \n",
              "\n",
              "[5 rows x 303 columns]"
            ]
          },
          "execution_count": 114,
          "metadata": {},
          "output_type": "execute_result"
        }
      ],
      "source": [
        "# Adding the target variable\n",
        "# Predictors_=X_train.columns\n",
        "W2Vec_Data=mean_embedded.copy()\n",
        "W2Vec_Data.reset_index(inplace=True, drop=True)\n",
        "# Add the others predictors\n",
        "# W2Vec_Data[Predictors_]=data[Predictors_]\n",
        "W2Vec_Data['favorites_count']=data['favorites_count']\n",
        "W2Vec_Data['retweets_count']=data['retweets_count']\n",
        "\n",
        "W2Vec_Data['TweetID']=data['TweetID']\n",
        "W2Vec_Data.set_index('TweetID').reset_index(drop=False)\n",
        "W2Vec_Data.to_csv('EmbbedingW2Vec_Data_.csv')\n",
        "\n",
        "W2Vec_Data.shape\n",
        "W2Vec_Data.head()"
      ],
      "id": "LjIxyUfft0Xg"
    },
    {
      "cell_type": "markdown",
      "metadata": {
        "id": "xyQszGxWt0Xg"
      },
      "source": [
        "#### Dimension reduction by pca:"
      ],
      "id": "xyQszGxWt0Xg"
    },
    {
      "cell_type": "code",
      "execution_count": null,
      "metadata": {
        "execution": {
          "iopub.execute_input": "2022-12-02T09:17:53.333875Z",
          "iopub.status.busy": "2022-12-02T09:17:53.333579Z",
          "iopub.status.idle": "2022-12-02T09:18:01.099076Z",
          "shell.execute_reply": "2022-12-02T09:18:01.098338Z",
          "shell.execute_reply.started": "2022-12-02T09:17:53.333850Z"
        },
        "trusted": true,
        "id": "-FWDnnZut0Xg"
      },
      "outputs": [],
      "source": [
        "pca = PCA(n_components = 0.99)  #(n_components=0.99)\n",
        "result = pca.fit_transform(mean_embedded)"
      ],
      "id": "-FWDnnZut0Xg"
    },
    {
      "cell_type": "code",
      "execution_count": null,
      "metadata": {
        "execution": {
          "iopub.execute_input": "2022-12-02T09:18:03.134342Z",
          "iopub.status.busy": "2022-12-02T09:18:03.134040Z",
          "iopub.status.idle": "2022-12-02T09:18:03.149610Z",
          "shell.execute_reply": "2022-12-02T09:18:03.148040Z",
          "shell.execute_reply.started": "2022-12-02T09:18:03.134293Z"
        },
        "trusted": true,
        "id": "rXI0WLbit0Xg",
        "outputId": "3242b336-e687-4e7d-d98b-4325243b08c4"
      },
      "outputs": [
        {
          "data": {
            "text/html": [
              "<div>\n",
              "<style scoped>\n",
              "    .dataframe tbody tr th:only-of-type {\n",
              "        vertical-align: middle;\n",
              "    }\n",
              "\n",
              "    .dataframe tbody tr th {\n",
              "        vertical-align: top;\n",
              "    }\n",
              "\n",
              "    .dataframe thead th {\n",
              "        text-align: right;\n",
              "    }\n",
              "</style>\n",
              "<table border=\"1\" class=\"dataframe\">\n",
              "  <thead>\n",
              "    <tr style=\"text-align: right;\">\n",
              "      <th></th>\n",
              "      <th>0</th>\n",
              "      <th>1</th>\n",
              "      <th>2</th>\n",
              "      <th>3</th>\n",
              "      <th>4</th>\n",
              "      <th>5</th>\n",
              "      <th>6</th>\n",
              "      <th>7</th>\n",
              "      <th>8</th>\n",
              "      <th>9</th>\n",
              "      <th>...</th>\n",
              "      <th>12</th>\n",
              "      <th>13</th>\n",
              "      <th>14</th>\n",
              "      <th>15</th>\n",
              "      <th>16</th>\n",
              "      <th>17</th>\n",
              "      <th>18</th>\n",
              "      <th>19</th>\n",
              "      <th>20</th>\n",
              "      <th>21</th>\n",
              "    </tr>\n",
              "  </thead>\n",
              "  <tbody>\n",
              "    <tr>\n",
              "      <th>0</th>\n",
              "      <td>-0.071970</td>\n",
              "      <td>-0.220818</td>\n",
              "      <td>-0.101123</td>\n",
              "      <td>0.087523</td>\n",
              "      <td>0.212842</td>\n",
              "      <td>0.003118</td>\n",
              "      <td>0.129713</td>\n",
              "      <td>-0.097954</td>\n",
              "      <td>-0.128013</td>\n",
              "      <td>-0.030694</td>\n",
              "      <td>...</td>\n",
              "      <td>-0.006463</td>\n",
              "      <td>-0.049050</td>\n",
              "      <td>0.019439</td>\n",
              "      <td>-0.032274</td>\n",
              "      <td>0.003773</td>\n",
              "      <td>0.006862</td>\n",
              "      <td>0.001280</td>\n",
              "      <td>0.002364</td>\n",
              "      <td>-0.000703</td>\n",
              "      <td>0.007422</td>\n",
              "    </tr>\n",
              "    <tr>\n",
              "      <th>1</th>\n",
              "      <td>-0.084154</td>\n",
              "      <td>-0.230160</td>\n",
              "      <td>0.148319</td>\n",
              "      <td>-0.114236</td>\n",
              "      <td>0.010578</td>\n",
              "      <td>-0.137427</td>\n",
              "      <td>0.229362</td>\n",
              "      <td>0.369282</td>\n",
              "      <td>-0.245577</td>\n",
              "      <td>0.206995</td>\n",
              "      <td>...</td>\n",
              "      <td>-0.033516</td>\n",
              "      <td>-0.002999</td>\n",
              "      <td>-0.012418</td>\n",
              "      <td>-0.018942</td>\n",
              "      <td>0.037406</td>\n",
              "      <td>-0.016684</td>\n",
              "      <td>0.006969</td>\n",
              "      <td>-0.036588</td>\n",
              "      <td>-0.009710</td>\n",
              "      <td>-0.026274</td>\n",
              "    </tr>\n",
              "    <tr>\n",
              "      <th>2</th>\n",
              "      <td>0.007382</td>\n",
              "      <td>-0.142928</td>\n",
              "      <td>-0.048292</td>\n",
              "      <td>-0.079151</td>\n",
              "      <td>-0.053119</td>\n",
              "      <td>-0.232986</td>\n",
              "      <td>-0.165225</td>\n",
              "      <td>-0.097414</td>\n",
              "      <td>-0.036511</td>\n",
              "      <td>-0.039692</td>\n",
              "      <td>...</td>\n",
              "      <td>0.202640</td>\n",
              "      <td>-0.043810</td>\n",
              "      <td>-0.079559</td>\n",
              "      <td>-0.001392</td>\n",
              "      <td>0.022142</td>\n",
              "      <td>-0.035446</td>\n",
              "      <td>-0.096617</td>\n",
              "      <td>-0.078681</td>\n",
              "      <td>-0.001275</td>\n",
              "      <td>0.003628</td>\n",
              "    </tr>\n",
              "    <tr>\n",
              "      <th>3</th>\n",
              "      <td>0.126466</td>\n",
              "      <td>0.013628</td>\n",
              "      <td>0.062934</td>\n",
              "      <td>-0.001928</td>\n",
              "      <td>0.080066</td>\n",
              "      <td>-0.037852</td>\n",
              "      <td>0.041010</td>\n",
              "      <td>0.056976</td>\n",
              "      <td>-0.066886</td>\n",
              "      <td>0.011319</td>\n",
              "      <td>...</td>\n",
              "      <td>-0.008647</td>\n",
              "      <td>-0.028532</td>\n",
              "      <td>-0.014365</td>\n",
              "      <td>-0.010858</td>\n",
              "      <td>0.005743</td>\n",
              "      <td>-0.004098</td>\n",
              "      <td>-0.006246</td>\n",
              "      <td>0.009121</td>\n",
              "      <td>-0.008941</td>\n",
              "      <td>0.020352</td>\n",
              "    </tr>\n",
              "    <tr>\n",
              "      <th>4</th>\n",
              "      <td>0.094766</td>\n",
              "      <td>-0.016386</td>\n",
              "      <td>0.049624</td>\n",
              "      <td>0.056850</td>\n",
              "      <td>0.042424</td>\n",
              "      <td>0.046122</td>\n",
              "      <td>0.155537</td>\n",
              "      <td>0.122277</td>\n",
              "      <td>0.091522</td>\n",
              "      <td>-0.031131</td>\n",
              "      <td>...</td>\n",
              "      <td>-0.038126</td>\n",
              "      <td>-0.046009</td>\n",
              "      <td>0.038368</td>\n",
              "      <td>-0.076269</td>\n",
              "      <td>0.013418</td>\n",
              "      <td>-0.002932</td>\n",
              "      <td>-0.011223</td>\n",
              "      <td>-0.025361</td>\n",
              "      <td>-0.009295</td>\n",
              "      <td>0.001305</td>\n",
              "    </tr>\n",
              "    <tr>\n",
              "      <th>...</th>\n",
              "      <td>...</td>\n",
              "      <td>...</td>\n",
              "      <td>...</td>\n",
              "      <td>...</td>\n",
              "      <td>...</td>\n",
              "      <td>...</td>\n",
              "      <td>...</td>\n",
              "      <td>...</td>\n",
              "      <td>...</td>\n",
              "      <td>...</td>\n",
              "      <td>...</td>\n",
              "      <td>...</td>\n",
              "      <td>...</td>\n",
              "      <td>...</td>\n",
              "      <td>...</td>\n",
              "      <td>...</td>\n",
              "      <td>...</td>\n",
              "      <td>...</td>\n",
              "      <td>...</td>\n",
              "      <td>...</td>\n",
              "      <td>...</td>\n",
              "    </tr>\n",
              "    <tr>\n",
              "      <th>353964</th>\n",
              "      <td>-0.071575</td>\n",
              "      <td>0.195310</td>\n",
              "      <td>-0.054710</td>\n",
              "      <td>0.011479</td>\n",
              "      <td>0.084500</td>\n",
              "      <td>-0.064768</td>\n",
              "      <td>-0.079414</td>\n",
              "      <td>-0.205884</td>\n",
              "      <td>-0.063594</td>\n",
              "      <td>0.132795</td>\n",
              "      <td>...</td>\n",
              "      <td>0.032193</td>\n",
              "      <td>0.022426</td>\n",
              "      <td>0.030231</td>\n",
              "      <td>-0.029810</td>\n",
              "      <td>-0.008271</td>\n",
              "      <td>0.002014</td>\n",
              "      <td>-0.034486</td>\n",
              "      <td>-0.047354</td>\n",
              "      <td>-0.000629</td>\n",
              "      <td>0.013323</td>\n",
              "    </tr>\n",
              "    <tr>\n",
              "      <th>353965</th>\n",
              "      <td>0.133904</td>\n",
              "      <td>-0.033803</td>\n",
              "      <td>0.073734</td>\n",
              "      <td>0.204676</td>\n",
              "      <td>0.098236</td>\n",
              "      <td>-0.066219</td>\n",
              "      <td>-0.058808</td>\n",
              "      <td>-0.024980</td>\n",
              "      <td>0.056268</td>\n",
              "      <td>0.043501</td>\n",
              "      <td>...</td>\n",
              "      <td>0.033633</td>\n",
              "      <td>0.018861</td>\n",
              "      <td>-0.008448</td>\n",
              "      <td>0.008637</td>\n",
              "      <td>0.003990</td>\n",
              "      <td>-0.009414</td>\n",
              "      <td>-0.023599</td>\n",
              "      <td>-0.008126</td>\n",
              "      <td>0.005162</td>\n",
              "      <td>-0.008347</td>\n",
              "    </tr>\n",
              "    <tr>\n",
              "      <th>353966</th>\n",
              "      <td>0.133719</td>\n",
              "      <td>-0.110690</td>\n",
              "      <td>-0.170844</td>\n",
              "      <td>0.131979</td>\n",
              "      <td>-0.025735</td>\n",
              "      <td>-0.184470</td>\n",
              "      <td>0.100388</td>\n",
              "      <td>-0.128760</td>\n",
              "      <td>0.049921</td>\n",
              "      <td>-0.068733</td>\n",
              "      <td>...</td>\n",
              "      <td>-0.061419</td>\n",
              "      <td>-0.028331</td>\n",
              "      <td>0.053617</td>\n",
              "      <td>0.028877</td>\n",
              "      <td>-0.014609</td>\n",
              "      <td>0.016197</td>\n",
              "      <td>-0.016810</td>\n",
              "      <td>0.021280</td>\n",
              "      <td>0.001721</td>\n",
              "      <td>-0.014961</td>\n",
              "    </tr>\n",
              "    <tr>\n",
              "      <th>353967</th>\n",
              "      <td>-0.038834</td>\n",
              "      <td>0.025170</td>\n",
              "      <td>0.157057</td>\n",
              "      <td>0.086099</td>\n",
              "      <td>0.161427</td>\n",
              "      <td>-0.068741</td>\n",
              "      <td>0.032012</td>\n",
              "      <td>0.157458</td>\n",
              "      <td>0.065316</td>\n",
              "      <td>0.022474</td>\n",
              "      <td>...</td>\n",
              "      <td>0.055653</td>\n",
              "      <td>-0.018889</td>\n",
              "      <td>-0.030075</td>\n",
              "      <td>-0.013559</td>\n",
              "      <td>-0.027058</td>\n",
              "      <td>-0.014951</td>\n",
              "      <td>0.002498</td>\n",
              "      <td>0.039174</td>\n",
              "      <td>-0.017529</td>\n",
              "      <td>0.073021</td>\n",
              "    </tr>\n",
              "    <tr>\n",
              "      <th>353968</th>\n",
              "      <td>0.008814</td>\n",
              "      <td>-0.030361</td>\n",
              "      <td>-0.213552</td>\n",
              "      <td>0.009570</td>\n",
              "      <td>-0.100729</td>\n",
              "      <td>-0.000197</td>\n",
              "      <td>0.051594</td>\n",
              "      <td>-0.025213</td>\n",
              "      <td>-0.041720</td>\n",
              "      <td>-0.033972</td>\n",
              "      <td>...</td>\n",
              "      <td>0.049114</td>\n",
              "      <td>0.018688</td>\n",
              "      <td>-0.072192</td>\n",
              "      <td>-0.029694</td>\n",
              "      <td>0.021829</td>\n",
              "      <td>-0.014086</td>\n",
              "      <td>0.023478</td>\n",
              "      <td>-0.010760</td>\n",
              "      <td>0.000257</td>\n",
              "      <td>-0.004857</td>\n",
              "    </tr>\n",
              "  </tbody>\n",
              "</table>\n",
              "<p>353969 rows × 22 columns</p>\n",
              "</div>"
            ],
            "text/plain": [
              "              0         1         2         3         4         5         6   \\\n",
              "0      -0.071970 -0.220818 -0.101123  0.087523  0.212842  0.003118  0.129713   \n",
              "1      -0.084154 -0.230160  0.148319 -0.114236  0.010578 -0.137427  0.229362   \n",
              "2       0.007382 -0.142928 -0.048292 -0.079151 -0.053119 -0.232986 -0.165225   \n",
              "3       0.126466  0.013628  0.062934 -0.001928  0.080066 -0.037852  0.041010   \n",
              "4       0.094766 -0.016386  0.049624  0.056850  0.042424  0.046122  0.155537   \n",
              "...          ...       ...       ...       ...       ...       ...       ...   \n",
              "353964 -0.071575  0.195310 -0.054710  0.011479  0.084500 -0.064768 -0.079414   \n",
              "353965  0.133904 -0.033803  0.073734  0.204676  0.098236 -0.066219 -0.058808   \n",
              "353966  0.133719 -0.110690 -0.170844  0.131979 -0.025735 -0.184470  0.100388   \n",
              "353967 -0.038834  0.025170  0.157057  0.086099  0.161427 -0.068741  0.032012   \n",
              "353968  0.008814 -0.030361 -0.213552  0.009570 -0.100729 -0.000197  0.051594   \n",
              "\n",
              "              7         8         9   ...        12        13        14  \\\n",
              "0      -0.097954 -0.128013 -0.030694  ... -0.006463 -0.049050  0.019439   \n",
              "1       0.369282 -0.245577  0.206995  ... -0.033516 -0.002999 -0.012418   \n",
              "2      -0.097414 -0.036511 -0.039692  ...  0.202640 -0.043810 -0.079559   \n",
              "3       0.056976 -0.066886  0.011319  ... -0.008647 -0.028532 -0.014365   \n",
              "4       0.122277  0.091522 -0.031131  ... -0.038126 -0.046009  0.038368   \n",
              "...          ...       ...       ...  ...       ...       ...       ...   \n",
              "353964 -0.205884 -0.063594  0.132795  ...  0.032193  0.022426  0.030231   \n",
              "353965 -0.024980  0.056268  0.043501  ...  0.033633  0.018861 -0.008448   \n",
              "353966 -0.128760  0.049921 -0.068733  ... -0.061419 -0.028331  0.053617   \n",
              "353967  0.157458  0.065316  0.022474  ...  0.055653 -0.018889 -0.030075   \n",
              "353968 -0.025213 -0.041720 -0.033972  ...  0.049114  0.018688 -0.072192   \n",
              "\n",
              "              15        16        17        18        19        20        21  \n",
              "0      -0.032274  0.003773  0.006862  0.001280  0.002364 -0.000703  0.007422  \n",
              "1      -0.018942  0.037406 -0.016684  0.006969 -0.036588 -0.009710 -0.026274  \n",
              "2      -0.001392  0.022142 -0.035446 -0.096617 -0.078681 -0.001275  0.003628  \n",
              "3      -0.010858  0.005743 -0.004098 -0.006246  0.009121 -0.008941  0.020352  \n",
              "4      -0.076269  0.013418 -0.002932 -0.011223 -0.025361 -0.009295  0.001305  \n",
              "...          ...       ...       ...       ...       ...       ...       ...  \n",
              "353964 -0.029810 -0.008271  0.002014 -0.034486 -0.047354 -0.000629  0.013323  \n",
              "353965  0.008637  0.003990 -0.009414 -0.023599 -0.008126  0.005162 -0.008347  \n",
              "353966  0.028877 -0.014609  0.016197 -0.016810  0.021280  0.001721 -0.014961  \n",
              "353967 -0.013559 -0.027058 -0.014951  0.002498  0.039174 -0.017529  0.073021  \n",
              "353968 -0.029694  0.021829 -0.014086  0.023478 -0.010760  0.000257 -0.004857  \n",
              "\n",
              "[353969 rows x 22 columns]"
            ]
          },
          "execution_count": 108,
          "metadata": {},
          "output_type": "execute_result"
        }
      ],
      "source": [
        "X=pd.DataFrame(result)\n",
        "X"
      ],
      "id": "rXI0WLbit0Xg"
    },
    {
      "cell_type": "code",
      "execution_count": null,
      "metadata": {
        "execution": {
          "iopub.execute_input": "2022-12-02T09:18:11.217367Z",
          "iopub.status.busy": "2022-12-02T09:18:11.217116Z",
          "iopub.status.idle": "2022-12-02T09:18:11.496557Z",
          "shell.execute_reply": "2022-12-02T09:18:11.495330Z",
          "shell.execute_reply.started": "2022-12-02T09:18:11.217342Z"
        },
        "trusted": true,
        "id": "FXqp-ou8t0Xg",
        "outputId": "2d02af27-02a5-4203-8346-810fde404f75"
      },
      "outputs": [
        {
          "name": "stdout",
          "output_type": "stream",
          "text": [
            "Cumulative Variances (Percentage):\n",
            "[19.90652793 31.37351395 41.06127554 48.97155702 56.64113038 63.39491141\n",
            " 68.90203263 74.10530983 78.95862077 82.76152357 85.79035569 88.3108987\n",
            " 90.55843849 92.63353668 94.11245514 95.24413729 96.20082667 96.93662216\n",
            " 97.6036317  98.16395556 98.66994396 99.12348283]\n"
          ]
        },
        {
          "data": {
            "text/plain": [
              "Text(0.5, 1.0, 'Explained variance ratio per singular value')"
            ]
          },
          "execution_count": 109,
          "metadata": {},
          "output_type": "execute_result"
        },
        {
          "data": {
            "image/png": "[encoded data removed]",
            "text/plain": [
              "<Figure size 432x288 with 1 Axes>"
            ]
          },
          "metadata": {
            "needs_background": "light"
          },
          "output_type": "display_data"
        }
      ],
      "source": [
        "print(\"Cumulative Variances (Percentage):\")\n",
        "print(np.cumsum(pca.explained_variance_ratio_ * 100))\n",
        "components = len(pca.explained_variance_ratio_)\n",
        "# Make the scree plot\n",
        "plt.plot(range(1, components + 1), pca.explained_variance_ratio_ )\n",
        "plt.xlabel(\"Number of components\")\n",
        "plt.ylabel(\"Explained variance (%)\")\n",
        "plt.title('Explained variance ratio per singular value')\n",
        "# plt.savefig('ExplainedVarRatio.pdf') "
      ],
      "id": "FXqp-ou8t0Xg"
    },
    {
      "cell_type": "code",
      "execution_count": null,
      "metadata": {
        "execution": {
          "iopub.execute_input": "2022-12-02T09:18:18.336653Z",
          "iopub.status.busy": "2022-12-02T09:18:18.336370Z",
          "iopub.status.idle": "2022-12-02T09:18:18.595436Z",
          "shell.execute_reply": "2022-12-02T09:18:18.594754Z",
          "shell.execute_reply.started": "2022-12-02T09:18:18.336629Z"
        },
        "trusted": true,
        "id": "QC3c0Qpyt0Xh",
        "outputId": "bbda4662-35a1-41e6-d86a-a1624be51a5d"
      },
      "outputs": [
        {
          "data": {
            "text/plain": [
              "Text(0, 0.5, 'Explained variance (%)')"
            ]
          },
          "execution_count": 110,
          "metadata": {},
          "output_type": "execute_result"
        },
        {
          "data": {
            "image/png": "[encoded data removed]",
            "text/plain": [
              "<Figure size 432x288 with 1 Axes>"
            ]
          },
          "metadata": {
            "needs_background": "light"
          },
          "output_type": "display_data"
        }
      ],
      "source": [
        "# Make the scree plot\n",
        "y_h=np.cumsum(pca.explained_variance_ratio_ * 100)\n",
        "y_h = np.insert(y_h,0, 0)\n",
        "plt.plot(range(1, components + 2), y_h)\n",
        "plt.xlabel(\"Number of components\")\n",
        "plt.ylabel(\"Explained variance (%)\")"
      ],
      "id": "QC3c0Qpyt0Xh"
    },
    {
      "cell_type": "markdown",
      "metadata": {
        "id": "MLfJh0xxt0Xh"
      },
      "source": [
        "### Comments: \n",
        "> 21 (max 22) components explained the essential of information stored by the text data"
      ],
      "id": "MLfJh0xxt0Xh"
    },
    {
      "cell_type": "markdown",
      "id": "b6af5623",
      "metadata": {
        "id": "b6af5623"
      },
      "source": [
        "#### Selecting final predictors for Machine Learning¶"
      ]
    },
    {
      "cell_type": "code",
      "execution_count": null,
      "id": "fffddc5b",
      "metadata": {
        "id": "fffddc5b"
      },
      "outputs": [],
      "source": []
    },
    {
      "cell_type": "code",
      "execution_count": null,
      "metadata": {
        "execution": {
          "iopub.execute_input": "2022-12-02T09:24:17.333124Z",
          "iopub.status.busy": "2022-12-02T09:24:17.332775Z",
          "iopub.status.idle": "2022-12-02T09:24:17.358377Z",
          "shell.execute_reply": "2022-12-02T09:24:17.356528Z",
          "shell.execute_reply.started": "2022-12-02T09:24:17.333075Z"
        },
        "trusted": true,
        "id": "Br6ouR_ut0Xh",
        "outputId": "75850004-d9d3-4ce3-92b9-a3f5a71d65f4"
      },
      "outputs": [
        {
          "data": {
            "text/html": [
              "<div>\n",
              "<style scoped>\n",
              "    .dataframe tbody tr th:only-of-type {\n",
              "        vertical-align: middle;\n",
              "    }\n",
              "\n",
              "    .dataframe tbody tr th {\n",
              "        vertical-align: top;\n",
              "    }\n",
              "\n",
              "    .dataframe thead th {\n",
              "        text-align: right;\n",
              "    }\n",
              "</style>\n",
              "<table border=\"1\" class=\"dataframe\">\n",
              "  <thead>\n",
              "    <tr style=\"text-align: right;\">\n",
              "      <th></th>\n",
              "      <th>0</th>\n",
              "      <th>1</th>\n",
              "      <th>2</th>\n",
              "      <th>3</th>\n",
              "      <th>4</th>\n",
              "      <th>5</th>\n",
              "      <th>6</th>\n",
              "      <th>7</th>\n",
              "      <th>8</th>\n",
              "      <th>9</th>\n",
              "      <th>...</th>\n",
              "      <th>14</th>\n",
              "      <th>15</th>\n",
              "      <th>16</th>\n",
              "      <th>17</th>\n",
              "      <th>18</th>\n",
              "      <th>19</th>\n",
              "      <th>20</th>\n",
              "      <th>21</th>\n",
              "      <th>favorites_count</th>\n",
              "      <th>retweets_count</th>\n",
              "    </tr>\n",
              "  </thead>\n",
              "  <tbody>\n",
              "    <tr>\n",
              "      <th>0</th>\n",
              "      <td>-0.071970</td>\n",
              "      <td>-0.220818</td>\n",
              "      <td>-0.101123</td>\n",
              "      <td>0.087523</td>\n",
              "      <td>0.212842</td>\n",
              "      <td>0.003118</td>\n",
              "      <td>0.129713</td>\n",
              "      <td>-0.097954</td>\n",
              "      <td>-0.128013</td>\n",
              "      <td>-0.030694</td>\n",
              "      <td>...</td>\n",
              "      <td>0.019439</td>\n",
              "      <td>-0.032274</td>\n",
              "      <td>0.003773</td>\n",
              "      <td>0.006862</td>\n",
              "      <td>0.001280</td>\n",
              "      <td>0.002364</td>\n",
              "      <td>-0.000703</td>\n",
              "      <td>0.007422</td>\n",
              "      <td>0</td>\n",
              "      <td>3</td>\n",
              "    </tr>\n",
              "    <tr>\n",
              "      <th>1</th>\n",
              "      <td>-0.084154</td>\n",
              "      <td>-0.230160</td>\n",
              "      <td>0.148319</td>\n",
              "      <td>-0.114236</td>\n",
              "      <td>0.010578</td>\n",
              "      <td>-0.137427</td>\n",
              "      <td>0.229362</td>\n",
              "      <td>0.369282</td>\n",
              "      <td>-0.245577</td>\n",
              "      <td>0.206995</td>\n",
              "      <td>...</td>\n",
              "      <td>-0.012418</td>\n",
              "      <td>-0.018942</td>\n",
              "      <td>0.037406</td>\n",
              "      <td>-0.016684</td>\n",
              "      <td>0.006969</td>\n",
              "      <td>-0.036588</td>\n",
              "      <td>-0.009710</td>\n",
              "      <td>-0.026274</td>\n",
              "      <td>0</td>\n",
              "      <td>0</td>\n",
              "    </tr>\n",
              "    <tr>\n",
              "      <th>2</th>\n",
              "      <td>0.007382</td>\n",
              "      <td>-0.142928</td>\n",
              "      <td>-0.048292</td>\n",
              "      <td>-0.079151</td>\n",
              "      <td>-0.053119</td>\n",
              "      <td>-0.232986</td>\n",
              "      <td>-0.165225</td>\n",
              "      <td>-0.097414</td>\n",
              "      <td>-0.036511</td>\n",
              "      <td>-0.039692</td>\n",
              "      <td>...</td>\n",
              "      <td>-0.079559</td>\n",
              "      <td>-0.001392</td>\n",
              "      <td>0.022142</td>\n",
              "      <td>-0.035446</td>\n",
              "      <td>-0.096617</td>\n",
              "      <td>-0.078681</td>\n",
              "      <td>-0.001275</td>\n",
              "      <td>0.003628</td>\n",
              "      <td>1</td>\n",
              "      <td>3</td>\n",
              "    </tr>\n",
              "    <tr>\n",
              "      <th>3</th>\n",
              "      <td>0.126466</td>\n",
              "      <td>0.013628</td>\n",
              "      <td>0.062934</td>\n",
              "      <td>-0.001928</td>\n",
              "      <td>0.080066</td>\n",
              "      <td>-0.037852</td>\n",
              "      <td>0.041010</td>\n",
              "      <td>0.056976</td>\n",
              "      <td>-0.066886</td>\n",
              "      <td>0.011319</td>\n",
              "      <td>...</td>\n",
              "      <td>-0.014365</td>\n",
              "      <td>-0.010858</td>\n",
              "      <td>0.005743</td>\n",
              "      <td>-0.004098</td>\n",
              "      <td>-0.006246</td>\n",
              "      <td>0.009121</td>\n",
              "      <td>-0.008941</td>\n",
              "      <td>0.020352</td>\n",
              "      <td>0</td>\n",
              "      <td>0</td>\n",
              "    </tr>\n",
              "    <tr>\n",
              "      <th>4</th>\n",
              "      <td>0.094766</td>\n",
              "      <td>-0.016386</td>\n",
              "      <td>0.049624</td>\n",
              "      <td>0.056850</td>\n",
              "      <td>0.042424</td>\n",
              "      <td>0.046122</td>\n",
              "      <td>0.155537</td>\n",
              "      <td>0.122277</td>\n",
              "      <td>0.091522</td>\n",
              "      <td>-0.031131</td>\n",
              "      <td>...</td>\n",
              "      <td>0.038368</td>\n",
              "      <td>-0.076269</td>\n",
              "      <td>0.013418</td>\n",
              "      <td>-0.002932</td>\n",
              "      <td>-0.011223</td>\n",
              "      <td>-0.025361</td>\n",
              "      <td>-0.009295</td>\n",
              "      <td>0.001305</td>\n",
              "      <td>0</td>\n",
              "      <td>0</td>\n",
              "    </tr>\n",
              "  </tbody>\n",
              "</table>\n",
              "<p>5 rows × 24 columns</p>\n",
              "</div>"
            ],
            "text/plain": [
              "          0         1         2         3         4         5         6  \\\n",
              "0 -0.071970 -0.220818 -0.101123  0.087523  0.212842  0.003118  0.129713   \n",
              "1 -0.084154 -0.230160  0.148319 -0.114236  0.010578 -0.137427  0.229362   \n",
              "2  0.007382 -0.142928 -0.048292 -0.079151 -0.053119 -0.232986 -0.165225   \n",
              "3  0.126466  0.013628  0.062934 -0.001928  0.080066 -0.037852  0.041010   \n",
              "4  0.094766 -0.016386  0.049624  0.056850  0.042424  0.046122  0.155537   \n",
              "\n",
              "          7         8         9  ...        14        15        16        17  \\\n",
              "0 -0.097954 -0.128013 -0.030694  ...  0.019439 -0.032274  0.003773  0.006862   \n",
              "1  0.369282 -0.245577  0.206995  ... -0.012418 -0.018942  0.037406 -0.016684   \n",
              "2 -0.097414 -0.036511 -0.039692  ... -0.079559 -0.001392  0.022142 -0.035446   \n",
              "3  0.056976 -0.066886  0.011319  ... -0.014365 -0.010858  0.005743 -0.004098   \n",
              "4  0.122277  0.091522 -0.031131  ...  0.038368 -0.076269  0.013418 -0.002932   \n",
              "\n",
              "         18        19        20        21  favorites_count  retweets_count  \n",
              "0  0.001280  0.002364 -0.000703  0.007422                0               3  \n",
              "1  0.006969 -0.036588 -0.009710 -0.026274                0               0  \n",
              "2 -0.096617 -0.078681 -0.001275  0.003628                1               3  \n",
              "3 -0.006246  0.009121 -0.008941  0.020352                0               0  \n",
              "4 -0.011223 -0.025361 -0.009295  0.001305                0               0  \n",
              "\n",
              "[5 rows x 24 columns]"
            ]
          },
          "execution_count": 119,
          "metadata": {},
          "output_type": "execute_result"
        }
      ],
      "source": [
        "# Adding the target variable\n",
        "\n",
        "DataForML=pd.DataFrame(result)\n",
        "\n",
        "# Add the others predictors 'the ones given by the corr matrix\n",
        "# which is the most correlated to the target=retweets_count'\n",
        "DataForML['favorites_count']=data['favorites_count']\n",
        "DataForML['retweets_count']=data['retweets_count']\n",
        "\n",
        "\n",
        "DataForML.shape\n",
        "DataForML.head()"
      ],
      "id": "Br6ouR_ut0Xh"
    },
    {
      "cell_type": "code",
      "execution_count": null,
      "id": "f9943059",
      "metadata": {
        "id": "f9943059"
      },
      "outputs": [],
      "source": [
        "#DataForML['TweetID']=data['TweetID']\n",
        "#DataForML.to_csv('EmbbedingW2Vec_Data_PCA.csv')"
      ]
    },
    {
      "cell_type": "markdown",
      "metadata": {
        "id": "2tmcSXSet0Xh"
      },
      "source": [
        "#### Standardization/Normalization and then\n",
        "#### Splitting the data into training and testing"
      ],
      "id": "2tmcSXSet0Xh"
    },
    {
      "cell_type": "markdown",
      "id": "8a61be5b",
      "metadata": {
        "id": "8a61be5b"
      },
      "source": []
    },
    {
      "cell_type": "code",
      "execution_count": null,
      "metadata": {
        "execution": {
          "iopub.execute_input": "2022-12-02T09:26:23.214823Z",
          "iopub.status.busy": "2022-12-02T09:26:23.214558Z",
          "iopub.status.idle": "2022-12-02T09:26:23.343232Z",
          "shell.execute_reply": "2022-12-02T09:26:23.342493Z",
          "shell.execute_reply.started": "2022-12-02T09:26:23.214797Z"
        },
        "trusted": true,
        "id": "R2_XTI0Yt0Xh"
      },
      "outputs": [],
      "source": [
        "# Separate Target Variable and Predictor Variables\n",
        "DataForML1=DataForML.copy()\n",
        "TargetVariable=DataForML1.columns[-1]\n",
        "\n",
        "Predictors=DataForML1.columns[:-1]\n",
        " \n",
        "X=DataForML1[Predictors].values\n",
        "y=DataForML1[TargetVariable].values\n",
        "\n",
        "# Choose between standardization and MinMAx normalization\n",
        "PredictorScaler=StandardScaler()\n",
        "#PredictorScaler=MinMaxScaler()\n",
        " \n",
        "# Storing the fit object for later reference\n",
        "PredictorScalerFit=PredictorScaler.fit(X)\n",
        " \n",
        "# Generating the standardized values of X\n",
        "X=PredictorScalerFit.transform(X)\n",
        " \n",
        "# Split the data into training and testing set\n",
        "from sklearn.model_selection import train_test_split\n",
        "X_train, X_test, y_train, y_test = train_test_split(X, y, test_size=0.1, random_state=428)"
      ],
      "id": "R2_XTI0Yt0Xh"
    },
    {
      "cell_type": "code",
      "execution_count": null,
      "id": "7b4d6577",
      "metadata": {
        "id": "7b4d6577"
      },
      "outputs": [],
      "source": []
    },
    {
      "cell_type": "markdown",
      "metadata": {
        "id": "PRVCtvl1t0Xh"
      },
      "source": [],
      "id": "PRVCtvl1t0Xh"
    },
    {
      "cell_type": "markdown",
      "metadata": {
        "id": "-HWEiyudt0Xh"
      },
      "source": [
        "#### Training ML classification models\n",
        "There are pca(300 features) + 1 = 22 predictors and one target variable."
      ],
      "id": "-HWEiyudt0Xh"
    },
    {
      "cell_type": "code",
      "execution_count": null,
      "metadata": {
        "execution": {
          "iopub.execute_input": "2022-12-02T09:33:46.367377Z",
          "iopub.status.busy": "2022-12-02T09:33:46.367035Z",
          "iopub.status.idle": "2022-12-02T09:34:21.950904Z",
          "shell.execute_reply": "2022-12-02T09:34:21.949880Z",
          "shell.execute_reply.started": "2022-12-02T09:33:46.367352Z"
        },
        "trusted": true,
        "id": "W7YC68xDt0Xh",
        "outputId": "d3d46c3f-9091-4ea6-e149-02342e46d8ab"
      },
      "outputs": [
        {
          "name": "stdout",
          "output_type": "stream",
          "text": [
            "KNeighborsRegressor(n_neighbors=15)\n",
            "KNeighborsRegressor R2 Value over the train set 0.7075620673061607\n"
          ]
        },
        {
          "data": {
            "text/plain": [
              "{'MSE': 9163.394418861611,\n",
              " 'MAE': 12.945332466969894,\n",
              " 'MSLE': 1.9372412432446853,\n",
              " 'R2': 0.7075620673061607}"
            ]
          },
          "execution_count": 90,
          "metadata": {},
          "output_type": "execute_result"
        }
      ],
      "source": [
        "# K-Nearest Neighbor(KNN)\n",
        "from sklearn.neighbors import KNeighborsRegressor\n",
        "from sklearn import metrics\n",
        "from sklearn import model_selection\n",
        "\n",
        "\n",
        "# Fixer les valeurs des hyperparamètres à tester\n",
        "param_grid = {'n_neighbors':[3, 5, 7, 9, 11, 13, 15,18,20]}\n",
        "\n",
        "# Choisir un score à optimiser, ici l'accuracy (proportion de prédictions correctes)\n",
        "score = 'accuracy'\n",
        "\n",
        "# Créer un classifieur kNN avec recherche d'hyperparamètre par validation croisée\n",
        "clf = model_selection.GridSearchCV(\n",
        "    KNeighborsRegressor(), # un classifieur kNN\n",
        "    param_grid,     # hyperparamètres à tester\n",
        "    cv=5,           # nombre de folds de validation croisée\n",
        "    scoring=score   # score à optimiser\n",
        ")\n",
        "\n",
        "# Optimiser ce classifieur sur le jeu d'entraînement\n",
        "clf.fit(X_train,y_train)\n",
        "\n",
        "# Afficher le(s) hyperparamètre(s) optimaux\n",
        "print(\"Best hyperparameter(s) on the training set:\")\n",
        " \n",
        "# Printing all the parameters of KNN\n",
        "print(clf.best_params_)\n",
        "KNN=clf.best_estimator_\n",
        "\n",
        "prediction=KNN.predict(X_test)\n",
        "\n",
        "# Measuring Goodness of fit in Training data\n",
        "coef_determ=r2_score(y_train, KNN.predict(X_train))\n",
        "print('KNeighborsRegressor R2 Value over the train set', coef_determ)\n",
        "    \n",
        "metrics_1=metrics_(y_test,prediction)\n",
        "metrics_1['R2']=coef_determ\n",
        "metrics_1 "
      ],
      "id": "W7YC68xDt0Xh"
    },
    {
      "cell_type": "code",
      "execution_count": null,
      "metadata": {
        "execution": {
          "iopub.execute_input": "2022-12-02T09:35:00.372783Z",
          "iopub.status.busy": "2022-12-02T09:35:00.372532Z"
        },
        "trusted": true,
        "id": "dzfSq_IRt0Xi",
        "outputId": "c73a90e3-590b-4169-f74d-66f399d3e663"
      },
      "outputs": [
        {
          "data": {
            "text/plain": [
              "\"## Random Forest Regressor\\n# Define Parameters\\nparam = {\\n        'max_depth': 8,\\n        'min_impurity_decrease': 0.072,\\n        'min_samples_split': 31,\\n        'n_estimators': 100,\\n    }\\n\\n# Define Parameters\\nmax_depth=[2, 8, 16]\\nn_estimators = [64, 100, 128]\\nparam_grid = dict(max_depth=max_depth, n_estimators=n_estimators)\\n\\n# Build the grid search\\ndfrst = RandomForestRegressor(n_estimators=n_estimators, max_depth=max_depth)\\ngrid = GridSearchCV(estimator=dfrst, param_grid=param_grid, cv = 5)\\n    \\n# Creating the model on Training Data\\ngrid_results = grid.fit(X_train,y_train)\\n    \\n# Extract the best decision forest \\nbest_clf = grid_results.best_estimator_\\n   \\n# Printing all the parameters of Random Forest\\nprint(best_clf)\\n    \\nprediction=best_clf.predict(X_test)\\n    \\n    \\n# Measuring Goodness of fit in Training data\\ncoef_determ=r2_score(y_train, best_clf.predict(X_train))\\nprint('RFRegressor R2 Value over the train set', coef_determ)\\n    \\nmetrics_2=metrics_(y_test,prediction)\\nmetrics_2['R2']=coef_determ\\nmetrics_2  \""
            ]
          },
          "execution_count": 214,
          "metadata": {},
          "output_type": "execute_result"
        }
      ],
      "source": [
        "## Random Forest Regressor\n",
        "# Define Parameters\n",
        "param = {\n",
        "        'max_depth': 8,\n",
        "        'min_impurity_decrease': 0.072,\n",
        "        'min_samples_split': 31,\n",
        "        'n_estimators': 100,\n",
        "    }\n",
        "\n",
        "# Define Parameters\n",
        "max_depth=[2, 8, 16]\n",
        "n_estimators = [64, 100, 128]\n",
        "param_grid = dict(max_depth=max_depth, n_estimators=n_estimators)\n",
        "\n",
        "# Build the grid search\n",
        "dfrst = RandomForestRegressor(n_estimators=n_estimators, max_depth=max_depth)\n",
        "grid = GridSearchCV(estimator=dfrst, param_grid=param_grid, cv = 5)\n",
        "    \n",
        "# Creating the model on Training Data\n",
        "grid_results = grid.fit(X_train,y_train)\n",
        "    \n",
        "# Extract the best decision forest \n",
        "best_clf = grid_results.best_estimator_\n",
        "   \n",
        "# Printing all the parameters of Random Forest\n",
        "print(best_clf)\n",
        "    \n",
        "prediction=best_clf.predict(X_test)\n",
        "    \n",
        "    \n",
        "# Measuring Goodness of fit in Training data\n",
        "coef_determ=r2_score(y_train, best_clf.predict(X_train))\n",
        "print('RFRegressor R2 Value over the train set', coef_determ)\n",
        "    \n",
        "metrics_2=metrics_(y_test,prediction)\n",
        "metrics_2['R2']=coef_determ\n",
        "metrics_2  "
      ],
      "id": "dzfSq_IRt0Xi"
    },
    {
      "cell_type": "code",
      "execution_count": null,
      "metadata": {
        "id": "_KeYhE3-t0Xi",
        "outputId": "d7b3a6e3-75ae-498c-b761-9fbb31858f57"
      },
      "outputs": [
        {
          "name": "stdout",
          "output_type": "stream",
          "text": [
            "XgBoost R2 Value over the train set=:0\n"
          ]
        },
        {
          "data": {
            "text/plain": [
              "{'MSE': 9628.88326024235,\n",
              " 'MAE': 7.970675225618664,\n",
              " 'MSLE': 0.3095783920585442,\n",
              " 'R2': 0.9871835499663723}"
            ]
          },
          "execution_count": 92,
          "metadata": {},
          "output_type": "execute_result"
        }
      ],
      "source": [
        "params = {\n",
        "    'min_child_weight': [4, 8],\n",
        "    'gamma': [i / 10.0 for i in range(3, 6)],\n",
        "    'subsample': [i / 10.0 for i in range(5, 11)], #range(6,11)?\n",
        "    'colsample_bytree': [i / 10.0 for i in range(5, 11)],\n",
        "    'max_depth': [3, 4, 5], ##\n",
        "    'eta': [0.01,0.05, 0.1, 0.15,0.2,0.3,0.5]\n",
        "    }\n",
        "\n",
        "RegModel=xgboost.XGBRegressor(max_depth=3, \n",
        "                          learning_rate=0.1, \n",
        "                          n_estimators=1000, \n",
        "                          objective='reg:squarederror',\n",
        "                          booster='gbtree')\n",
        "\n",
        "# Creating the model on Training Data\n",
        "XGB=RegModel.fit(X_train,y_train)\n",
        "prediction=XGB.predict(X_test) \n",
        "\n",
        "# Measuring Goodness of fit in Training data 'MSE: %.3f' % MSE\n",
        "coef_determ=metrics.r2_score(y_train, XGB.predict(X_train))\n",
        "print('XgBoost R2 Value over the train set=:%i' %coef_determ)\n",
        "    \n",
        "metrics_3=metrics_(y_test,prediction)\n",
        "metrics_3['R2']=coef_determ\n",
        "metrics_3 "
      ],
      "id": "_KeYhE3-t0Xi"
    },
    {
      "cell_type": "code",
      "execution_count": null,
      "metadata": {
        "trusted": true,
        "id": "G0n7AlYAt0Xi",
        "outputId": "443d2389-57a3-43c6-91ff-a897d00385b2"
      },
      "outputs": [
        {
          "name": "stdout",
          "output_type": "stream",
          "text": [
            "MLPRegressor R2 Value over the train set=:0\n"
          ]
        },
        {
          "data": {
            "text/plain": [
              "{'MSE': 7591.172479618936,\n",
              " 'MAE': 7.151288804523908,\n",
              " 'MSLE': 0.4677674939033252,\n",
              " 'R2': 0.7097813450112351}"
            ]
          },
          "execution_count": 39,
          "metadata": {},
          "output_type": "execute_result"
        }
      ],
      "source": [
        "from sklearn.neural_network import MLPRegressor \n",
        "\n",
        "grid = [{\"hidden_layer_sizes\":list([(5,),(6,),(7,),(8,)])}]\n",
        "\n",
        "neural_network = GridSearchCV(\n",
        "    MLPRegressor(max_iter=1000, warm_start=True, random_state=42),\n",
        "    grid,\n",
        "    cv = 10,\n",
        ")\n",
        "\n",
        "neural_network = neural_network.fit(X_train, y_train) #y_train.values ?\n",
        "\n",
        "#neural_network = neural_network.best_estimator_\n",
        "\n",
        "prediction = neural_network.predict(X_test)\n",
        "\n",
        "# Measuring Goodness of fit in Training data 'MSE: %.3f' % MSE\n",
        "coef_determ=metrics.r2_score(y_train, neural_network.predict(X_train))\n",
        "print('MLPRegressor R2 Value over the train set=:%i' %coef_determ)\n",
        "    \n",
        "metrics_4=metrics_(y_test,prediction)\n",
        "metrics_4['R2']=coef_determ\n",
        "metrics_4 "
      ],
      "id": "G0n7AlYAt0Xi"
    },
    {
      "cell_type": "code",
      "execution_count": null,
      "id": "ca48526d",
      "metadata": {
        "id": "ca48526d"
      },
      "outputs": [],
      "source": [
        "metrics_4 ={'MSE': 7591.172479618936,\n",
        " 'MAE': 7.151288804523908,\n",
        " 'MSLE': 0.4677674939033252,\n",
        " 'R2': 0.7097813450112351}"
      ]
    },
    {
      "cell_type": "code",
      "execution_count": null,
      "id": "eebd0134",
      "metadata": {
        "id": "eebd0134",
        "outputId": "b15193a4-65ab-4451-9a7b-a84357d55989"
      },
      "outputs": [
        {
          "name": "stdout",
          "output_type": "stream",
          "text": [
            "GradientBoostingRegressor(learning_rate=0.022, max_depth=8,\n",
            "                          min_impurity_decrease=0.072, min_samples_split=31)\n",
            "GradientBoostingRegressor R2 Value over the train set=:0\n"
          ]
        },
        {
          "data": {
            "text/plain": [
              "{'MSE': 7969.036579422822,\n",
              " 'MAE': 8.187967597132772,\n",
              " 'MSLE': 0.8225434979377868,\n",
              " 'R2': 0.9084637721720218}"
            ]
          },
          "execution_count": 93,
          "metadata": {},
          "output_type": "execute_result"
        }
      ],
      "source": [
        "## GradientBoostingRegressor\n",
        "from sklearn.ensemble import GradientBoostingRegressor\n",
        "param = {\n",
        "    'learning_rate': 0.022,\n",
        "     'max_depth': 8,\n",
        "     'min_impurity_decrease': 0.072,\n",
        "     'min_samples_split': 31,\n",
        "     'n_estimators': 100\n",
        "     #'verbose':2\n",
        "}\n",
        "\n",
        "gbr_b = GradientBoostingRegressor(**param)\n",
        "#Printing all the parameters of the model\n",
        "print(gbr_b)\n",
        "# Creating the model on Training Data\n",
        "gbr_b.fit(X_train,y_train)\n",
        "\n",
        "prediction=gbr_b.predict(X_test) \n",
        "\n",
        "# Measuring Goodness of fit in Training data 'MSE: %.3f' % MSE\n",
        "coef_determ=metrics.r2_score(y_train, gbr_b.predict(X_train))\n",
        "print('GradientBoostingRegressor R2 Value over the train set=:%i' %coef_determ)\n",
        "    \n",
        "metrics_5=metrics_(y_test,prediction)\n",
        "metrics_5['R2']=coef_determ\n",
        "metrics_5 "
      ]
    },
    {
      "cell_type": "code",
      "execution_count": null,
      "id": "71a15123",
      "metadata": {
        "id": "71a15123"
      },
      "outputs": [],
      "source": []
    },
    {
      "cell_type": "code",
      "execution_count": null,
      "metadata": {
        "id": "mjCsev0it0Xi",
        "outputId": "4a36532a-e744-4076-e850-ef938c9a3b57"
      },
      "outputs": [
        {
          "data": {
            "text/html": [
              "<div>\n",
              "<style scoped>\n",
              "    .dataframe tbody tr th:only-of-type {\n",
              "        vertical-align: middle;\n",
              "    }\n",
              "\n",
              "    .dataframe tbody tr th {\n",
              "        vertical-align: top;\n",
              "    }\n",
              "\n",
              "    .dataframe thead th {\n",
              "        text-align: right;\n",
              "    }\n",
              "</style>\n",
              "<table border=\"1\" class=\"dataframe\">\n",
              "  <thead>\n",
              "    <tr style=\"text-align: right;\">\n",
              "      <th></th>\n",
              "      <th>MSE</th>\n",
              "      <th>MAE</th>\n",
              "      <th>MSLE</th>\n",
              "      <th>R2</th>\n",
              "      <th>Model</th>\n",
              "    </tr>\n",
              "  </thead>\n",
              "  <tbody>\n",
              "    <tr>\n",
              "      <th>0</th>\n",
              "      <td>9163.394419</td>\n",
              "      <td>12.945332</td>\n",
              "      <td>1.937241</td>\n",
              "      <td>0.707562</td>\n",
              "      <td>KNeighborsRegressor</td>\n",
              "    </tr>\n",
              "    <tr>\n",
              "      <th>1</th>\n",
              "      <td>10437.424038</td>\n",
              "      <td>7.966141</td>\n",
              "      <td>0.318367</td>\n",
              "      <td>0.947001</td>\n",
              "      <td>RFRegressor</td>\n",
              "    </tr>\n",
              "    <tr>\n",
              "      <th>2</th>\n",
              "      <td>9628.883260</td>\n",
              "      <td>7.970675</td>\n",
              "      <td>0.309578</td>\n",
              "      <td>0.987184</td>\n",
              "      <td>Xgboost</td>\n",
              "    </tr>\n",
              "    <tr>\n",
              "      <th>3</th>\n",
              "      <td>7591.172480</td>\n",
              "      <td>7.151289</td>\n",
              "      <td>0.467767</td>\n",
              "      <td>0.709781</td>\n",
              "      <td>GradientBoosting</td>\n",
              "    </tr>\n",
              "    <tr>\n",
              "      <th>4</th>\n",
              "      <td>7969.036579</td>\n",
              "      <td>8.187968</td>\n",
              "      <td>0.822543</td>\n",
              "      <td>0.908464</td>\n",
              "      <td>MLPRegressor</td>\n",
              "    </tr>\n",
              "  </tbody>\n",
              "</table>\n",
              "</div>"
            ],
            "text/plain": [
              "            MSE        MAE      MSLE        R2                Model\n",
              "0   9163.394419  12.945332  1.937241  0.707562  KNeighborsRegressor\n",
              "1  10437.424038   7.966141  0.318367  0.947001          RFRegressor\n",
              "2   9628.883260   7.970675  0.309578  0.987184              Xgboost\n",
              "3   7591.172480   7.151289  0.467767  0.709781     GradientBoosting\n",
              "4   7969.036579   8.187968  0.822543  0.908464         MLPRegressor"
            ]
          },
          "execution_count": 97,
          "metadata": {},
          "output_type": "execute_result"
        }
      ],
      "source": [
        "from collections import defaultdict\n",
        "\n",
        "mon_dico2 = defaultdict(list)\n",
        "model=['KNeighborsRegressor','RFRegressor','Xgboost','GradientBoosting','MLPRegressor'] \n",
        "\n",
        "dicts = (metrics_1,metrics_2,metrics_3,metrics_4,metrics_5) \n",
        "for d in dicts: # you can list as many input dicts as you want here\n",
        "    for key, value in d.items():\n",
        "        mon_dico2[key].append(value)\n",
        "mon_dico2['Model'].extend(model)\n",
        "        \n",
        "m2=pd.DataFrame(mon_dico2)\n",
        "m2"
      ],
      "id": "mjCsev0it0Xi"
    },
    {
      "cell_type": "markdown",
      "metadata": {
        "id": "_-K6OYDet0Xi"
      },
      "source": [
        "### Deploying a predictive model as an API\n",
        "##### Function for predictions API"
      ],
      "id": "_-K6OYDet0Xi"
    },
    {
      "cell_type": "code",
      "execution_count": null,
      "id": "6921c895",
      "metadata": {
        "id": "6921c895",
        "outputId": "32deef00-047c-45df-86fe-360d8ffe4b7b"
      },
      "outputs": [
        {
          "data": {
            "text/plain": [
              "Index(['text', 'favorites_count', 'followers_count', 'statuses_count',\n",
              "       'friends_count', 'mentions', 'urls', 'verified', 'hashtags',\n",
              "       'timestamp', 'TweetID'],\n",
              "      dtype='object')"
            ]
          },
          "execution_count": 117,
          "metadata": {},
          "output_type": "execute_result"
        }
      ],
      "source": [
        "NewSampleData=pd.read_csv('evaluation.csv', header=0) #index_col=0 \n",
        "\n",
        "# Adding the target variable\n",
        "# Predictors_=X_train.columns\n",
        "EvalData=NewSampleData.copy()\n",
        "EvalData[\"text\"] = EvalData[\"text\"] + EvalData[\"hashtags\"].astype(str)\n",
        "dframe= preprocess(EvalData)\n",
        "\n",
        "mean_embedded_W2Vec_EvalData = mean_embedding_vectorizer.transform(EvalData['clean'])\n",
        "EvalData_ForML=pd.DataFrame(mean_embedded_W2Vec_EvalData)\n",
        "\n",
        "# Add the others predictors\n",
        "# W2Vec_Data[Predictors_]=data[Predictors_]\n",
        "EvalData_ForML['favorites_count']=EvalData['favorites_count']\n",
        "\n",
        "EvalData_ForML['TweetID']=EvalData['TweetID']\n",
        "EvalData_ForML.set_index('TweetID').reset_index(drop=False)\n",
        "EvalData_ForML.to_csv('EmbbedingW2Vec_EvaluationData_.csv')\n",
        "\n",
        "EvalData_ForML.shape\n",
        "\n",
        "NewSampleData.columns"
      ]
    },
    {
      "cell_type": "code",
      "execution_count": null,
      "id": "b365104e",
      "metadata": {
        "id": "b365104e",
        "outputId": "bb301063-367e-4d00-93d0-96faeea3a5da"
      },
      "outputs": [
        {
          "data": {
            "text/plain": [
              "(117990, 302)"
            ]
          },
          "execution_count": 118,
          "metadata": {},
          "output_type": "execute_result"
        }
      ],
      "source": [
        "EvalData_ForML.shape"
      ]
    },
    {
      "cell_type": "markdown",
      "id": "1185c43b",
      "metadata": {
        "id": "1185c43b"
      },
      "source": [
        "#### Random Forest"
      ]
    },
    {
      "cell_type": "code",
      "execution_count": null,
      "id": "7c98b708",
      "metadata": {
        "id": "7c98b708",
        "outputId": "79f5e9a0-45a5-43d1-8519-7612e4aa80e9"
      },
      "outputs": [
        {
          "data": {
            "text/plain": [
              "\"# Define Parameters\\nmax_depth=[2, 8, 16]\\nn_estimators = [64, 100, 128]\\nparam_grid = dict(max_depth=max_depth, n_estimators=n_estimators)\\n\\n# Build the grid search\\ndfrst = RandomForestRegressor(n_estimators=n_estimators, max_depth=max_depth)\\ngrid = GridSearchCV(estimator=dfrst, param_grid=param_grid, cv = 5)\\n    \\n# Creating the model on Training Data\\ngrid_results = grid.fit(X, y)\\n    \\n# Extract the best decision forest \\nbest_clf = grid_results.best_estimator_\\n   \\n# Printing all the parameters of Random Forest\\nprint(best_clf)\\n\\n# Measuring Goodness of fit in Training data 'MSE: %.3f' % MSE\\nprint('R2 Value for train_set', metrics.r2_score(y,  best_clf.predict(X)))\\n\\nPredictionModel= best_clf \""
            ]
          },
          "execution_count": 215,
          "metadata": {},
          "output_type": "execute_result"
        }
      ],
      "source": [
        "# Define Parameters\n",
        "max_depth=[2, 8, 16]\n",
        "n_estimators = [64, 100, 128]\n",
        "param_grid = dict(max_depth=max_depth, n_estimators=n_estimators)\n",
        "\n",
        "# Build the grid search\n",
        "dfrst = RandomForestRegressor(n_estimators=n_estimators, max_depth=max_depth)\n",
        "grid = GridSearchCV(estimator=dfrst, param_grid=param_grid, cv = 5)\n",
        "    \n",
        "# Creating the model on Training Data\n",
        "grid_results = grid.fit(X, y)\n",
        "    \n",
        "# Extract the best decision forest \n",
        "best_clf = grid_results.best_estimator_\n",
        "   \n",
        "# Printing all the parameters of Random Forest\n",
        "print(best_clf)\n",
        "\n",
        "# Measuring Goodness of fit in Training data 'MSE: %.3f' % MSE\n",
        "print('R2 Value for train_set', metrics.r2_score(y,  best_clf.predict(X)))\n",
        "\n",
        "PredictionModel= best_clf "
      ]
    },
    {
      "cell_type": "code",
      "execution_count": null,
      "metadata": {
        "id": "YisikNQut0Xj"
      },
      "outputs": [],
      "source": [
        "def FunctionPredictResult(InputData,PredictionModel,predictors,pca=None,PredictorScalerFit=None):\n",
        "    ## InputData being a sequence of date\n",
        "    # Preprocessing\n",
        "    InputData[\"text\"] = InputData[\"text\"] + InputData[\"hashtags\"].astype(str)\n",
        "    df= preprocess(InputData)\n",
        "    mean_embedded_W2Vec = mean_embedding_vectorizer.transform(df['clean'])\n",
        "\n",
        "    DataForML=pd.DataFrame(pca.transform(mean_embedded_W2Vec))\n",
        "    # Add the others predictors\n",
        "    DataForML[predictors]=data[predictors]\n",
        "    X=DataForML.values\n",
        "    # PredictorScalerFit,PredictionModel=     ##PredictionModel=RegModel.fit(X,y)\n",
        "    \n",
        "    # Generating the standardized values of X since it was done while model training also\n",
        "    X=PredictorScalerFit.transform(X)\n",
        "\n",
        "    # Genrating Predictions\n",
        "    Prediction=PredictionModel.predict(X)\n",
        "    \n",
        "    PredictionResult=pd.DataFrame(Prediction, columns=['retweets_count'])\n",
        "    PredictionResult['TweetID']=InputData['TweetID']\n",
        "    PredictionResult.set_index('TweetID').reset_index(drop=False)\n",
        "    return PredictionResult"
      ],
      "id": "YisikNQut0Xj"
    },
    {
      "cell_type": "code",
      "execution_count": null,
      "id": "a1704627",
      "metadata": {
        "id": "a1704627"
      },
      "outputs": [],
      "source": [
        "predictors='favorites_count'\n",
        "NewSampleData=pd.read_csv('evaluation.csv', header=0) \n",
        "\n",
        "PredictionResult=FunctionPredictResult(NewSampleData,PredictionModel,predictors,pca,PredictorScalerFit)\n",
        "PredictionResult.to_csv('ModelPrediction.csv', index=False)"
      ]
    },
    {
      "cell_type": "markdown",
      "id": "c1481d77",
      "metadata": {
        "id": "c1481d77"
      },
      "source": [
        "# More Text Processing"
      ]
    },
    {
      "cell_type": "markdown",
      "id": "1990ebd2",
      "metadata": {
        "id": "1990ebd2"
      },
      "source": [
        "Before designing our NN, we are going first to try to extract some more information out of the text: \n",
        "In addition to Word2Vect vector we are going to add a TFIDF vector for the 100 most recurring words. Then we are going to analyse the sentiment of each tweet, as well as categorising tweets in function of the candidate. "
      ]
    },
    {
      "cell_type": "markdown",
      "id": "2d7c2386",
      "metadata": {
        "id": "2d7c2386"
      },
      "source": [
        "## TFIDF Vector"
      ]
    },
    {
      "cell_type": "code",
      "execution_count": null,
      "id": "d1bdbeac",
      "metadata": {
        "id": "d1bdbeac"
      },
      "outputs": [],
      "source": [
        "#nltk.download('stopwords')\n",
        "# Load the training data\n",
        "train_data = pd.read_csv(\"train.csv\")\n",
        "eval_data = pd.read_csv(\"evaluation.csv\")\n",
        "\n",
        "tb = Blobber(pos_tagger=PatternTagger(), analyzer=PatternAnalyzer())\n",
        "\n",
        "#TFID for the top 100 words\n",
        "vectorizer = TfidfVectorizer(analyzer = 'word',max_features=100, stop_words=stopwords.words('french'))\n",
        "\n",
        "tfidf_wm_train = vectorizer.fit_transform(train_data['text'])\n",
        "tfidf_wm_eval = vectorizer.fit_transform(eval_data['text'])\n",
        "\n",
        "tfidf_tokens = vectorizer.get_feature_names()\n",
        "\n",
        "df_tfidfvect_train = pd.DataFrame(data = tfidf_wm_train.toarray(),index = [i for i in range(len(train_data['text']))],columns = tfidf_tokens)\n",
        "df_tfidfvect_eval = pd.DataFrame(data = tfidf_wm_eval.toarray(),index = [i for i in range(len(eval_data['text']))],columns = tfidf_tokens)\n"
      ]
    },
    {
      "cell_type": "markdown",
      "id": "52deae84",
      "metadata": {
        "id": "52deae84"
      },
      "source": [
        "## Sentiment Analysis"
      ]
    },
    {
      "cell_type": "code",
      "execution_count": null,
      "id": "525bee51",
      "metadata": {
        "id": "525bee51"
      },
      "outputs": [],
      "source": [
        "import flair\n",
        "from flair.data import Sentence\n",
        "from flair.models import SequenceTagger\n",
        "\n",
        "'''Setiment ANALYSIS '''\n",
        "#convert all to lowercase\n",
        "train_data[\"text\"] = train_data[\"text\"].str.lower()\n",
        "eval_data[\"text\"] = eval_data[\"text\"].str.lower()\n",
        "\n",
        "#Word Tokenization and deleting punctuation**\n",
        "AComment_train=[]\n",
        "for comment in train_data[\"text\"].apply(str):\n",
        "    Word_Tok = []\n",
        "    for word in  re.sub(\"\\W\",\" \",comment ).split():\n",
        "        Word_Tok.append(word)\n",
        "    AComment_train.append(Word_Tok)\n",
        "\n",
        "AComment_eval=[]\n",
        "for comment in eval_data[\"text\"].apply(str):\n",
        "    Word_Tok = []\n",
        "    for word in  re.sub(\"\\W\",\" \",comment ).split():\n",
        "        Word_Tok.append(word)\n",
        "    AComment_eval.append(Word_Tok)\n",
        "#Add tokens to data\n",
        "train_data[\"Word_Tok\"]= AComment_train\n",
        "eval_data[\"Word_Tok\"]= AComment_eval\n",
        "\n",
        "\n",
        "stop_words=set(STOP_WORDS)\n",
        "\n",
        "AllfilteredComment_train=[]\n",
        "for comment in train_data[\"Word_Tok\"]:\n",
        "    filteredComment = [w for w in comment if not ((w in stop_words) or (len(w) == 1))]\n",
        "    AllfilteredComment_train.append(' '.join(filteredComment))\n",
        "\n",
        "AllfilteredComment_eval=[]\n",
        "for comment in eval_data[\"Word_Tok\"]:\n",
        "    filteredComment = [w for w in comment if not ((w in stop_words) or (len(w) == 1))]\n",
        "    AllfilteredComment_eval.append(' '.join(filteredComment))\n",
        "#Add cleaned tokens\n",
        "train_data[\"CommentAferPreproc\"]=AllfilteredComment_train\n",
        "eval_data[\"CommentAferPreproc\"]=AllfilteredComment_eval\n",
        "\n",
        "#Analyse sentiment using TextBlob\n",
        "senti_list_train = []\n",
        "for i in train_data[\"CommentAferPreproc\"]:\n",
        "    vs = tb(i).sentiment[0]\n",
        "    if (vs > 0):\n",
        "        senti_list_train.append(1)\n",
        "    elif (vs < 0):\n",
        "        senti_list_train.append(0)\n",
        "    else:\n",
        "        senti_list_train.append(0.5)   \n",
        "\n",
        "senti_list_eval = []\n",
        "for i in eval_data[\"CommentAferPreproc\"]:\n",
        "    vs = tb(i).sentiment[0]\n",
        "    if (vs > 0):\n",
        "        senti_list_eval.append(1)\n",
        "    elif (vs < 0):\n",
        "        senti_list_eval.append(0)\n",
        "    else:\n",
        "        senti_list_eval.append(0.5)   \n",
        "\n",
        "train_data[\"sentiment\"]=senti_list_train\n",
        "eval_data[\"sentiment\"]=senti_list_eval\n",
        "train_data = train_data.join(df_tfidfvect_train)\n",
        "eval_data = eval_data.join(df_tfidfvect_eval)"
      ]
    },
    {
      "cell_type": "markdown",
      "id": "40547385",
      "metadata": {
        "id": "40547385"
      },
      "source": [
        "## Categorizing by candidate"
      ]
    },
    {
      "cell_type": "code",
      "execution_count": null,
      "id": "299208ce",
      "metadata": {
        "id": "299208ce"
      },
      "outputs": [],
      "source": [
        "#Categorise tweets by propre names\n",
        "found_names = []\n",
        "def fill_up_freq(df,filename):\n",
        "    global found_names\n",
        "    vects =[]\n",
        "    founds=[]\n",
        "    batch = df.loc[0].copy()\n",
        "    candidate = df[['TweetID']].loc[0].copy()\n",
        "    \n",
        "    m=0\n",
        "    if(os.path.isfile(filename)):\n",
        "      x = pd.read_csv(filename)\n",
        "      m = len(x)-1\n",
        "    for i in range(m,len(df['text'])):\n",
        "    # make example sentence\n",
        "      sentence = Sentence(df['text'][i])\n",
        "\n",
        "    # predict NER tags\n",
        "      tagger.predict(sentence)\n",
        "\n",
        "      names_vect = [] \n",
        "      if(i%100 ==0 or i == len(df['text'])-1):\n",
        "       name_freqs = []\n",
        "       if(i>0):\n",
        "        candidate[\"candidate\"]=founds+[-1 for k in range(len(candidate)-len(founds))] \n",
        "        if(os.path.isfile(filename)):\n",
        "          \n",
        "          candidate.to_csv(filename, mode='a', index=False,header=False)\n",
        "        else:\n",
        "          candidate.to_csv(filename,index=False)\n",
        "       founds=[]\n",
        "       candidate = df[['TweetID']].loc[i:i+99].copy()\n",
        "\n",
        "      found = -1\n",
        "      if(len(sentence.get_spans('ner'))>0):\n",
        "        for entity in sentence.get_spans('ner'):\n",
        "          x = unidecode(str(entity))\n",
        "          names = x.split(\": \\\"\")[1].split(\"\\\"\")[0].split(\" \")\n",
        "          for u in names:\n",
        "            if(found<0):\n",
        "              if(len(found_names)==0):\n",
        "                  found = 0\n",
        "                  found_names+=[u]\n",
        "              else:\n",
        "                for i,name in enumerate(found_names):\n",
        "                  if(nltk.edit_distance(u,name)<4):\n",
        "                    found =i \n",
        "                    break\n",
        "                  else:\n",
        "                    if(i==len(found_names)-1):\n",
        "                      found = len(found_names)\n",
        "                      found_names+=[u]\n",
        "                      break\n",
        "      founds+=[found]\n",
        "    return df"
      ]
    },
    {
      "cell_type": "code",
      "execution_count": null,
      "id": "9945916f",
      "metadata": {
        "id": "9945916f"
      },
      "outputs": [],
      "source": [
        "train_data = fill_up_freq(train_data,'train_analysed_tweet_cand_freq.csv')\n",
        "eval_data = fill_up_freq(eval_data,'eval_analysed_tweet_cand_freq.csv')"
      ]
    },
    {
      "cell_type": "markdown",
      "id": "ac8d4708",
      "metadata": {
        "id": "ac8d4708"
      },
      "source": [
        "# Neural Network Framework"
      ]
    },
    {
      "cell_type": "markdown",
      "id": "c0b9b097",
      "metadata": {
        "id": "c0b9b097"
      },
      "source": [
        "So far, we have transformed our tweets into a vector containing, Word2vect representation, TFIDF vector, Sentiment, Candidate number. \n",
        "We are ready to first apply PCA on the first two components then design a neural network that fits the purpose."
      ]
    },
    {
      "cell_type": "code",
      "execution_count": null,
      "id": "94d1bc09",
      "metadata": {
        "id": "94d1bc09"
      },
      "outputs": [],
      "source": [
        "#read candidate category\n",
        "train_with_candidate = pd.read_csv('train_analysed_tweet_cand_freq.csv')\n",
        "eval_with_candidate = pd.read_csv('eval_analysed_tweet_cand_freq.csv')\n",
        "#add this information to original data \n",
        "train_cand_raw = train_data.iloc[:,0:9].join(train_with_candidate[['candidate']])\n",
        "train_cand_raw = train_cand_raw.fillna(-1)\n",
        "eval_cand_raw = eval_data.iloc[:,0:8].join(eval_with_candidate[['candidate']])\n",
        "eval_cand_raw = eval_cand_raw.fillna(-1)\n",
        "#read word2vect embedding \n",
        "word2vect_train = pd.read_csv(\"EmbbedingW2Vec_Data.csv\")\n",
        "word2vect_eval = pd.read_csv(\"Evaluation_W2Vec2.csv\")\n",
        "#combine word2vect with TFIDF vector\n",
        "word2vectwithfreq_train = word2vectonly_train.join(train_data.iloc[:,9:])\n",
        "word2vectwithfreq_eval = word2vectonly_eval.join(eval_data.iloc[:,8:])\n",
        "#Apply PCA on word2vect then on TFID vectors\n",
        "pca_wordvect = PCA(n_components=0.8)\n",
        "pca_freq = PCA (n_components=0.8)\n",
        "pca_wordvect.fit(word2vectonly_train)\n",
        "pca_freq.fit(train_data.iloc[:,9:])\n",
        "PCA_train_w2vec = pca_wordvect.transform(word2vectonly_train)\n",
        "PCA_eval_w2vec = pca_wordvect.transform(word2vectonly_eval)\n",
        "PCA_train_freq = pca_freq.transform(train_data.iloc[:,9:])\n",
        "PCA_eval_freq = pca_freq.transform(eval_data.iloc[:,8:])\n",
        "PCA_train_df =  pd.DataFrame(data = PCA_train_w2vec).join(pd.DataFrame(data = PCA_train_freq,columns = ['s' + str(x) for x in range(len(PCA_eval_freq[0]))]))\n",
        "PCA_eval_df = pd.DataFrame(data = PCA_eval_w2vec).join(pd.DataFrame(data = PCA_eval_freq,columns = ['s' + str(x) for x in range(len(PCA_eval_freq[0]))]))"
      ]
    },
    {
      "cell_type": "code",
      "execution_count": null,
      "id": "982ed8ff",
      "metadata": {
        "id": "982ed8ff"
      },
      "outputs": [],
      "source": [
        "#combine all those vectors together and standarize data\n",
        "word2vect_train_cand = PCA_train_df.join(train_cand_raw).drop(columns=['TweetID','retweets_count'])\n",
        "word2vect_eval_cand = PCA_eval_df.join(eval_cand_raw).drop(columns=['TweetID'])\n",
        "word2vect_train_cand_normalized = (word2vect_train_cand-word2vect_train_cand.mean() )/ word2vect_train_cand.std()\n",
        "word2vect_eval_cand_normalized = (word2vect_eval_cand-word2vect_eval_cand.mean() )/ word2vect_eval_cand.std()"
      ]
    },
    {
      "cell_type": "code",
      "execution_count": null,
      "id": "9e03a9ff",
      "metadata": {
        "id": "9e03a9ff"
      },
      "outputs": [],
      "source": [
        "#setting up for NN input \n",
        "x_values_word2vect_train_cand = word2vect_train_cand_normalized.values\n",
        "y_values_word2vect_train_cand = PCA_train_df.join(train_cand_raw)['retweets_count'].values\n",
        "#setting up the test set\n",
        "x_values_word2vect_eval_cand = word2vect_eval_cand_normalized.values"
      ]
    },
    {
      "cell_type": "markdown",
      "id": "fd8bdd3b",
      "metadata": {
        "id": "fd8bdd3b"
      },
      "source": [
        "We decide to use a 5-layers NN with \"ReLu\" activation fuction as it showed the most success among the other activation functions. \n",
        "We opt also to using \"Adam\" gradient descent optimization as it was the quickest as well. \n",
        "We are using a keras Dense NN. "
      ]
    },
    {
      "cell_type": "code",
      "execution_count": null,
      "id": "a6a95b3b",
      "metadata": {
        "id": "a6a95b3b"
      },
      "outputs": [],
      "source": [
        "\n",
        "model = Sequential()\n",
        "model.add(Dense(30, input_shape=(len(x_values_word2vect_train_cand[0]),)))\n",
        "model.add(Activation('relu')) \n",
        "model.add(Dense(30))\n",
        "model.add(Activation('relu')) \n",
        "model.add(Dense(30))\n",
        "model.add(Activation('relu')) \n",
        "model.add(Dense(1))\n",
        "model.add(Activation('relu')) \n",
        "# Compile the model and calculate its accuracy:\n",
        "model.compile(loss='mean_absolute_error', optimizer='adam', metrics=['accuracy']) \n",
        "\n",
        "# Print a summary of the Keras model:\n",
        "model.summary()"
      ]
    },
    {
      "cell_type": "code",
      "execution_count": null,
      "id": "92013f45",
      "metadata": {
        "id": "92013f45"
      },
      "outputs": [],
      "source": [
        "#train the model\n",
        "model.fit(x_values_word2vect_train_cand, y_values_word2vect_train_cand, epochs=1000000, batch_size=1000)"
      ]
    },
    {
      "cell_type": "code",
      "execution_count": null,
      "id": "6124b6d0",
      "metadata": {
        "id": "6124b6d0"
      },
      "outputs": [],
      "source": [
        "#calculate predictions\n",
        "id_eval = eval_data['TweetID']\n",
        "eval_predictions = model.predict(x_values_word2vect_eval_cand)\n",
        "ids=[]\n",
        "f = open(\"predictionNNPy_cand.csv\", \"w\")\n",
        "f.write(\"TweetID,retweets_count\\n\")\n",
        "last = 0\n",
        "for i,x in enumerate(eval_predictions):\n",
        "        f.write(str(int(id_eval[i]))+\",\"+str(int(x[0]))+\"\\n\")\n",
        "f.close()"
      ]
    },
    {
      "cell_type": "markdown",
      "id": "52f3868e",
      "metadata": {
        "id": "52f3868e"
      },
      "source": []
    }
  ],
  "metadata": {
    "kernelspec": {
      "display_name": "Python 3",
      "language": "python",
      "name": "python3"
    },
    "language_info": {
      "codemirror_mode": {
        "name": "ipython",
        "version": 3
      },
      "file_extension": ".py",
      "mimetype": "text/x-python",
      "name": "python",
      "nbconvert_exporter": "python",
      "pygments_lexer": "ipython3",
      "version": "3.8.8"
    },
    "colab": {
      "provenance": [],
      "toc_visible": true
    }
  },
  "nbformat": 4,
  "nbformat_minor": 5
}